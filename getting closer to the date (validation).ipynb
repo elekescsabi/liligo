{
 "cells": [
  {
   "cell_type": "code",
   "execution_count": 2,
   "metadata": {},
   "outputs": [],
   "source": [
    "import plotly.plotly as py\n",
    "import plotly.graph_objs as graph_objs\n",
    "\n",
    "import cufflinks as cf\n",
    "\n",
    "import pandas as pd\n",
    "import numpy as np\n",
    "\n",
    "import sqlite3\n",
    "from sqlalchemy import create_engine"
   ]
  },
  {
   "cell_type": "code",
   "execution_count": null,
   "metadata": {},
   "outputs": [],
   "source": []
  },
  {
   "cell_type": "code",
   "execution_count": null,
   "metadata": {},
   "outputs": [],
   "source": []
  },
  {
   "cell_type": "code",
   "execution_count": 3,
   "metadata": {},
   "outputs": [],
   "source": [
    "engine = create_engine('sqlite:///liligo.db', echo=False)"
   ]
  },
  {
   "cell_type": "markdown",
   "metadata": {},
   "source": [
    "# Let's see how prices go up for a weekend in January\n",
    "we only have one snapshot per month, so the analysis won't be exact, and have to apply some approximations\n",
    "* first check the price of the second weekend in January (18-20), booked at different times -- one date per month from sep to dec\n",
    "* next check how the price of the consecutive weekends changes (jan 25-27 and feb 1-3)"
   ]
  },
  {
   "cell_type": "code",
   "execution_count": 33,
   "metadata": {},
   "outputs": [],
   "source": [
    "dates = [('2019-01-18', '2019-01-20'), ('2019-01-25', '2019-01-27'), ('2019-02-01', '2019-02-03')]\n",
    "months = ['jan', 'dec', 'nov', 'oct', 'sep']"
   ]
  },
  {
   "cell_type": "code",
   "execution_count": 55,
   "metadata": {},
   "outputs": [
    {
     "data": {
      "text/plain": [
       "{'2019-01-18': '1 week left',\n",
       " '2019-01-25': '2 weeks left',\n",
       " '2019-02-01': '3 weeks left'}"
      ]
     },
     "execution_count": 55,
     "metadata": {},
     "output_type": "execute_result"
    }
   ],
   "source": [
    "mapper = {'2019-01-18': '1 week left', '2019-01-25': '2 weeks left', '2019-02-01':'3 weeks left'}\n",
    "mapper"
   ]
  },
  {
   "cell_type": "markdown",
   "metadata": {},
   "source": [
    "## Booked months ahead"
   ]
  },
  {
   "cell_type": "markdown",
   "metadata": {},
   "source": [
    "### bottom percentile"
   ]
  },
  {
   "cell_type": "code",
   "execution_count": 34,
   "metadata": {},
   "outputs": [
    {
     "name": "stdout",
     "output_type": "stream",
     "text": [
      "2019-01-18 2019-01-20\n",
      "bottom 25 percentile price:  [('jan', 79.0), ('dec', 75.0), ('nov', 70.0), ('oct', 70.0), ('sep', 69.0)]\n",
      "number of listings for the weened:  [('jan', 4073), ('dec', 10148), ('nov', 14745), ('oct', 14351), ('sep', 16949)]\n",
      "\n"
     ]
    }
   ],
   "source": [
    "for (date_from, date_to) in [('2019-01-18', '2019-01-20')]:\n",
    "    q3_list = []\n",
    "    cnt_list = []\n",
    "    for month in months:\n",
    "        sql = '''\n",
    "            with cal as (\n",
    "                select listing_id, min(price_usd) as price_per_night\n",
    "                from {}\n",
    "                where 1=1\n",
    "                    and date between '{}' and '{}'\n",
    "                group by listing_id\n",
    "                having max(available) == 't'\n",
    "                    and min(available) == 't'\n",
    "                ) \n",
    "\n",
    "            select \n",
    "                price_per_night as q3_price_per_night\n",
    "            from cal\n",
    "            order by q3_price_per_night\n",
    "            limit 1\n",
    "            offset (select count(*) from cal) / 4\n",
    "        '''.format('calendar_' + month, date_from, date_to)\n",
    "        q3 = pd.read_sql_query(sql, engine)\n",
    "        q3_list.append((month, q3.loc[0, 'q3_price_per_night']))\n",
    "        \n",
    "        sql = '''\n",
    "            select count(*) as cnt\n",
    "            from (\n",
    "                select listing_id, min(price_usd) as price_per_night\n",
    "                from {}\n",
    "                where 1=1\n",
    "                    and date between '{}' and '{}'\n",
    "                group by listing_id\n",
    "                having max(available) == 't'\n",
    "                    and min(available) == 't'\n",
    "                ) \n",
    "        '''.format('calendar_' + month, date_from, date_to)\n",
    "        cnt = pd.read_sql_query(sql, engine)\n",
    "        cnt_list.append((month, cnt.loc[0, 'cnt']))\n",
    "    \n",
    "    print(date_from, date_to)\n",
    "    print('bottom 25 percentile price: ', q3_list)\n",
    "    print('number of listings for the weened: ',  cnt_list)\n",
    "    print()"
   ]
  },
  {
   "cell_type": "markdown",
   "metadata": {},
   "source": [
    "### median"
   ]
  },
  {
   "cell_type": "code",
   "execution_count": 35,
   "metadata": {},
   "outputs": [
    {
     "name": "stdout",
     "output_type": "stream",
     "text": [
      "2019-01-18 2019-01-20\n",
      "median percentile price:  [('jan', 119.0), ('dec', 104.0), ('nov', 100.0), ('oct', 100.0), ('sep', 99.0)]\n",
      "\n"
     ]
    }
   ],
   "source": [
    "for (date_from, date_to) in [('2019-01-18', '2019-01-20')]:\n",
    "    q4_list = []\n",
    "    for month in months:\n",
    "        sql = '''\n",
    "            with cal as (\n",
    "                select listing_id, min(price_usd) as price_per_night\n",
    "                from {}\n",
    "                where 1=1\n",
    "                    and date between '{}' and '{}'\n",
    "                group by listing_id\n",
    "                having max(available) == 't'\n",
    "                    and min(available) == 't'\n",
    "                ) \n",
    "\n",
    "            select \n",
    "                price_per_night as median_price_per_night\n",
    "            from cal\n",
    "            order by median_price_per_night\n",
    "            limit 1\n",
    "            offset (select count(*) from cal) / 2\n",
    "        '''.format('calendar_' + month, date_from, date_to)\n",
    "        q4 = pd.read_sql_query(sql, engine)\n",
    "        q4_list.append((month, q4.loc[0, 'median_price_per_night']))\n",
    "    \n",
    "    print(date_from, date_to)\n",
    "    print('median percentile price: ', q4_list)\n",
    "    print()"
   ]
  },
  {
   "cell_type": "markdown",
   "metadata": {},
   "source": [
    "### top percentile"
   ]
  },
  {
   "cell_type": "code",
   "execution_count": 36,
   "metadata": {},
   "outputs": [
    {
     "name": "stdout",
     "output_type": "stream",
     "text": [
      "2019-01-18 2019-01-20\n",
      "top 25 percentile price:  [('jan', 200.0), ('dec', 175.0), ('nov', 160.0), ('oct', 160.0), ('sep', 155.0)]\n",
      "\n"
     ]
    }
   ],
   "source": [
    "for (date_from, date_to) in [('2019-01-18', '2019-01-20')]:\n",
    "    q1_list = []\n",
    "    for month in months:\n",
    "        sql = '''\n",
    "            with cal as (\n",
    "                select listing_id, min(price_usd) as price_per_night\n",
    "                from {}\n",
    "                where 1=1\n",
    "                    and date between '{}' and '{}'\n",
    "                group by listing_id\n",
    "                having max(available) == 't'\n",
    "                    and min(available) == 't'\n",
    "                ) \n",
    "\n",
    "            select \n",
    "                price_per_night as q1_price_per_night\n",
    "            from cal\n",
    "            order by q1_price_per_night\n",
    "            limit 1\n",
    "            offset (select count(*) from cal) / 4 * 3\n",
    "        '''.format('calendar_' + month, date_from, date_to)\n",
    "        q1 = pd.read_sql_query(sql, engine)\n",
    "        q1_list.append((month, q1.loc[0, 'q1_price_per_night']))\n",
    "\n",
    "    \n",
    "    print(date_from, date_to)\n",
    "    print('top 25 percentile price: ', q1_list)\n",
    "    print()"
   ]
  },
  {
   "cell_type": "code",
   "execution_count": 101,
   "metadata": {},
   "outputs": [],
   "source": [
    "q3_prices = (\n",
    "    pd\n",
    "    .DataFrame([('jan', 79.0), ('dec', 75.0), ('nov', 70.0), ('oct', 70.0), ('sep', 69.0)], columns = ['month', 'q3_price_1w'])\n",
    "    .set_index('month')\n",
    ")\n",
    "#q3_prices"
   ]
  },
  {
   "cell_type": "code",
   "execution_count": 102,
   "metadata": {},
   "outputs": [],
   "source": [
    "median_prices = (\n",
    "    pd\n",
    "    .DataFrame([('jan', 119.0), ('dec', 104.0), ('nov', 100.0), ('oct', 100.0), ('sep', 99.0)], columns = ['month', 'median_price_1w'])\n",
    "    .set_index('month')\n",
    ")\n",
    "#median_prices"
   ]
  },
  {
   "cell_type": "code",
   "execution_count": 103,
   "metadata": {},
   "outputs": [],
   "source": [
    "q1_prices = (\n",
    "    pd\n",
    "    .DataFrame([('jan', 200.0), ('dec', 175.0), ('nov', 160.0), ('oct', 160.0), ('sep', 155.0)], columns = ['month', 'q1_price_1w'])\n",
    "    .set_index('month')\n",
    ")\n",
    "#q1_prices"
   ]
  },
  {
   "cell_type": "code",
   "execution_count": 104,
   "metadata": {},
   "outputs": [
    {
     "data": {
      "text/html": [
       "<div>\n",
       "<style scoped>\n",
       "    .dataframe tbody tr th:only-of-type {\n",
       "        vertical-align: middle;\n",
       "    }\n",
       "\n",
       "    .dataframe tbody tr th {\n",
       "        vertical-align: top;\n",
       "    }\n",
       "\n",
       "    .dataframe thead th {\n",
       "        text-align: right;\n",
       "    }\n",
       "</style>\n",
       "<table border=\"1\" class=\"dataframe\">\n",
       "  <thead>\n",
       "    <tr style=\"text-align: right;\">\n",
       "      <th></th>\n",
       "      <th>top 25 perc price</th>\n",
       "      <th>median price</th>\n",
       "      <th>bottom 25 perc price</th>\n",
       "    </tr>\n",
       "    <tr>\n",
       "      <th>month</th>\n",
       "      <th></th>\n",
       "      <th></th>\n",
       "      <th></th>\n",
       "    </tr>\n",
       "  </thead>\n",
       "  <tbody>\n",
       "    <tr>\n",
       "      <th>sep</th>\n",
       "      <td>155.0</td>\n",
       "      <td>99.0</td>\n",
       "      <td>69.0</td>\n",
       "    </tr>\n",
       "    <tr>\n",
       "      <th>oct</th>\n",
       "      <td>160.0</td>\n",
       "      <td>100.0</td>\n",
       "      <td>70.0</td>\n",
       "    </tr>\n",
       "    <tr>\n",
       "      <th>nov</th>\n",
       "      <td>160.0</td>\n",
       "      <td>100.0</td>\n",
       "      <td>70.0</td>\n",
       "    </tr>\n",
       "    <tr>\n",
       "      <th>dec</th>\n",
       "      <td>175.0</td>\n",
       "      <td>104.0</td>\n",
       "      <td>75.0</td>\n",
       "    </tr>\n",
       "    <tr>\n",
       "      <th>jan</th>\n",
       "      <td>200.0</td>\n",
       "      <td>119.0</td>\n",
       "      <td>79.0</td>\n",
       "    </tr>\n",
       "  </tbody>\n",
       "</table>\n",
       "</div>"
      ],
      "text/plain": [
       "       top 25 perc price  median price  bottom 25 perc price\n",
       "month                                                       \n",
       "sep                155.0          99.0                  69.0\n",
       "oct                160.0         100.0                  70.0\n",
       "nov                160.0         100.0                  70.0\n",
       "dec                175.0         104.0                  75.0\n",
       "jan                200.0         119.0                  79.0"
      ]
     },
     "execution_count": 104,
     "metadata": {},
     "output_type": "execute_result"
    }
   ],
   "source": [
    "(\n",
    "    pd.concat([\n",
    "        q1_prices.rename(columns = {'q1_price_1w': 'top 25 perc price'}),\n",
    "        median_prices.rename(columns = {'median_price_1w': 'median price'}), \n",
    "        q3_prices.rename(columns = {'q3_price_1w': 'bottom 25 perc price'}),\n",
    "    ], axis = 1, sort=False)\n",
    "    [::-1]\n",
    ")"
   ]
  },
  {
   "cell_type": "code",
   "execution_count": 105,
   "metadata": {},
   "outputs": [
    {
     "data": {
      "image/png": "[encoded data removed]",
      "text/plain": [
       "<Figure size 1152x432 with 1 Axes>"
      ]
     },
     "metadata": {
      "needs_background": "light"
     },
     "output_type": "display_data"
    }
   ],
   "source": [
    "(\n",
    "    pd.concat([\n",
    "        q1_prices.rename(columns = {'q1_price_1w': 'top 25 perc price'}),\n",
    "        median_prices.rename(columns = {'median_price_1w': 'median price'}), \n",
    "        q3_prices.rename(columns = {'q3_price_1w': 'bottom 25 perc price'}),\n",
    "    ], axis = 1, sort=False)\n",
    "    [::-1]\n",
    "    .plot(figsize = (16, 6), ylim = (0, 210), xticks = range(len(q1_prices)))\n",
    ");"
   ]
  },
  {
   "cell_type": "code",
   "execution_count": 37,
   "metadata": {},
   "outputs": [],
   "source": [
    "room_tyes = pd.read_sql_query('select id, room_type from listings', con=engine)"
   ]
  },
  {
   "cell_type": "code",
   "execution_count": 38,
   "metadata": {},
   "outputs": [],
   "source": [
    "room_tyes.to_sql('room_types', con=engine, if_exists='replace')"
   ]
  },
  {
   "cell_type": "code",
   "execution_count": 26,
   "metadata": {},
   "outputs": [
    {
     "data": {
      "text/html": [
       "<div>\n",
       "<style scoped>\n",
       "    .dataframe tbody tr th:only-of-type {\n",
       "        vertical-align: middle;\n",
       "    }\n",
       "\n",
       "    .dataframe tbody tr th {\n",
       "        vertical-align: top;\n",
       "    }\n",
       "\n",
       "    .dataframe thead th {\n",
       "        text-align: right;\n",
       "    }\n",
       "</style>\n",
       "<table border=\"1\" class=\"dataframe\">\n",
       "  <thead>\n",
       "    <tr style=\"text-align: right;\">\n",
       "      <th></th>\n",
       "      <th>room_type</th>\n",
       "      <th>cnt</th>\n",
       "    </tr>\n",
       "  </thead>\n",
       "  <tbody>\n",
       "    <tr>\n",
       "      <th>0</th>\n",
       "      <td>Entire home/apt</td>\n",
       "      <td>2742</td>\n",
       "    </tr>\n",
       "    <tr>\n",
       "      <th>1</th>\n",
       "      <td>Private room</td>\n",
       "      <td>868</td>\n",
       "    </tr>\n",
       "    <tr>\n",
       "      <th>2</th>\n",
       "      <td>Shared room</td>\n",
       "      <td>103</td>\n",
       "    </tr>\n",
       "  </tbody>\n",
       "</table>\n",
       "</div>"
      ],
      "text/plain": [
       "         room_type   cnt\n",
       "0  Entire home/apt  2742\n",
       "1     Private room   868\n",
       "2      Shared room   103"
      ]
     },
     "execution_count": 26,
     "metadata": {},
     "output_type": "execute_result"
    }
   ],
   "source": [
    "pd.read_sql_query('''\n",
    "            select\n",
    "                  rooms.room_type\n",
    "                , count(*) as cnt\n",
    "            from (\n",
    "                select listing_id\n",
    "                from calendar_jan\n",
    "                where 1=1\n",
    "                    and date between '2019-01-18' and '2019-01-20'\n",
    "                group by listing_id\n",
    "                having max(available) == 't'\n",
    "                    and min(available) == 't' \n",
    "            ) cal\n",
    "            join room_types rooms\n",
    "                on cal.listing_id = rooms.id\n",
    "            group by room_type\n",
    "        ''', engine)"
   ]
  },
  {
   "cell_type": "code",
   "execution_count": 15,
   "metadata": {},
   "outputs": [
    {
     "data": {
      "text/html": [
       "<div>\n",
       "<style scoped>\n",
       "    .dataframe tbody tr th:only-of-type {\n",
       "        vertical-align: middle;\n",
       "    }\n",
       "\n",
       "    .dataframe tbody tr th {\n",
       "        vertical-align: top;\n",
       "    }\n",
       "\n",
       "    .dataframe thead th {\n",
       "        text-align: right;\n",
       "    }\n",
       "</style>\n",
       "<table border=\"1\" class=\"dataframe\">\n",
       "  <thead>\n",
       "    <tr style=\"text-align: right;\">\n",
       "      <th></th>\n",
       "      <th>index</th>\n",
       "      <th>listing_id</th>\n",
       "      <th>date</th>\n",
       "      <th>available</th>\n",
       "      <th>minimum_nights</th>\n",
       "      <th>maximum_nights</th>\n",
       "      <th>price_usd</th>\n",
       "    </tr>\n",
       "  </thead>\n",
       "  <tbody>\n",
       "    <tr>\n",
       "      <th>0</th>\n",
       "      <td>0</td>\n",
       "      <td>2577</td>\n",
       "      <td>2019-02-05</td>\n",
       "      <td>f</td>\n",
       "      <td>3.0</td>\n",
       "      <td>1125.0</td>\n",
       "      <td>125.0</td>\n",
       "    </tr>\n",
       "  </tbody>\n",
       "</table>\n",
       "</div>"
      ],
      "text/plain": [
       "   index  listing_id        date available  minimum_nights  maximum_nights  \\\n",
       "0      0        2577  2019-02-05         f             3.0          1125.0   \n",
       "\n",
       "   price_usd  \n",
       "0      125.0  "
      ]
     },
     "execution_count": 15,
     "metadata": {},
     "output_type": "execute_result"
    }
   ],
   "source": [
    "pd.read_sql_query('select * from calendar_feb limit 1', con=engine)"
   ]
  },
  {
   "cell_type": "markdown",
   "metadata": {},
   "source": [
    "# Number of listings"
   ]
  },
  {
   "cell_type": "markdown",
   "metadata": {},
   "source": [
    "## Booked months ahead"
   ]
  },
  {
   "cell_type": "code",
   "execution_count": 54,
   "metadata": {},
   "outputs": [
    {
     "name": "stdout",
     "output_type": "stream",
     "text": [
      "number of listings for the weened:  [('booked in dec', 10148), ('booked in nov', 14745), ('booked in oct', 14351), ('booked in sep', 16949)]\n"
     ]
    }
   ],
   "source": [
    "cnt_list = []\n",
    "for month in months:\n",
    "    if month == 'jan':\n",
    "        continue\n",
    "        \n",
    "    sql = '''\n",
    "        select count(*) as cnt\n",
    "        from (\n",
    "            select listing_id, min(price_usd) as price_per_night\n",
    "            from {}\n",
    "            where 1=1\n",
    "                and date between '2019-01-18' and '2019-01-20'\n",
    "            group by listing_id\n",
    "            having max(available) == 't'\n",
    "                and min(available) == 't'\n",
    "            ) \n",
    "    '''.format('calendar_' + month)\n",
    "    cnt = pd.read_sql_query(sql, engine)\n",
    "    cnt_list.append(('booked in ' + month, cnt.loc[0, 'cnt']))\n",
    "\n",
    "print('number of listings for the weened: ',  cnt_list)"
   ]
  },
  {
   "cell_type": "markdown",
   "metadata": {},
   "source": [
    "## Different February weekeds booked on the same day in Feb"
   ]
  },
  {
   "cell_type": "code",
   "execution_count": 57,
   "metadata": {},
   "outputs": [
    {
     "name": "stdout",
     "output_type": "stream",
     "text": [
      "number of listings for the weened:  [('1 week left', 4073), ('2 weeks left', 8421), ('3 weeks left', 10193)]\n"
     ]
    }
   ],
   "source": [
    "cnt_feb = []\n",
    "for (date_from, date_to) in dates:\n",
    "    sql = '''\n",
    "        select count(*) as cnt\n",
    "        from (\n",
    "            select listing_id, min(price_usd) as price_per_night\n",
    "            from calendar_jan\n",
    "            where 1=1\n",
    "                and date between '{}' and '{}'\n",
    "            group by listing_id\n",
    "            having max(available) == 't'\n",
    "                and min(available) == 't'\n",
    "            ) \n",
    "    '''.format(date_from, date_to)\n",
    "    cnt = pd.read_sql_query(sql, engine)\n",
    "    cnt_feb.append((mapper[date_from], cnt.loc[0, 'cnt']))\n",
    "\n",
    "print('number of listings for the weened: ',  cnt_feb)"
   ]
  },
  {
   "cell_type": "code",
   "execution_count": null,
   "metadata": {},
   "outputs": [],
   "source": []
  },
  {
   "cell_type": "code",
   "execution_count": null,
   "metadata": {},
   "outputs": [],
   "source": []
  },
  {
   "cell_type": "code",
   "execution_count": 160,
   "metadata": {},
   "outputs": [
    {
     "data": {
      "image/png": "[encoded data removed]",
      "text/plain": [
       "<Figure size 1152x432 with 1 Axes>"
      ]
     },
     "metadata": {
      "needs_background": "light"
     },
     "output_type": "display_data"
    }
   ],
   "source": [
    "(\n",
    "    pd\n",
    "    .concat([\n",
    "        pd.DataFrame([('<1 week left', 4073), ('2 weeks left', 8421), ('3 weeks left', 10193)], columns = ['month', 'count']),\n",
    "        pd.DataFrame([('booked in dec', 10148), ('booked in nov', 14745), ('booked in oct', 14351), ('booked in sep', 16949)], columns = ['month', 'count'])\n",
    "        ])\n",
    "    .set_index('month')\n",
    "    [::-1]\n",
    "    .plot(kind = 'bar', figsize = (16, 6))\n",
    ");"
   ]
  },
  {
   "cell_type": "code",
   "execution_count": null,
   "metadata": {},
   "outputs": [],
   "source": []
  },
  {
   "cell_type": "code",
   "execution_count": null,
   "metadata": {},
   "outputs": [],
   "source": []
  },
  {
   "cell_type": "markdown",
   "metadata": {},
   "source": [
    "# Let's repeat the same thing for a summer weenend"
   ]
  },
  {
   "cell_type": "code",
   "execution_count": 136,
   "metadata": {},
   "outputs": [],
   "source": [
    "dates = [('2018-09-14', '2018-09-16'), ('2018-09-21', '2018-09-23'), ('2018-09-28', '2018-09-30')]\n",
    "months = ['aug', 'jul', 'jun']"
   ]
  },
  {
   "cell_type": "code",
   "execution_count": 137,
   "metadata": {},
   "outputs": [
    {
     "data": {
      "text/plain": [
       "{'2018-09-14': '<1 week left',\n",
       " '2018-09-21': '2 weeks left',\n",
       " '2018-09-28': '3 weeks left'}"
      ]
     },
     "execution_count": 137,
     "metadata": {},
     "output_type": "execute_result"
    }
   ],
   "source": [
    "mapper = {'2018-09-14': '<1 week left', '2018-09-21': '2 weeks left', '2018-09-28':'3 weeks left'}\n",
    "mapper"
   ]
  },
  {
   "cell_type": "markdown",
   "metadata": {},
   "source": [
    "## Top quartile, median and bottom quartile of the prices over time"
   ]
  },
  {
   "cell_type": "code",
   "execution_count": 138,
   "metadata": {},
   "outputs": [
    {
     "name": "stdout",
     "output_type": "stream",
     "text": [
      "bottom 25 percentile price:  [('aug', 65.0), ('jul', 65.0), ('jun', 70.0)]\n"
     ]
    }
   ],
   "source": [
    "for (date_from, date_to) in dates[:1]:\n",
    "    q3_list = []\n",
    "    cnt_list = []\n",
    "    for month in months:\n",
    "        sql = '''\n",
    "            with cal as (\n",
    "                select listing_id, min(price_usd) as price_per_night\n",
    "                from {}\n",
    "                where 1=1\n",
    "                    and date between '{}' and '{}'\n",
    "                group by listing_id\n",
    "                having max(available) == 't'\n",
    "                    and min(available) == 't'\n",
    "                ) \n",
    "\n",
    "            select \n",
    "                price_per_night as q3_price_per_night\n",
    "            from cal\n",
    "            order by q3_price_per_night\n",
    "            limit 1\n",
    "            offset (select count(*) from cal) / 4\n",
    "        '''.format('calendar_' + month, date_from, date_to)\n",
    "        q3 = pd.read_sql_query(sql, engine)\n",
    "        q3_list.append((month, q3.loc[0, 'q3_price_per_night']))\n",
    "    \n",
    "    print('bottom 25 percentile price: ', q3_list)"
   ]
  },
  {
   "cell_type": "code",
   "execution_count": 139,
   "metadata": {},
   "outputs": [
    {
     "name": "stdout",
     "output_type": "stream",
     "text": [
      "2018-09-14 2018-09-16\n",
      "median percentile price:  [('aug', 95.0), ('jul', 92.0), ('jun', 100.0)]\n",
      "\n"
     ]
    }
   ],
   "source": [
    "for (date_from, date_to) in dates[:1]:\n",
    "    q4_list = []\n",
    "    for month in months:\n",
    "        sql = '''\n",
    "            with cal as (\n",
    "                select listing_id, min(price_usd) as price_per_night\n",
    "                from {}\n",
    "                where 1=1\n",
    "                    and date between '{}' and '{}'\n",
    "                group by listing_id\n",
    "                having max(available) == 't'\n",
    "                    and min(available) == 't'\n",
    "                ) \n",
    "\n",
    "            select \n",
    "                price_per_night as median_price_per_night\n",
    "            from cal\n",
    "            order by median_price_per_night\n",
    "            limit 1\n",
    "            offset (select count(*) from cal) / 2\n",
    "        '''.format('calendar_' + month, date_from, date_to)\n",
    "        q4 = pd.read_sql_query(sql, engine)\n",
    "        q4_list.append((month, q4.loc[0, 'median_price_per_night']))\n",
    "    \n",
    "    print(date_from, date_to)\n",
    "    print('median percentile price: ', q4_list)\n",
    "    print()"
   ]
  },
  {
   "cell_type": "code",
   "execution_count": 140,
   "metadata": {},
   "outputs": [
    {
     "name": "stdout",
     "output_type": "stream",
     "text": [
      "2018-09-14 2018-09-16\n",
      "top 25 percentile price:  [('aug', 160.0), ('jul', 150.0), ('jun', 160.0)]\n",
      "\n"
     ]
    }
   ],
   "source": [
    "for (date_from, date_to) in dates[:1]:\n",
    "    q1_list = []\n",
    "    for month in months:\n",
    "        sql = '''\n",
    "            with cal as (\n",
    "                select listing_id, min(price_usd) as price_per_night\n",
    "                from {}\n",
    "                where 1=1\n",
    "                    and date between '{}' and '{}'\n",
    "                group by listing_id\n",
    "                having max(available) == 't'\n",
    "                    and min(available) == 't'\n",
    "                ) \n",
    "\n",
    "            select \n",
    "                price_per_night as q1_price_per_night\n",
    "            from cal\n",
    "            order by q1_price_per_night\n",
    "            limit 1\n",
    "            offset (select count(*) from cal) / 4 * 3\n",
    "        '''.format('calendar_' + month, date_from, date_to)\n",
    "        q1 = pd.read_sql_query(sql, engine)\n",
    "        q1_list.append((month, q1.loc[0, 'q1_price_per_night']))\n",
    "\n",
    "    \n",
    "    print(date_from, date_to)\n",
    "    print('top 25 percentile price: ', q1_list)\n",
    "    print()"
   ]
  },
  {
   "cell_type": "markdown",
   "metadata": {},
   "source": [
    "## Top quartile, median and bottom quartile of the prices of different February weekends"
   ]
  },
  {
   "cell_type": "code",
   "execution_count": 141,
   "metadata": {},
   "outputs": [
    {
     "name": "stdout",
     "output_type": "stream",
     "text": [
      "bottom 25 percentile price:  [('<1 week left', 85.0), ('2 weeks left', 80.0), ('3 weeks left', 67.0)]\n"
     ]
    }
   ],
   "source": [
    "q3_list = []\n",
    "\n",
    "for (date_from, date_to) in dates:\n",
    "    sql = '''\n",
    "        with cal as (\n",
    "            select listing_id, min(price_usd) as price_per_night\n",
    "            from {}\n",
    "            where 1=1\n",
    "                and date between '{}' and '{}'\n",
    "            group by listing_id\n",
    "            having max(available) == 't'\n",
    "                and min(available) == 't'\n",
    "            ) \n",
    "\n",
    "        select \n",
    "            price_per_night as q3_price_per_night\n",
    "        from cal\n",
    "        order by q3_price_per_night\n",
    "        limit 1\n",
    "        offset (select count(*) from cal) / 4\n",
    "    '''.format('calendar_sep', date_from, date_to)\n",
    "    q3 = pd.read_sql_query(sql, engine)\n",
    "    q3_list.append((mapper[date_from], q3.loc[0, 'q3_price_per_night']))\n",
    "    \n",
    "print('bottom 25 percentile price: ', q3_list)"
   ]
  },
  {
   "cell_type": "code",
   "execution_count": 142,
   "metadata": {},
   "outputs": [
    {
     "name": "stdout",
     "output_type": "stream",
     "text": [
      "median percentile price:  [('<1 week left', 164.0), ('2 weeks left', 142.0), ('3 weeks left', 101.0)]\n"
     ]
    }
   ],
   "source": [
    "q2_list = []\n",
    "for (date_from, date_to) in dates:\n",
    "    sql = '''\n",
    "        with cal as (\n",
    "            select listing_id, min(price_usd) as price_per_night\n",
    "            from {}\n",
    "            where 1=1\n",
    "                and date between '{}' and '{}'\n",
    "            group by listing_id\n",
    "            having max(available) == 't'\n",
    "                and min(available) == 't'\n",
    "            ) \n",
    "\n",
    "        select \n",
    "            price_per_night as median_price_per_night\n",
    "        from cal\n",
    "        order by median_price_per_night\n",
    "        limit 1\n",
    "        offset (select count(*) from cal) / 2\n",
    "    '''.format('calendar_sep', date_from, date_to)\n",
    "    q2 = pd.read_sql_query(sql, engine)\n",
    "    q2_list.append((mapper[date_from], q2.loc[0, 'median_price_per_night']))\n",
    "\n",
    "print('median percentile price: ', q2_list)"
   ]
  },
  {
   "cell_type": "code",
   "execution_count": 143,
   "metadata": {},
   "outputs": [
    {
     "name": "stdout",
     "output_type": "stream",
     "text": [
      "top 25 percentile price:  [('<1 week left', 330.0), ('2 weeks left', 280.0), ('3 weeks left', 213.0)]\n"
     ]
    }
   ],
   "source": [
    "q1_list = []\n",
    "for (date_from, date_to) in dates:\n",
    "    sql = '''\n",
    "        with cal as (\n",
    "            select listing_id, min(price_usd) as price_per_night\n",
    "            from {}\n",
    "            where 1=1\n",
    "                and date between '{}' and '{}'\n",
    "            group by listing_id\n",
    "            having max(available) == 't'\n",
    "                and min(available) == 't'\n",
    "            ) \n",
    "\n",
    "        select \n",
    "            price_per_night as q1_price_per_night\n",
    "        from cal\n",
    "        order by q1_price_per_night\n",
    "        limit 1\n",
    "        offset (select count(*) from cal) / 4 * 3\n",
    "    '''.format('calendar_sep', date_from, date_to)\n",
    "    q1 = pd.read_sql_query(sql, engine)\n",
    "    q1_list.append((mapper[date_from], q1.loc[0, 'q1_price_per_night']))\n",
    "\n",
    "print('top 25 percentile price: ', q1_list)"
   ]
  },
  {
   "cell_type": "code",
   "execution_count": 144,
   "metadata": {},
   "outputs": [],
   "source": [
    "q3_prices = (\n",
    "    pd\n",
    "    .DataFrame([('<1 week left', 85.0), ('2 weeks left', 80.0), ('3 weeks left', 67.0), ('aug', 65.0), ('jul', 65.0), ('jun', 70.0)], columns = ['month', 'bottom 25 perc price'])\n",
    "    .set_index('month')\n",
    ")\n",
    "#q3_prices"
   ]
  },
  {
   "cell_type": "code",
   "execution_count": 146,
   "metadata": {},
   "outputs": [],
   "source": [
    "median_prices = (\n",
    "    pd\n",
    "    .DataFrame([('<1 week left', 164.0), ('2 weeks left', 142.0), ('3 weeks left', 101.0), ('aug', 95.0), ('jul', 92.0), ('jun', 100.0)], columns = ['month', 'median price'])\n",
    "    .set_index('month')\n",
    ")\n",
    "#median_prices"
   ]
  },
  {
   "cell_type": "code",
   "execution_count": 145,
   "metadata": {},
   "outputs": [],
   "source": [
    "q1_prices = (\n",
    "    pd\n",
    "    .DataFrame([('<1 week left', 330.0), ('2 weeks left', 280.0), ('3 weeks left', 213.0), ('aug', 160.0), ('jul', 150.0), ('jun', 160.0)], columns = ['month', 'top 25 perc price'])\n",
    "    .set_index('month')\n",
    ")\n",
    "#q1_prices"
   ]
  },
  {
   "cell_type": "code",
   "execution_count": 147,
   "metadata": {},
   "outputs": [
    {
     "data": {
      "text/html": [
       "<div>\n",
       "<style scoped>\n",
       "    .dataframe tbody tr th:only-of-type {\n",
       "        vertical-align: middle;\n",
       "    }\n",
       "\n",
       "    .dataframe tbody tr th {\n",
       "        vertical-align: top;\n",
       "    }\n",
       "\n",
       "    .dataframe thead th {\n",
       "        text-align: right;\n",
       "    }\n",
       "</style>\n",
       "<table border=\"1\" class=\"dataframe\">\n",
       "  <thead>\n",
       "    <tr style=\"text-align: right;\">\n",
       "      <th></th>\n",
       "      <th>top 25 perc price</th>\n",
       "      <th>median price</th>\n",
       "      <th>bottom 25 perc price</th>\n",
       "    </tr>\n",
       "    <tr>\n",
       "      <th>month</th>\n",
       "      <th></th>\n",
       "      <th></th>\n",
       "      <th></th>\n",
       "    </tr>\n",
       "  </thead>\n",
       "  <tbody>\n",
       "    <tr>\n",
       "      <th>jun</th>\n",
       "      <td>160.0</td>\n",
       "      <td>100.0</td>\n",
       "      <td>70.0</td>\n",
       "    </tr>\n",
       "    <tr>\n",
       "      <th>jul</th>\n",
       "      <td>150.0</td>\n",
       "      <td>92.0</td>\n",
       "      <td>65.0</td>\n",
       "    </tr>\n",
       "    <tr>\n",
       "      <th>aug</th>\n",
       "      <td>160.0</td>\n",
       "      <td>95.0</td>\n",
       "      <td>65.0</td>\n",
       "    </tr>\n",
       "    <tr>\n",
       "      <th>3 weeks left</th>\n",
       "      <td>213.0</td>\n",
       "      <td>101.0</td>\n",
       "      <td>67.0</td>\n",
       "    </tr>\n",
       "    <tr>\n",
       "      <th>2 weeks left</th>\n",
       "      <td>280.0</td>\n",
       "      <td>142.0</td>\n",
       "      <td>80.0</td>\n",
       "    </tr>\n",
       "    <tr>\n",
       "      <th>&lt;1 week left</th>\n",
       "      <td>330.0</td>\n",
       "      <td>164.0</td>\n",
       "      <td>85.0</td>\n",
       "    </tr>\n",
       "  </tbody>\n",
       "</table>\n",
       "</div>"
      ],
      "text/plain": [
       "              top 25 perc price  median price  bottom 25 perc price\n",
       "month                                                              \n",
       "jun                       160.0         100.0                  70.0\n",
       "jul                       150.0          92.0                  65.0\n",
       "aug                       160.0          95.0                  65.0\n",
       "3 weeks left              213.0         101.0                  67.0\n",
       "2 weeks left              280.0         142.0                  80.0\n",
       "<1 week left              330.0         164.0                  85.0"
      ]
     },
     "execution_count": 147,
     "metadata": {},
     "output_type": "execute_result"
    }
   ],
   "source": [
    "(\n",
    "    pd.concat([q1_prices, median_prices, q3_prices], axis = 1, sort=False)\n",
    "    [::-1]\n",
    ")"
   ]
  },
  {
   "cell_type": "code",
   "execution_count": 151,
   "metadata": {},
   "outputs": [
    {
     "data": {
      "image/png": "[encoded data removed]",
      "text/plain": [
       "<Figure size 1152x432 with 1 Axes>"
      ]
     },
     "metadata": {
      "needs_background": "light"
     },
     "output_type": "display_data"
    }
   ],
   "source": [
    "(\n",
    "    pd.concat([q1_prices, median_prices, q3_prices], axis = 1, sort=False)\n",
    "    [::-1]\n",
    "    .plot(figsize = (16, 6), ylim = (0, 350), xticks = range(len(q1_prices)))\n",
    ");"
   ]
  },
  {
   "cell_type": "code",
   "execution_count": null,
   "metadata": {},
   "outputs": [],
   "source": []
  },
  {
   "cell_type": "markdown",
   "metadata": {},
   "source": [
    "## How do the number of listing drop"
   ]
  },
  {
   "cell_type": "code",
   "execution_count": 155,
   "metadata": {},
   "outputs": [
    {
     "name": "stdout",
     "output_type": "stream",
     "text": [
      "number of listings for the weened:  [('booked in aug', 7222), ('booked in jul', 11508), ('booked in jun', 11372)]\n"
     ]
    }
   ],
   "source": [
    "cnt_list = []\n",
    "for month in months:\n",
    "        \n",
    "    sql = '''\n",
    "        select count(*) as cnt\n",
    "        from (\n",
    "            select listing_id, min(price_usd) as price_per_night\n",
    "            from {}\n",
    "            where 1=1\n",
    "                and date between '2018-09-14' and '2018-09-16'\n",
    "            group by listing_id\n",
    "            having max(available) == 't'\n",
    "                and min(available) == 't'\n",
    "            ) \n",
    "    '''.format('calendar_' + month)\n",
    "    cnt = pd.read_sql_query(sql, engine)\n",
    "    cnt_list.append(('booked in ' + month, cnt.loc[0, 'cnt']))\n",
    "\n",
    "print('number of listings for the weened: ',  cnt_list)"
   ]
  },
  {
   "cell_type": "code",
   "execution_count": 156,
   "metadata": {},
   "outputs": [
    {
     "name": "stdout",
     "output_type": "stream",
     "text": [
      "number of listings for the weened:  [('<1 week left', 1524), ('2 weeks left', 2269), ('3 weeks left', 2022)]\n"
     ]
    }
   ],
   "source": [
    "cnt_feb = []\n",
    "for (date_from, date_to) in dates:\n",
    "    sql = '''\n",
    "        select count(*) as cnt\n",
    "        from (\n",
    "            select listing_id, min(price_usd) as price_per_night\n",
    "            from calendar_sep\n",
    "            where 1=1\n",
    "                and date between '{}' and '{}'\n",
    "            group by listing_id\n",
    "            having max(available) == 't'\n",
    "                and min(available) == 't'\n",
    "            ) \n",
    "    '''.format(date_from, date_to)\n",
    "    cnt = pd.read_sql_query(sql, engine)\n",
    "    cnt_feb.append((mapper[date_from], cnt.loc[0, 'cnt']))\n",
    "\n",
    "print('number of listings for the weened: ',  cnt_feb)"
   ]
  },
  {
   "cell_type": "code",
   "execution_count": 161,
   "metadata": {},
   "outputs": [
    {
     "data": {
      "image/png": "[encoded data removed]",
      "text/plain": [
       "<Figure size 1152x432 with 1 Axes>"
      ]
     },
     "metadata": {
      "needs_background": "light"
     },
     "output_type": "display_data"
    }
   ],
   "source": [
    "(\n",
    "    pd\n",
    "    .concat([\n",
    "        pd.DataFrame([('<1 week left', 1524), ('2 weeks left', 2269), ('3 weeks left', 2022)], columns = ['month', 'count']),\n",
    "        pd.DataFrame([('booked in aug', 7222), ('booked in jul', 11508), ('booked in jun', 11372)], columns = ['month', 'count'])\n",
    "        ])\n",
    "    .set_index('month')\n",
    "    [::-1]\n",
    "    .plot(kind = 'bar', figsize = (16, 6), title = 'Options run out pretty brutally if you book a weekend late in the summer')\n",
    ");"
   ]
  },
  {
   "cell_type": "code",
   "execution_count": 159,
   "metadata": {},
   "outputs": [
    {
     "data": {
      "text/html": [
       "<div>\n",
       "<style scoped>\n",
       "    .dataframe tbody tr th:only-of-type {\n",
       "        vertical-align: middle;\n",
       "    }\n",
       "\n",
       "    .dataframe tbody tr th {\n",
       "        vertical-align: top;\n",
       "    }\n",
       "\n",
       "    .dataframe thead th {\n",
       "        text-align: right;\n",
       "    }\n",
       "</style>\n",
       "<table border=\"1\" class=\"dataframe\">\n",
       "  <thead>\n",
       "    <tr style=\"text-align: right;\">\n",
       "      <th></th>\n",
       "      <th>count</th>\n",
       "    </tr>\n",
       "    <tr>\n",
       "      <th>month</th>\n",
       "      <th></th>\n",
       "    </tr>\n",
       "  </thead>\n",
       "  <tbody>\n",
       "    <tr>\n",
       "      <th>booked in jun</th>\n",
       "      <td>11372</td>\n",
       "    </tr>\n",
       "    <tr>\n",
       "      <th>booked in jul</th>\n",
       "      <td>11508</td>\n",
       "    </tr>\n",
       "    <tr>\n",
       "      <th>booked in aug</th>\n",
       "      <td>7222</td>\n",
       "    </tr>\n",
       "    <tr>\n",
       "      <th>3 weeks left</th>\n",
       "      <td>2022</td>\n",
       "    </tr>\n",
       "    <tr>\n",
       "      <th>2 weeks left</th>\n",
       "      <td>2269</td>\n",
       "    </tr>\n",
       "    <tr>\n",
       "      <th>&lt;1 week left</th>\n",
       "      <td>1524</td>\n",
       "    </tr>\n",
       "  </tbody>\n",
       "</table>\n",
       "</div>"
      ],
      "text/plain": [
       "               count\n",
       "month               \n",
       "booked in jun  11372\n",
       "booked in jul  11508\n",
       "booked in aug   7222\n",
       "3 weeks left    2022\n",
       "2 weeks left    2269\n",
       "<1 week left    1524"
      ]
     },
     "execution_count": 159,
     "metadata": {},
     "output_type": "execute_result"
    }
   ],
   "source": [
    "(\n",
    "    pd\n",
    "    .concat([\n",
    "        pd.DataFrame([('<1 week left', 1524), ('2 weeks left', 2269), ('3 weeks left', 2022)], columns = ['month', 'count']),\n",
    "        pd.DataFrame([('booked in aug', 7222), ('booked in jul', 11508), ('booked in jun', 11372)], columns = ['month', 'count'])\n",
    "        ])\n",
    "    .set_index('month')\n",
    "    [::-1]\n",
    ")"
   ]
  },
  {
   "cell_type": "markdown",
   "metadata": {},
   "source": [
    "# Instant bookable\n",
    "Same approach as above, let's see how the ratio of \"instant bookable\" places changes over time for a weekend in January and September"
   ]
  },
  {
   "cell_type": "markdown",
   "metadata": {},
   "source": [
    "## January"
   ]
  },
  {
   "cell_type": "code",
   "execution_count": 108,
   "metadata": {},
   "outputs": [],
   "source": [
    "dates = [('2019-01-18', '2019-01-20'), ('2019-01-25', '2019-01-27'), ('2019-02-01', '2019-02-03')]\n",
    "months = ['jan', 'dec', 'nov', 'oct', 'sep']"
   ]
  },
  {
   "cell_type": "code",
   "execution_count": 115,
   "metadata": {},
   "outputs": [
    {
     "data": {
      "text/plain": [
       "{'2019-01-18': '<1 week left',\n",
       " '2019-01-25': '2 weeks left',\n",
       " '2019-02-01': '3 weeks left'}"
      ]
     },
     "execution_count": 115,
     "metadata": {},
     "output_type": "execute_result"
    }
   ],
   "source": [
    "mapper = {'2019-01-18': '<1 week left', '2019-01-25': '2 weeks left', '2019-02-01':'3 weeks left'}\n",
    "mapper"
   ]
  },
  {
   "cell_type": "code",
   "execution_count": 112,
   "metadata": {},
   "outputs": [
    {
     "name": "stdout",
     "output_type": "stream",
     "text": [
      "instant bookable (f, t):  [('booked in jan', 2862, 1211), ('booked in dec', 6483, 3665), ('booked in nov', 9639, 5106), ('booked in oct', 9144, 5207), ('booked in sep', 11018, 5931)]\n"
     ]
    }
   ],
   "source": [
    "instant_list = []\n",
    "for month in months:\n",
    "    if month == 'feb':\n",
    "        continue\n",
    "    sql = '''\n",
    "        select instant_bookable, count(*) as cnt\n",
    "        from (\n",
    "            select listing_id, min(price_usd) as price_per_night\n",
    "            from {}\n",
    "            where 1=1\n",
    "                and date between '2019-01-18' and '2019-01-20'\n",
    "            group by listing_id\n",
    "            having max(available) == 't'\n",
    "                and min(available) == 't'\n",
    "            ) listings\n",
    "        join {} inst\n",
    "            on listings.listing_id = inst.id\n",
    "        group by instant_bookable\n",
    "        order by instant_bookable\n",
    "    '''.format('calendar_' + month, 'instant_' + month)\n",
    "    df = pd.read_sql_query(sql, engine)\n",
    "    instant_list.append(('booked in ' + month, df.loc[0, 'cnt'], df.loc[1, 'cnt']))\n",
    "\n",
    "print('instant bookable (f, t): ',  instant_list)"
   ]
  },
  {
   "cell_type": "code",
   "execution_count": 116,
   "metadata": {},
   "outputs": [
    {
     "name": "stdout",
     "output_type": "stream",
     "text": [
      "instant bookable (f, t):  [('<1 week left', 2625, 1088), ('2 weeks left', 4767, 2999), ('3 weeks left', 5786, 3631)]\n"
     ]
    }
   ],
   "source": [
    "instant_feb = []\n",
    "for (date_from, date_to) in dates:\n",
    "    sql = '''\n",
    "        select instant_bookable, count(*) as cnt\n",
    "        from (\n",
    "            select listing_id, min(price_usd) as price_per_night\n",
    "            from {}\n",
    "            where 1=1\n",
    "                and date between '{}' and '{}'\n",
    "            group by listing_id\n",
    "            having max(available) == 't'\n",
    "                and min(available) == 't'\n",
    "            ) listings\n",
    "        join instant inst\n",
    "            on listings.listing_id = inst.id\n",
    "        group by instant_bookable\n",
    "        order by instant_bookable\n",
    "    '''.format('calendar_jan', date_from, date_to)\n",
    "    df = pd.read_sql_query(sql, engine)\n",
    "    instant_feb.append((mapper[date_from], df.loc[0, 'cnt'], df.loc[1, 'cnt']))\n",
    "\n",
    "print('instant bookable (f, t): ',  instant_feb)"
   ]
  },
  {
   "cell_type": "code",
   "execution_count": 134,
   "metadata": {},
   "outputs": [
    {
     "data": {
      "image/png": "[encoded data removed]",
      "text/plain": [
       "<Figure size 1152x432 with 1 Axes>"
      ]
     },
     "metadata": {
      "needs_background": "light"
     },
     "output_type": "display_data"
    }
   ],
   "source": [
    "(\n",
    "    pd\n",
    "    .concat([\n",
    "        pd.DataFrame([('<1 week left', 2625, 1088), ('2 weeks left', 4767, 2999), ('3 weeks left', 5786, 3631)], columns = ['month', 'f', 't']),\n",
    "        pd.DataFrame([('booked in dec', 6483, 3665), ('booked in nov', 9639, 5106), ('booked in oct', 9144, 5207), ('booked in sep', 11018, 5931)], columns = ['month', 'f', 't'])\n",
    "        ])\n",
    "    .set_index('month')\n",
    "    [::-1]\n",
    "    .assign(prop = lambda x: x.t / (x.t + x.f))\n",
    "    .plot(y = 'prop', ylim = (0.2, 0.5), title = '\"Instant bookable\" places popular when time is running short', xticks = range(7), figsize = (16, 6))\n",
    "           \n",
    ");"
   ]
  },
  {
   "cell_type": "markdown",
   "metadata": {},
   "source": [
    "## Septermber"
   ]
  },
  {
   "cell_type": "code",
   "execution_count": 128,
   "metadata": {},
   "outputs": [],
   "source": [
    "dates = [('2018-09-14', '2018-09-16'), ('2018-09-21', '2018-09-23'), ('2018-09-28', '2018-09-30')]\n",
    "months = ['aug', 'jul', 'jun']"
   ]
  },
  {
   "cell_type": "code",
   "execution_count": 122,
   "metadata": {},
   "outputs": [
    {
     "data": {
      "text/plain": [
       "{'2018-09-14': '<1 week left',\n",
       " '2018-09-21': '2 weeks left',\n",
       " '2018-09-28': '3 weeks left'}"
      ]
     },
     "execution_count": 122,
     "metadata": {},
     "output_type": "execute_result"
    }
   ],
   "source": [
    "mapper = {'2018-09-14': '<1 week left', '2018-09-21': '2 weeks left', '2018-09-28':'3 weeks left'}\n",
    "mapper"
   ]
  },
  {
   "cell_type": "code",
   "execution_count": 124,
   "metadata": {},
   "outputs": [
    {
     "name": "stdout",
     "output_type": "stream",
     "text": [
      "instant bookable (f, t):  [('booked in aug', 5152, 2070), ('booked in jul', 8255, 3253), ('booked in jun', 7923, 3449)]\n"
     ]
    }
   ],
   "source": [
    "instant_list = []\n",
    "for month in months:\n",
    "    if month == 'feb':\n",
    "        continue\n",
    "    sql = '''\n",
    "        select instant_bookable, count(*) as cnt\n",
    "        from (\n",
    "            select listing_id, min(price_usd) as price_per_night\n",
    "            from {}\n",
    "            where 1=1\n",
    "                and date between '2018-09-14' and '2018-09-16'\n",
    "            group by listing_id\n",
    "            having max(available) == 't'\n",
    "                and min(available) == 't'\n",
    "            ) listings\n",
    "        join {} inst\n",
    "            on listings.listing_id = inst.id\n",
    "        group by instant_bookable\n",
    "        order by instant_bookable\n",
    "    '''.format('calendar_' + month, 'instant_' + month)\n",
    "    df = pd.read_sql_query(sql, engine)\n",
    "    instant_list.append(('booked in ' + month, df.loc[0, 'cnt'], df.loc[1, 'cnt']))\n",
    "\n",
    "print('instant bookable (f, t): ',  instant_list)"
   ]
  },
  {
   "cell_type": "code",
   "execution_count": 129,
   "metadata": {},
   "outputs": [
    {
     "name": "stdout",
     "output_type": "stream",
     "text": [
      "instant bookable (f, t):  [('<1 week left', 710, 269), ('2 weeks left', 990, 493), ('3 weeks left', 924, 327)]\n"
     ]
    }
   ],
   "source": [
    "instant_feb = []\n",
    "for (date_from, date_to) in dates:\n",
    "    sql = '''\n",
    "        select instant_bookable, count(*) as cnt\n",
    "        from (\n",
    "            select listing_id, min(price_usd) as price_per_night\n",
    "            from {}\n",
    "            where 1=1\n",
    "                and date between '{}' and '{}'\n",
    "            group by listing_id\n",
    "            having max(available) == 't'\n",
    "                and min(available) == 't'\n",
    "            ) listings\n",
    "        join instant inst\n",
    "            on listings.listing_id = inst.id\n",
    "        group by instant_bookable\n",
    "        order by instant_bookable\n",
    "    '''.format('calendar_sep', date_from, date_to)\n",
    "    df = pd.read_sql_query(sql, engine)\n",
    "    instant_feb.append((mapper[date_from], df.loc[0, 'cnt'], df.loc[1, 'cnt']))\n",
    "\n",
    "print('instant bookable (f, t): ',  instant_feb)"
   ]
  },
  {
   "cell_type": "code",
   "execution_count": 132,
   "metadata": {},
   "outputs": [
    {
     "data": {
      "image/png": "[encoded data removed]",
      "text/plain": [
       "<Figure size 1152x432 with 1 Axes>"
      ]
     },
     "metadata": {
      "needs_background": "light"
     },
     "output_type": "display_data"
    }
   ],
   "source": [
    "(\n",
    "    pd\n",
    "    .concat([\n",
    "        pd.DataFrame([('<1 week left', 710, 269), ('2 weeks left', 990, 493), ('3 weeks left', 924, 327)], columns = ['month', 'f', 't']),\n",
    "        pd.DataFrame([('booked in aug', 5152, 2070), ('booked in jul', 8255, 3253), ('booked in jun', 7923, 3449)], columns = ['month', 'f', 't'])\n",
    "        ])\n",
    "    .set_index('month')\n",
    "    [::-1]\n",
    "    .assign(prop = lambda x: x.t / (x.t + x.f))\n",
    "    .plot(y = 'prop', ylim = (0.2, 0.5), title = '\"Instant bookable\" places popular when time is running short', xticks = range(6), figsize = (16, 6))\n",
    "           \n",
    ");"
   ]
  },
  {
   "cell_type": "markdown",
   "metadata": {},
   "source": [
    "# Some more sanity checks for the price trends\n",
    "Do the trends hold even for the different room types?  \n",
    "\n",
    "Considering the trends (entire apartments are more popular) of the median, top and bottom quartile of the prices, **it turns out that everything checks out**"
   ]
  },
  {
   "cell_type": "code",
   "execution_count": 28,
   "metadata": {},
   "outputs": [],
   "source": [
    "medians = pd.DataFrame(columns = ['Entire home/apt', 'Private room', 'Shared room'])\n",
    "for month in months[::-1]:\n",
    "    if month == 'feb':\n",
    "        continue\n",
    "    medians = medians.append(\n",
    "        pd\n",
    "        .read_sql_query('''\n",
    "                    select room_type, listing_id, min(price_usd) as price_per_night\n",
    "                    from {} cal\n",
    "                    join room_types rooms\n",
    "                        on cal.listing_id = rooms.id\n",
    "                    where 1=1\n",
    "                        and date between '{}' and '{}'\n",
    "                        and room_type != 'Shared room'\n",
    "                    group by listing_id, room_type\n",
    "                    having max(available) == 't'\n",
    "                        and min(available) == 't'\n",
    "        '''.format('calendar_' + month, '2019-02-08', '2019-02-10'), con=engine)\n",
    "        .pivot(index = 'listing_id', columns = 'room_type', values = 'price_per_night')\n",
    "        .median()\n",
    "        .to_frame()\n",
    "        .rename(columns = {0: 'booked in ' + month})\n",
    "        .T\n",
    "    , sort=False\n",
    "    )"
   ]
  },
  {
   "cell_type": "code",
   "execution_count": 29,
   "metadata": {},
   "outputs": [],
   "source": [
    "mapper = {'2019-02-08': '<1 week left', '2019-02-15': '2 weeks left', '2019-02-22': '3 weeks left'}"
   ]
  },
  {
   "cell_type": "code",
   "execution_count": 30,
   "metadata": {},
   "outputs": [],
   "source": [
    "for (date_from, date_to) in dates[::-1]:\n",
    "    medians = medians.append(\n",
    "        pd\n",
    "        .read_sql_query('''\n",
    "                    select room_type, listing_id, min(price_usd) as price_per_night\n",
    "                    from {} cal\n",
    "                    join room_types rooms\n",
    "                        on cal.listing_id = rooms.id\n",
    "                    where 1=1\n",
    "                        and date between '{}' and '{}'\n",
    "                        and room_type != 'Shared room'\n",
    "                    group by listing_id, room_type\n",
    "                    having max(available) == 't'\n",
    "                        and min(available) == 't'\n",
    "        '''.format('calendar_feb', date_from, date_to), con=engine)\n",
    "        .pivot(index = 'listing_id', columns = 'room_type', values = 'price_per_night')\n",
    "        .median()\n",
    "        .to_frame()\n",
    "        .rename(columns = {0: mapper[date_from]})\n",
    "        .T\n",
    "    , sort=False)"
   ]
  },
  {
   "cell_type": "code",
   "execution_count": 31,
   "metadata": {},
   "outputs": [
    {
     "data": {
      "text/html": [
       "<iframe id=\"igraph\" scrolling=\"no\" style=\"border:none;\" seamless=\"seamless\" src=\"https://plot.ly/~csabi.elekes/60.embed\" height=\"525px\" width=\"100%\"></iframe>"
      ],
      "text/plain": [
       "<plotly.tools.PlotlyDisplay object>"
      ]
     },
     "execution_count": 31,
     "metadata": {},
     "output_type": "execute_result"
    }
   ],
   "source": [
    "(\n",
    "    medians\n",
    "    .iplot(filename = 'paris_median_price_per_room_type', \n",
    "           mode = 'lines+markers',\n",
    "           layout = graph_objs.Layout(yaxis = dict(range = (0, 150), tickformat = '$.0f'), \n",
    "                                      hovermode = 'closest',\n",
    "                                      title = '<b>Median price is surprisingly stable as the date comes closer</b><br>Nightly price for a February weekend in Paris booked at different times'\n",
    "                                     )\n",
    "          )\n",
    ")"
   ]
  },
  {
   "cell_type": "code",
   "execution_count": null,
   "metadata": {},
   "outputs": [],
   "source": []
  },
  {
   "cell_type": "code",
   "execution_count": null,
   "metadata": {},
   "outputs": [],
   "source": []
  },
  {
   "cell_type": "code",
   "execution_count": 32,
   "metadata": {},
   "outputs": [],
   "source": [
    "low_quartile = pd.DataFrame(columns = ['Entire home/apt', 'Private room', 'Shared room'])\n",
    "for month in months[::-1]:\n",
    "    if month == 'feb':\n",
    "        continue\n",
    "    low_quartile = low_quartile.append(\n",
    "        pd\n",
    "        .read_sql_query('''\n",
    "                    select room_type, listing_id, min(price_usd) as price_per_night\n",
    "                    from {} cal\n",
    "                    join room_types rooms\n",
    "                        on cal.listing_id = rooms.id\n",
    "                    where 1=1\n",
    "                        and date between '{}' and '{}'\n",
    "                        and room_type != 'Shared room'\n",
    "                    group by listing_id, room_type\n",
    "                    having max(available) == 't'\n",
    "                        and min(available) == 't'\n",
    "        '''.format('calendar_' + month, '2019-02-08', '2019-02-10'), con=engine)\n",
    "        .pivot(index = 'listing_id', columns = 'room_type', values = 'price_per_night')\n",
    "        .quantile(.25)\n",
    "        .to_frame()\n",
    "        .rename(columns = {0.25: 'booked in ' + month})\n",
    "        .T\n",
    "    , sort=False\n",
    "    )"
   ]
  },
  {
   "cell_type": "code",
   "execution_count": 33,
   "metadata": {},
   "outputs": [],
   "source": [
    "for (date_from, date_to) in dates[::-1]:\n",
    "    low_quartile = low_quartile.append(\n",
    "        pd\n",
    "        .read_sql_query('''\n",
    "                    select room_type, listing_id, min(price_usd) as price_per_night\n",
    "                    from {} cal\n",
    "                    join room_types rooms\n",
    "                        on cal.listing_id = rooms.id\n",
    "                    where 1=1\n",
    "                        and date between '{}' and '{}'\n",
    "                        and room_type != 'Shared room'\n",
    "                    group by listing_id, room_type\n",
    "                    having max(available) == 't'\n",
    "                        and min(available) == 't'\n",
    "        '''.format('calendar_feb', date_from, date_to), con=engine)\n",
    "        .pivot(index = 'listing_id', columns = 'room_type', values = 'price_per_night')\n",
    "        .quantile(.25)\n",
    "        .to_frame()\n",
    "        .rename(columns = {0.25: mapper[date_from]})\n",
    "        .T\n",
    "    , sort=False\n",
    "    )"
   ]
  },
  {
   "cell_type": "code",
   "execution_count": 34,
   "metadata": {},
   "outputs": [
    {
     "data": {
      "text/html": [
       "<iframe id=\"igraph\" scrolling=\"no\" style=\"border:none;\" seamless=\"seamless\" src=\"https://plot.ly/~csabi.elekes/62.embed\" height=\"525px\" width=\"100%\"></iframe>"
      ],
      "text/plain": [
       "<plotly.tools.PlotlyDisplay object>"
      ]
     },
     "execution_count": 34,
     "metadata": {},
     "output_type": "execute_result"
    }
   ],
   "source": [
    "(\n",
    "    low_quartile\n",
    "    .iplot(filename = 'paris_q1_price_per_room_type', \n",
    "           mode = 'lines+markers',\n",
    "           layout = graph_objs.Layout(yaxis = dict(range = (0, 100), tickformat = '$.0f'), \n",
    "                                      hovermode = 'closest',\n",
    "                                      title = '<b>Bottom 25 percentile price goes up 10% over time</b><br>Nightly price for a February weekend in Paris booked at different times'\n",
    "                                     )\n",
    "          )\n",
    ")"
   ]
  },
  {
   "cell_type": "code",
   "execution_count": null,
   "metadata": {},
   "outputs": [],
   "source": []
  },
  {
   "cell_type": "code",
   "execution_count": 67,
   "metadata": {},
   "outputs": [
    {
     "data": {
      "text/html": [
       "<div>\n",
       "<style scoped>\n",
       "    .dataframe tbody tr th:only-of-type {\n",
       "        vertical-align: middle;\n",
       "    }\n",
       "\n",
       "    .dataframe tbody tr th {\n",
       "        vertical-align: top;\n",
       "    }\n",
       "\n",
       "    .dataframe thead th {\n",
       "        text-align: right;\n",
       "    }\n",
       "</style>\n",
       "<table border=\"1\" class=\"dataframe\">\n",
       "  <thead>\n",
       "    <tr style=\"text-align: right;\">\n",
       "      <th></th>\n",
       "      <th>Entire home/apt</th>\n",
       "      <th>Private room</th>\n",
       "      <th>Shared room</th>\n",
       "    </tr>\n",
       "  </thead>\n",
       "  <tbody>\n",
       "    <tr>\n",
       "      <th>0</th>\n",
       "      <td>153.340733</td>\n",
       "      <td>126.819730</td>\n",
       "      <td>NaN</td>\n",
       "    </tr>\n",
       "    <tr>\n",
       "      <th>0</th>\n",
       "      <td>160.458400</td>\n",
       "      <td>129.511640</td>\n",
       "      <td>NaN</td>\n",
       "    </tr>\n",
       "    <tr>\n",
       "      <th>0</th>\n",
       "      <td>165.976016</td>\n",
       "      <td>130.903509</td>\n",
       "      <td>NaN</td>\n",
       "    </tr>\n",
       "    <tr>\n",
       "      <th>0</th>\n",
       "      <td>164.102659</td>\n",
       "      <td>126.181939</td>\n",
       "      <td>NaN</td>\n",
       "    </tr>\n",
       "    <tr>\n",
       "      <th>0</th>\n",
       "      <td>173.024010</td>\n",
       "      <td>131.934704</td>\n",
       "      <td>NaN</td>\n",
       "    </tr>\n",
       "  </tbody>\n",
       "</table>\n",
       "</div>"
      ],
      "text/plain": [
       "   Entire home/apt  Private room Shared room\n",
       "0       153.340733    126.819730         NaN\n",
       "0       160.458400    129.511640         NaN\n",
       "0       165.976016    130.903509         NaN\n",
       "0       164.102659    126.181939         NaN\n",
       "0       173.024010    131.934704         NaN"
      ]
     },
     "execution_count": 67,
     "metadata": {},
     "output_type": "execute_result"
    }
   ],
   "source": [
    "med = pd.DataFrame(columns = ['Entire home/apt', 'Private room', 'Shared room'])\n",
    "for month in months[::-1]:\n",
    "    if month == 'feb':\n",
    "        continue\n",
    "    med = med.append(\n",
    "        pd\n",
    "        .read_sql_query('''\n",
    "                    select room_type, listing_id, min(price_usd) as price_per_night\n",
    "                    from {} cal\n",
    "                    join room_types rooms\n",
    "                        on cal.listing_id = rooms.id\n",
    "                    where 1=1\n",
    "                        and date between '{}' and '{}'\n",
    "                        and room_type != 'Shared room'\n",
    "                    group by listing_id, room_type\n",
    "                    having max(available) == 't'\n",
    "                        and min(available) == 't'\n",
    "        '''.format('calendar_' + month, '2019-02-08', '2019-02-10'), con=engine)\n",
    "        .pivot(index = 'listing_id', columns = 'room_type', values = 'price_per_night')\n",
    "        .mean()\n",
    "        .to_frame()\n",
    "        .rename(columns = {0.5: 'booked in ' + month})\n",
    "        .T\n",
    "    , sort=False\n",
    "    )\n",
    "med"
   ]
  },
  {
   "cell_type": "code",
   "execution_count": 60,
   "metadata": {},
   "outputs": [],
   "source": [
    "high_quartile = pd.DataFrame(columns = ['Entire home/apt', 'Private room', 'Shared room'])\n",
    "for month in months[::-1]:\n",
    "    if month == 'feb':\n",
    "        continue\n",
    "    high_quartile = high_quartile.append(\n",
    "        pd\n",
    "        .read_sql_query('''\n",
    "                    select room_type, listing_id, min(price_usd) as price_per_night\n",
    "                    from {} cal\n",
    "                    join room_types rooms\n",
    "                        on cal.listing_id = rooms.id\n",
    "                    where 1=1\n",
    "                        and date between '{}' and '{}'\n",
    "                        and room_type != 'Shared room'\n",
    "                    group by listing_id, room_type\n",
    "                    having max(available) == 't'\n",
    "                        and min(available) == 't'\n",
    "        '''.format('calendar_' + month, '2019-02-08', '2019-02-10'), con=engine)\n",
    "        .pivot(index = 'listing_id', columns = 'room_type', values = 'price_per_night')\n",
    "        .quantile(.75)\n",
    "        .to_frame()\n",
    "        .rename(columns = {0.75: 'booked in ' + month})\n",
    "        .T\n",
    "    , sort=False\n",
    "    )"
   ]
  },
  {
   "cell_type": "code",
   "execution_count": 61,
   "metadata": {},
   "outputs": [],
   "source": [
    "for (date_from, date_to) in dates[::-1]:\n",
    "    high_quartile = high_quartile.append(\n",
    "        pd\n",
    "        .read_sql_query('''\n",
    "                    select room_type, listing_id, min(price_usd) as price_per_night\n",
    "                    from {} cal\n",
    "                    join room_types rooms\n",
    "                        on cal.listing_id = rooms.id\n",
    "                    where 1=1\n",
    "                        and date between '{}' and '{}'\n",
    "                        and room_type != 'Shared room'\n",
    "                    group by listing_id, room_type\n",
    "                    having max(available) == 't'\n",
    "                        and min(available) == 't'\n",
    "        '''.format('calendar_feb', date_from, date_to), con=engine)\n",
    "        .pivot(index = 'listing_id', columns = 'room_type', values = 'price_per_night')\n",
    "        .quantile(.75)\n",
    "        .to_frame()\n",
    "        .rename(columns = {0.75: mapper[date_from]})\n",
    "        .T\n",
    "    , sort=False\n",
    "    )"
   ]
  },
  {
   "cell_type": "code",
   "execution_count": 62,
   "metadata": {},
   "outputs": [
    {
     "data": {
      "text/html": [
       "<div>\n",
       "<style scoped>\n",
       "    .dataframe tbody tr th:only-of-type {\n",
       "        vertical-align: middle;\n",
       "    }\n",
       "\n",
       "    .dataframe tbody tr th {\n",
       "        vertical-align: top;\n",
       "    }\n",
       "\n",
       "    .dataframe thead th {\n",
       "        text-align: right;\n",
       "    }\n",
       "</style>\n",
       "<table border=\"1\" class=\"dataframe\">\n",
       "  <thead>\n",
       "    <tr style=\"text-align: right;\">\n",
       "      <th></th>\n",
       "      <th>Entire home/apt</th>\n",
       "      <th>Private room</th>\n",
       "      <th>Shared room</th>\n",
       "    </tr>\n",
       "  </thead>\n",
       "  <tbody>\n",
       "    <tr>\n",
       "      <th>booked in sep</th>\n",
       "      <td>170.0</td>\n",
       "      <td>129.00</td>\n",
       "      <td>NaN</td>\n",
       "    </tr>\n",
       "    <tr>\n",
       "      <th>booked in oct</th>\n",
       "      <td>180.0</td>\n",
       "      <td>140.00</td>\n",
       "      <td>NaN</td>\n",
       "    </tr>\n",
       "    <tr>\n",
       "      <th>booked in nov</th>\n",
       "      <td>183.0</td>\n",
       "      <td>147.75</td>\n",
       "      <td>NaN</td>\n",
       "    </tr>\n",
       "    <tr>\n",
       "      <th>booked in dec</th>\n",
       "      <td>180.0</td>\n",
       "      <td>136.50</td>\n",
       "      <td>NaN</td>\n",
       "    </tr>\n",
       "    <tr>\n",
       "      <th>booked in jan</th>\n",
       "      <td>185.0</td>\n",
       "      <td>145.00</td>\n",
       "      <td>NaN</td>\n",
       "    </tr>\n",
       "    <tr>\n",
       "      <th>3 weeks left</th>\n",
       "      <td>190.0</td>\n",
       "      <td>145.75</td>\n",
       "      <td>NaN</td>\n",
       "    </tr>\n",
       "    <tr>\n",
       "      <th>2 weeks left</th>\n",
       "      <td>200.0</td>\n",
       "      <td>143.00</td>\n",
       "      <td>NaN</td>\n",
       "    </tr>\n",
       "    <tr>\n",
       "      <th>&lt;1 week left</th>\n",
       "      <td>200.0</td>\n",
       "      <td>149.00</td>\n",
       "      <td>NaN</td>\n",
       "    </tr>\n",
       "  </tbody>\n",
       "</table>\n",
       "</div>"
      ],
      "text/plain": [
       "               Entire home/apt  Private room Shared room\n",
       "booked in sep            170.0        129.00         NaN\n",
       "booked in oct            180.0        140.00         NaN\n",
       "booked in nov            183.0        147.75         NaN\n",
       "booked in dec            180.0        136.50         NaN\n",
       "booked in jan            185.0        145.00         NaN\n",
       "3 weeks left             190.0        145.75         NaN\n",
       "2 weeks left             200.0        143.00         NaN\n",
       "<1 week left             200.0        149.00         NaN"
      ]
     },
     "execution_count": 62,
     "metadata": {},
     "output_type": "execute_result"
    }
   ],
   "source": [
    "high_quartile"
   ]
  },
  {
   "cell_type": "code",
   "execution_count": 64,
   "metadata": {},
   "outputs": [
    {
     "data": {
      "text/html": [
       "<iframe id=\"igraph\" scrolling=\"no\" style=\"border:none;\" seamless=\"seamless\" src=\"https://plot.ly/~csabi.elekes/72.embed\" height=\"525px\" width=\"100%\"></iframe>"
      ],
      "text/plain": [
       "<plotly.tools.PlotlyDisplay object>"
      ]
     },
     "execution_count": 64,
     "metadata": {},
     "output_type": "execute_result"
    }
   ],
   "source": [
    "(\n",
    "    high_quartile\n",
    "    .iplot(filename = 'paris_q3_price_per_room_type', \n",
    "           mode = 'lines+markers',\n",
    "           layout = graph_objs.Layout(yaxis = dict(range = (0, 210), tickformat = '$.0f'), \n",
    "                                      hovermode = 'closest',\n",
    "                                      title = '<b>Top 25 percentile price goes up 10% over time</b><br>Nightly price for a February weekend in Paris booked at different times'\n",
    "                                     )\n",
    "          )\n",
    ")"
   ]
  }
 ],
 "metadata": {
  "kernelspec": {
   "display_name": "Python 3",
   "language": "python",
   "name": "python3"
  },
  "language_info": {
   "codemirror_mode": {
    "name": "ipython",
    "version": 3
   },
   "file_extension": ".py",
   "mimetype": "text/x-python",
   "name": "python",
   "nbconvert_exporter": "python",
   "pygments_lexer": "ipython3",
   "version": "3.7.2"
  }
 },
 "nbformat": 4,
 "nbformat_minor": 2
}
