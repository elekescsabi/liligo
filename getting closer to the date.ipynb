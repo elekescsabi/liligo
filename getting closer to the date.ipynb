{
 "cells": [
  {
   "cell_type": "code",
   "execution_count": 3,
   "metadata": {},
   "outputs": [],
   "source": [
    "import plotly.plotly as py\n",
    "import plotly.graph_objs as graph_objs\n",
    "\n",
    "import cufflinks as cf\n",
    "\n",
    "import pandas as pd\n",
    "import numpy as np\n",
    "\n",
    "import sqlite3\n",
    "from sqlalchemy import create_engine"
   ]
  },
  {
   "cell_type": "code",
   "execution_count": null,
   "metadata": {},
   "outputs": [],
   "source": []
  },
  {
   "cell_type": "code",
   "execution_count": null,
   "metadata": {},
   "outputs": [],
   "source": []
  },
  {
   "cell_type": "code",
   "execution_count": 4,
   "metadata": {},
   "outputs": [],
   "source": [
    "engine = create_engine('sqlite:///liligo.db', echo=False)"
   ]
  },
  {
   "cell_type": "code",
   "execution_count": 5,
   "metadata": {},
   "outputs": [],
   "source": [
    "dates = [('2019-02-08', '2019-02-10'), ('2019-02-15', '2019-02-17'), ('2019-02-22', '2019-02-24')]\n",
    "months = ['feb', 'jan', 'dec', 'nov', 'oct', 'sep']"
   ]
  },
  {
   "cell_type": "code",
   "execution_count": 6,
   "metadata": {},
   "outputs": [
    {
     "name": "stdout",
     "output_type": "stream",
     "text": [
      "2019-02-08 2019-02-10\n",
      "bottom 25 percentile price:  [('feb', 80.0), ('jan', 78.0), ('dec', 75.0), ('nov', 74.0), ('oct', 70.0), ('sep', 69.0)]\n",
      "number of listings for the weened:  [('feb', 6633), ('jan', 11143), ('dec', 14600), ('nov', 14115), ('oct', 15961), ('sep', 18448)]\n",
      "\n",
      "2019-02-15 2019-02-17\n",
      "bottom 25 percentile price:  [('feb', 80.0), ('jan', 78.0), ('dec', 75.0), ('nov', 74.0), ('oct', 70.0), ('sep', 69.0)]\n",
      "number of listings for the weened:  [('feb', 7531), ('jan', 11213), ('dec', 14732), ('nov', 14094), ('oct', 16030), ('sep', 18603)]\n",
      "\n",
      "2019-02-22 2019-02-24\n",
      "bottom 25 percentile price:  [('feb', 79.0), ('jan', 75.0), ('dec', 72.0), ('nov', 74.0), ('oct', 70.0), ('sep', 69.0)]\n",
      "number of listings for the weened:  [('feb', 9324), ('jan', 12382), ('dec', 15587), ('nov', 14600), ('oct', 16456), ('sep', 18935)]\n",
      "\n"
     ]
    }
   ],
   "source": [
    "for (date_from, date_to) in dates:\n",
    "    q3_list = []\n",
    "    cnt_list = []\n",
    "    for month in months:\n",
    "        sql = '''\n",
    "            with cal as (\n",
    "                select listing_id, min(price_usd) as price_per_night\n",
    "                from {}\n",
    "                where 1=1\n",
    "                    and date between '{}' and '{}'\n",
    "                group by listing_id\n",
    "                having max(available) == 't'\n",
    "                    and min(available) == 't'\n",
    "                ) \n",
    "\n",
    "            select \n",
    "                price_per_night as q3_price_per_night\n",
    "            from cal\n",
    "            order by q3_price_per_night\n",
    "            limit 1\n",
    "            offset (select count(*) from cal) / 4\n",
    "        '''.format('calendar_' + month, date_from, date_to)\n",
    "        q3 = pd.read_sql_query(sql, engine)\n",
    "        q3_list.append((month, q3.loc[0, 'q3_price_per_night']))\n",
    "        \n",
    "        sql = '''\n",
    "            select count(*) as cnt\n",
    "            from (\n",
    "                select listing_id, min(price_usd) as price_per_night\n",
    "                from {}\n",
    "                where 1=1\n",
    "                    and date between '{}' and '{}'\n",
    "                group by listing_id\n",
    "                having max(available) == 't'\n",
    "                    and min(available) == 't'\n",
    "                ) \n",
    "        '''.format('calendar_' + month, date_from, date_to)\n",
    "        cnt = pd.read_sql_query(sql, engine)\n",
    "        cnt_list.append((month, cnt.loc[0, 'cnt']))\n",
    "    \n",
    "    print(date_from, date_to)\n",
    "    print('bottom 25 percentile price: ', q3_list)\n",
    "    print('number of listings for the weened: ',  cnt_list)\n",
    "    print()"
   ]
  },
  {
   "cell_type": "code",
   "execution_count": 7,
   "metadata": {},
   "outputs": [
    {
     "name": "stdout",
     "output_type": "stream",
     "text": [
      "2019-02-08 2019-02-10\n",
      "median percentile price:  [('feb', 115.0), ('jan', 110.0), ('dec', 100.0), ('nov', 105.0), ('oct', 100.0), ('sep', 98.0)]\n",
      "\n",
      "2019-02-15 2019-02-17\n",
      "median percentile price:  [('feb', 114.0), ('jan', 110.0), ('dec', 100.0), ('nov', 102.0), ('oct', 100.0), ('sep', 98.0)]\n",
      "\n",
      "2019-02-22 2019-02-24\n",
      "median percentile price:  [('feb', 110.0), ('jan', 110.0), ('dec', 100.0), ('nov', 103.0), ('oct', 100.0), ('sep', 98.0)]\n",
      "\n"
     ]
    }
   ],
   "source": [
    "for (date_from, date_to) in dates:\n",
    "    q4_list = []\n",
    "    for month in months:\n",
    "        sql = '''\n",
    "            with cal as (\n",
    "                select listing_id, min(price_usd) as price_per_night\n",
    "                from {}\n",
    "                where 1=1\n",
    "                    and date between '{}' and '{}'\n",
    "                group by listing_id\n",
    "                having max(available) == 't'\n",
    "                    and min(available) == 't'\n",
    "                ) \n",
    "\n",
    "            select \n",
    "                price_per_night as median_price_per_night\n",
    "            from cal\n",
    "            order by median_price_per_night\n",
    "            limit 1\n",
    "            offset (select count(*) from cal) / 2\n",
    "        '''.format('calendar_' + month, date_from, date_to)\n",
    "        q4 = pd.read_sql_query(sql, engine)\n",
    "        q4_list.append((month, q4.loc[0, 'median_price_per_night']))\n",
    "    \n",
    "    print(date_from, date_to)\n",
    "    print('median percentile price: ', q4_list)\n",
    "    print()"
   ]
  },
  {
   "cell_type": "code",
   "execution_count": 8,
   "metadata": {},
   "outputs": [
    {
     "name": "stdout",
     "output_type": "stream",
     "text": [
      "2019-02-08 2019-02-10\n",
      "top 25 percentile price:  [('feb', 190.0), ('jan', 175.0), ('dec', 161.0), ('nov', 170.0), ('oct', 160.0), ('sep', 150.0)]\n",
      "\n",
      "2019-02-15 2019-02-17\n",
      "top 25 percentile price:  [('feb', 189.0), ('jan', 175.0), ('dec', 160.0), ('nov', 169.0), ('oct', 160.0), ('sep', 150.0)]\n",
      "\n",
      "2019-02-22 2019-02-24\n",
      "top 25 percentile price:  [('feb', 180.0), ('jan', 170.0), ('dec', 160.0), ('nov', 170.0), ('oct', 160.0), ('sep', 150.0)]\n",
      "\n"
     ]
    }
   ],
   "source": [
    "for (date_from, date_to) in dates:\n",
    "    q1_list = []\n",
    "    for month in months:\n",
    "        sql = '''\n",
    "            with cal as (\n",
    "                select listing_id, min(price_usd) as price_per_night\n",
    "                from {}\n",
    "                where 1=1\n",
    "                    and date between '{}' and '{}'\n",
    "                group by listing_id\n",
    "                having max(available) == 't'\n",
    "                    and min(available) == 't'\n",
    "                ) \n",
    "\n",
    "            select \n",
    "                price_per_night as q1_price_per_night\n",
    "            from cal\n",
    "            order by q1_price_per_night\n",
    "            limit 1\n",
    "            offset (select count(*) from cal) / 4 * 3\n",
    "        '''.format('calendar_' + month, date_from, date_to)\n",
    "        q1 = pd.read_sql_query(sql, engine)\n",
    "        q1_list.append((month, q1.loc[0, 'q1_price_per_night']))\n",
    "\n",
    "    \n",
    "    print(date_from, date_to)\n",
    "    print('top 25 percentile price: ', q1_list)\n",
    "    print()"
   ]
  },
  {
   "cell_type": "code",
   "execution_count": 9,
   "metadata": {},
   "outputs": [
    {
     "data": {
      "text/html": [
       "<div>\n",
       "<style scoped>\n",
       "    .dataframe tbody tr th:only-of-type {\n",
       "        vertical-align: middle;\n",
       "    }\n",
       "\n",
       "    .dataframe tbody tr th {\n",
       "        vertical-align: top;\n",
       "    }\n",
       "\n",
       "    .dataframe thead th {\n",
       "        text-align: right;\n",
       "    }\n",
       "</style>\n",
       "<table border=\"1\" class=\"dataframe\">\n",
       "  <thead>\n",
       "    <tr style=\"text-align: right;\">\n",
       "      <th></th>\n",
       "      <th>q3_price_1w</th>\n",
       "      <th>q3_price_2w</th>\n",
       "      <th>q3_price_3w</th>\n",
       "    </tr>\n",
       "    <tr>\n",
       "      <th>month</th>\n",
       "      <th></th>\n",
       "      <th></th>\n",
       "      <th></th>\n",
       "    </tr>\n",
       "  </thead>\n",
       "  <tbody>\n",
       "    <tr>\n",
       "      <th>sep</th>\n",
       "      <td>69.0</td>\n",
       "      <td>69.0</td>\n",
       "      <td>69.0</td>\n",
       "    </tr>\n",
       "    <tr>\n",
       "      <th>oct</th>\n",
       "      <td>70.0</td>\n",
       "      <td>70.0</td>\n",
       "      <td>70.0</td>\n",
       "    </tr>\n",
       "    <tr>\n",
       "      <th>nov</th>\n",
       "      <td>74.0</td>\n",
       "      <td>74.0</td>\n",
       "      <td>74.0</td>\n",
       "    </tr>\n",
       "    <tr>\n",
       "      <th>dec</th>\n",
       "      <td>75.0</td>\n",
       "      <td>75.0</td>\n",
       "      <td>72.0</td>\n",
       "    </tr>\n",
       "    <tr>\n",
       "      <th>jan</th>\n",
       "      <td>78.0</td>\n",
       "      <td>78.0</td>\n",
       "      <td>75.0</td>\n",
       "    </tr>\n",
       "    <tr>\n",
       "      <th>feb</th>\n",
       "      <td>80.0</td>\n",
       "      <td>80.0</td>\n",
       "      <td>79.0</td>\n",
       "    </tr>\n",
       "  </tbody>\n",
       "</table>\n",
       "</div>"
      ],
      "text/plain": [
       "       q3_price_1w  q3_price_2w  q3_price_3w\n",
       "month                                       \n",
       "sep           69.0         69.0         69.0\n",
       "oct           70.0         70.0         70.0\n",
       "nov           74.0         74.0         74.0\n",
       "dec           75.0         75.0         72.0\n",
       "jan           78.0         78.0         75.0\n",
       "feb           80.0         80.0         79.0"
      ]
     },
     "execution_count": 9,
     "metadata": {},
     "output_type": "execute_result"
    }
   ],
   "source": [
    "q3_prices = (\n",
    "    pd.concat([\n",
    "        (\n",
    "            pd\n",
    "            .DataFrame([('feb', 80.0), ('jan', 78.0), ('dec', 75.0), ('nov', 74.0), ('oct', 70.0), ('sep', 69.0)], columns = ['month', 'q3_price_1w'])\n",
    "            .set_index('month')\n",
    "        ),\n",
    "        (\n",
    "            pd\n",
    "            .DataFrame([('feb', 80.0), ('jan', 78.0), ('dec', 75.0), ('nov', 74.0), ('oct', 70.0), ('sep', 69.0)], columns = ['month', 'q3_price_2w'])\n",
    "            .set_index('month')\n",
    "        ),\n",
    "        (\n",
    "            pd\n",
    "            .DataFrame([('feb', 79.0), ('jan', 75.0), ('dec', 72.0), ('nov', 74.0), ('oct', 70.0), ('sep', 69.0)], columns = ['month', 'q3_price_3w'])\n",
    "            .set_index('month')\n",
    "        )\n",
    "    ], axis = 1)\n",
    "    [::-1]\n",
    ")\n",
    "q3_prices"
   ]
  },
  {
   "cell_type": "code",
   "execution_count": 10,
   "metadata": {},
   "outputs": [
    {
     "data": {
      "text/html": [
       "<div>\n",
       "<style scoped>\n",
       "    .dataframe tbody tr th:only-of-type {\n",
       "        vertical-align: middle;\n",
       "    }\n",
       "\n",
       "    .dataframe tbody tr th {\n",
       "        vertical-align: top;\n",
       "    }\n",
       "\n",
       "    .dataframe thead th {\n",
       "        text-align: right;\n",
       "    }\n",
       "</style>\n",
       "<table border=\"1\" class=\"dataframe\">\n",
       "  <thead>\n",
       "    <tr style=\"text-align: right;\">\n",
       "      <th></th>\n",
       "      <th>median_price_1w</th>\n",
       "      <th>median_price_2w</th>\n",
       "      <th>median_price_3w</th>\n",
       "    </tr>\n",
       "    <tr>\n",
       "      <th>month</th>\n",
       "      <th></th>\n",
       "      <th></th>\n",
       "      <th></th>\n",
       "    </tr>\n",
       "  </thead>\n",
       "  <tbody>\n",
       "    <tr>\n",
       "      <th>sep</th>\n",
       "      <td>98.0</td>\n",
       "      <td>98.0</td>\n",
       "      <td>98.0</td>\n",
       "    </tr>\n",
       "    <tr>\n",
       "      <th>oct</th>\n",
       "      <td>100.0</td>\n",
       "      <td>100.0</td>\n",
       "      <td>100.0</td>\n",
       "    </tr>\n",
       "    <tr>\n",
       "      <th>nov</th>\n",
       "      <td>105.0</td>\n",
       "      <td>102.0</td>\n",
       "      <td>103.0</td>\n",
       "    </tr>\n",
       "    <tr>\n",
       "      <th>dec</th>\n",
       "      <td>100.0</td>\n",
       "      <td>100.0</td>\n",
       "      <td>100.0</td>\n",
       "    </tr>\n",
       "    <tr>\n",
       "      <th>jan</th>\n",
       "      <td>110.0</td>\n",
       "      <td>110.0</td>\n",
       "      <td>110.0</td>\n",
       "    </tr>\n",
       "    <tr>\n",
       "      <th>feb</th>\n",
       "      <td>115.0</td>\n",
       "      <td>114.0</td>\n",
       "      <td>110.0</td>\n",
       "    </tr>\n",
       "  </tbody>\n",
       "</table>\n",
       "</div>"
      ],
      "text/plain": [
       "       median_price_1w  median_price_2w  median_price_3w\n",
       "month                                                   \n",
       "sep               98.0             98.0             98.0\n",
       "oct              100.0            100.0            100.0\n",
       "nov              105.0            102.0            103.0\n",
       "dec              100.0            100.0            100.0\n",
       "jan              110.0            110.0            110.0\n",
       "feb              115.0            114.0            110.0"
      ]
     },
     "execution_count": 10,
     "metadata": {},
     "output_type": "execute_result"
    }
   ],
   "source": [
    "median_prices = (\n",
    "    pd.concat([\n",
    "        (\n",
    "            pd\n",
    "            .DataFrame([('feb', 115.0), ('jan', 110.0), ('dec', 100.0), ('nov', 105.0), ('oct', 100.0), ('sep', 98.0)], columns = ['month', 'median_price_1w'])\n",
    "            .set_index('month')\n",
    "        ),\n",
    "        (\n",
    "            pd\n",
    "            .DataFrame([('feb', 114.0), ('jan', 110.0), ('dec', 100.0), ('nov', 102.0), ('oct', 100.0), ('sep', 98.0)], columns = ['month', 'median_price_2w'])\n",
    "            .set_index('month')\n",
    "        ),\n",
    "        (\n",
    "            pd\n",
    "            .DataFrame([('feb', 110.0), ('jan', 110.0), ('dec', 100.0), ('nov', 103.0), ('oct', 100.0), ('sep', 98.0)], columns = ['month', 'median_price_3w'])\n",
    "            .set_index('month')\n",
    "        )\n",
    "    ], axis = 1)\n",
    "    [::-1]\n",
    ")\n",
    "median_prices"
   ]
  },
  {
   "cell_type": "code",
   "execution_count": 11,
   "metadata": {},
   "outputs": [
    {
     "data": {
      "text/html": [
       "<div>\n",
       "<style scoped>\n",
       "    .dataframe tbody tr th:only-of-type {\n",
       "        vertical-align: middle;\n",
       "    }\n",
       "\n",
       "    .dataframe tbody tr th {\n",
       "        vertical-align: top;\n",
       "    }\n",
       "\n",
       "    .dataframe thead th {\n",
       "        text-align: right;\n",
       "    }\n",
       "</style>\n",
       "<table border=\"1\" class=\"dataframe\">\n",
       "  <thead>\n",
       "    <tr style=\"text-align: right;\">\n",
       "      <th></th>\n",
       "      <th>q1_price_1w</th>\n",
       "      <th>q1_price_2w</th>\n",
       "      <th>q1_price_3w</th>\n",
       "    </tr>\n",
       "    <tr>\n",
       "      <th>month</th>\n",
       "      <th></th>\n",
       "      <th></th>\n",
       "      <th></th>\n",
       "    </tr>\n",
       "  </thead>\n",
       "  <tbody>\n",
       "    <tr>\n",
       "      <th>sep</th>\n",
       "      <td>150.0</td>\n",
       "      <td>150.0</td>\n",
       "      <td>150.0</td>\n",
       "    </tr>\n",
       "    <tr>\n",
       "      <th>oct</th>\n",
       "      <td>160.0</td>\n",
       "      <td>160.0</td>\n",
       "      <td>160.0</td>\n",
       "    </tr>\n",
       "    <tr>\n",
       "      <th>nov</th>\n",
       "      <td>170.0</td>\n",
       "      <td>169.0</td>\n",
       "      <td>170.0</td>\n",
       "    </tr>\n",
       "    <tr>\n",
       "      <th>dec</th>\n",
       "      <td>161.0</td>\n",
       "      <td>160.0</td>\n",
       "      <td>160.0</td>\n",
       "    </tr>\n",
       "    <tr>\n",
       "      <th>jan</th>\n",
       "      <td>175.0</td>\n",
       "      <td>175.0</td>\n",
       "      <td>170.0</td>\n",
       "    </tr>\n",
       "    <tr>\n",
       "      <th>feb</th>\n",
       "      <td>190.0</td>\n",
       "      <td>189.0</td>\n",
       "      <td>180.0</td>\n",
       "    </tr>\n",
       "  </tbody>\n",
       "</table>\n",
       "</div>"
      ],
      "text/plain": [
       "       q1_price_1w  q1_price_2w  q1_price_3w\n",
       "month                                       \n",
       "sep          150.0        150.0        150.0\n",
       "oct          160.0        160.0        160.0\n",
       "nov          170.0        169.0        170.0\n",
       "dec          161.0        160.0        160.0\n",
       "jan          175.0        175.0        170.0\n",
       "feb          190.0        189.0        180.0"
      ]
     },
     "execution_count": 11,
     "metadata": {},
     "output_type": "execute_result"
    }
   ],
   "source": [
    "q1_prices = (\n",
    "    pd.concat([\n",
    "        (\n",
    "            pd\n",
    "            .DataFrame([('feb', 190.0), ('jan', 175.0), ('dec', 161.0), ('nov', 170.0), ('oct', 160.0), ('sep', 150.0)], columns = ['month', 'q1_price_1w'])\n",
    "            .set_index('month')\n",
    "        ),\n",
    "        (\n",
    "            pd\n",
    "            .DataFrame([('feb', 189.0), ('jan', 175.0), ('dec', 160.0), ('nov', 169.0), ('oct', 160.0), ('sep', 150.0)], columns = ['month', 'q1_price_2w'])\n",
    "            .set_index('month')\n",
    "        ),\n",
    "        (\n",
    "            pd\n",
    "            .DataFrame([('feb', 180.0), ('jan', 170.0), ('dec', 160.0), ('nov', 170.0), ('oct', 160.0), ('sep', 150.0)], columns = ['month', 'q1_price_3w'])\n",
    "            .set_index('month')\n",
    "        )\n",
    "    ], axis = 1)\n",
    "    [::-1]\n",
    ")\n",
    "q1_prices"
   ]
  },
  {
   "cell_type": "code",
   "execution_count": 92,
   "metadata": {},
   "outputs": [
    {
     "data": {
      "text/html": [
       "<iframe id=\"igraph\" scrolling=\"no\" style=\"border:none;\" seamless=\"seamless\" src=\"https://plot.ly/~csabi.elekes/50.embed\" height=\"525px\" width=\"100%\"></iframe>"
      ],
      "text/plain": [
       "<plotly.tools.PlotlyDisplay object>"
      ]
     },
     "execution_count": 92,
     "metadata": {},
     "output_type": "execute_result"
    }
   ],
   "source": [
    "(\n",
    "    pd.concat([\n",
    "        median_prices.mean(axis=1).rename('median price'), \n",
    "        q3_prices.mean(axis=1).rename('bottom 25 perc price'),\n",
    "        q1_prices.mean(axis=1).rename('top 25 perc price'),\n",
    "    ], axis = 1)\n",
    "    .iplot(filename = 'paris_median_price', \n",
    "           mode = 'lines+markers',\n",
    "           layout = graph_objs.Layout(yaxis = dict(range = (0, 200), tickformat = '$.0f'), \n",
    "                                      hovermode = 'closest',\n",
    "                                      title = '<b>As the date comes closer, prices go up by 10-15%</b><br>Nightly price for a February weekend in Paris booked at different times'\n",
    "                                     )\n",
    "          )\n",
    ")"
   ]
  },
  {
   "cell_type": "code",
   "execution_count": 16,
   "metadata": {},
   "outputs": [],
   "source": [
    "room_tyes = pd.read_sql_query('select id, room_type from listings', con=engine)"
   ]
  },
  {
   "cell_type": "code",
   "execution_count": 17,
   "metadata": {},
   "outputs": [],
   "source": [
    "room_tyes.to_sql('room_types', con=engine, if_exists='replace')"
   ]
  },
  {
   "cell_type": "code",
   "execution_count": 21,
   "metadata": {},
   "outputs": [
    {
     "data": {
      "text/html": [
       "<div>\n",
       "<style scoped>\n",
       "    .dataframe tbody tr th:only-of-type {\n",
       "        vertical-align: middle;\n",
       "    }\n",
       "\n",
       "    .dataframe tbody tr th {\n",
       "        vertical-align: top;\n",
       "    }\n",
       "\n",
       "    .dataframe thead th {\n",
       "        text-align: right;\n",
       "    }\n",
       "</style>\n",
       "<table border=\"1\" class=\"dataframe\">\n",
       "  <thead>\n",
       "    <tr style=\"text-align: right;\">\n",
       "      <th></th>\n",
       "      <th>room_type</th>\n",
       "      <th>cnt</th>\n",
       "    </tr>\n",
       "  </thead>\n",
       "  <tbody>\n",
       "    <tr>\n",
       "      <th>0</th>\n",
       "      <td>Entire home/apt</td>\n",
       "      <td>5166</td>\n",
       "    </tr>\n",
       "    <tr>\n",
       "      <th>1</th>\n",
       "      <td>Private room</td>\n",
       "      <td>1340</td>\n",
       "    </tr>\n",
       "    <tr>\n",
       "      <th>2</th>\n",
       "      <td>Shared room</td>\n",
       "      <td>127</td>\n",
       "    </tr>\n",
       "  </tbody>\n",
       "</table>\n",
       "</div>"
      ],
      "text/plain": [
       "         room_type   cnt\n",
       "0  Entire home/apt  5166\n",
       "1     Private room  1340\n",
       "2      Shared room   127"
      ]
     },
     "execution_count": 21,
     "metadata": {},
     "output_type": "execute_result"
    }
   ],
   "source": [
    "pd.read_sql_query('''\n",
    "            select\n",
    "                  rooms.room_type\n",
    "                , count(*) as cnt\n",
    "            from (\n",
    "                select listing_id\n",
    "                from calendar_feb\n",
    "                where 1=1\n",
    "                    and date between '2019-02-08' and '2019-02-10'\n",
    "                group by listing_id\n",
    "                having max(available) == 't'\n",
    "                    and min(available) == 't' \n",
    "            ) cal\n",
    "            join room_types rooms\n",
    "                on cal.listing_id = rooms.id\n",
    "            group by room_type\n",
    "        ''', engine)"
   ]
  },
  {
   "cell_type": "code",
   "execution_count": 18,
   "metadata": {},
   "outputs": [
    {
     "data": {
      "text/html": [
       "<div>\n",
       "<style scoped>\n",
       "    .dataframe tbody tr th:only-of-type {\n",
       "        vertical-align: middle;\n",
       "    }\n",
       "\n",
       "    .dataframe tbody tr th {\n",
       "        vertical-align: top;\n",
       "    }\n",
       "\n",
       "    .dataframe thead th {\n",
       "        text-align: right;\n",
       "    }\n",
       "</style>\n",
       "<table border=\"1\" class=\"dataframe\">\n",
       "  <thead>\n",
       "    <tr style=\"text-align: right;\">\n",
       "      <th></th>\n",
       "      <th>index</th>\n",
       "      <th>listing_id</th>\n",
       "      <th>date</th>\n",
       "      <th>available</th>\n",
       "      <th>minimum_nights</th>\n",
       "      <th>maximum_nights</th>\n",
       "      <th>price_usd</th>\n",
       "    </tr>\n",
       "  </thead>\n",
       "  <tbody>\n",
       "    <tr>\n",
       "      <th>0</th>\n",
       "      <td>0</td>\n",
       "      <td>2577</td>\n",
       "      <td>2019-02-05</td>\n",
       "      <td>f</td>\n",
       "      <td>3.0</td>\n",
       "      <td>1125.0</td>\n",
       "      <td>125.0</td>\n",
       "    </tr>\n",
       "  </tbody>\n",
       "</table>\n",
       "</div>"
      ],
      "text/plain": [
       "   index  listing_id        date available  minimum_nights  maximum_nights  \\\n",
       "0      0        2577  2019-02-05         f             3.0          1125.0   \n",
       "\n",
       "   price_usd  \n",
       "0      125.0  "
      ]
     },
     "execution_count": 18,
     "metadata": {},
     "output_type": "execute_result"
    }
   ],
   "source": [
    "pd.read_sql_query('select * from calendar_feb limit 1', con=engine)"
   ]
  },
  {
   "cell_type": "markdown",
   "metadata": {},
   "source": [
    "# Number of listings"
   ]
  },
  {
   "cell_type": "code",
   "execution_count": 33,
   "metadata": {},
   "outputs": [
    {
     "name": "stdout",
     "output_type": "stream",
     "text": [
      "number of listings for the weened:  [('booked in feb', 6633), ('booked in jan', 11143), ('booked in dec', 14600), ('booked in nov', 14115), ('booked in oct', 15961), ('booked in sep', 18448)]\n"
     ]
    }
   ],
   "source": [
    "cnt_list = []\n",
    "for month in months:\n",
    "    sql = '''\n",
    "        select count(*) as cnt\n",
    "        from (\n",
    "            select listing_id, min(price_usd) as price_per_night\n",
    "            from {}\n",
    "            where 1=1\n",
    "                and date between '2019-02-08' and '2019-02-10'\n",
    "            group by listing_id\n",
    "            having max(available) == 't'\n",
    "                and min(available) == 't'\n",
    "            ) \n",
    "    '''.format('calendar_' + month)\n",
    "    cnt = pd.read_sql_query(sql, engine)\n",
    "    cnt_list.append(('booked in ' + month, cnt.loc[0, 'cnt']))\n",
    "\n",
    "print('number of listings for the weened: ',  cnt_list)"
   ]
  },
  {
   "cell_type": "code",
   "execution_count": 28,
   "metadata": {},
   "outputs": [
    {
     "name": "stdout",
     "output_type": "stream",
     "text": [
      "number of listings for the weened:  [(('2019-02-08', '2019-02-10'), 6633), (('2019-02-15', '2019-02-17'), 7531), (('2019-02-22', '2019-02-24'), 9324)]\n"
     ]
    }
   ],
   "source": [
    "cnt_feb = []\n",
    "for (date_from, date_to) in dates:\n",
    "    sql = '''\n",
    "        select count(*) as cnt\n",
    "        from (\n",
    "            select listing_id, min(price_usd) as price_per_night\n",
    "            from calendar_feb\n",
    "            where 1=1\n",
    "                and date between '{}' and '{}'\n",
    "            group by listing_id\n",
    "            having max(available) == 't'\n",
    "                and min(available) == 't'\n",
    "            ) \n",
    "    '''.format(date_from, date_to)\n",
    "    cnt = pd.read_sql_query(sql, engine)\n",
    "    cnt_feb.append(((date_from, date_to), cnt.loc[0, 'cnt']))\n",
    "\n",
    "print('number of listings for the weened: ',  cnt_feb)"
   ]
  },
  {
   "cell_type": "code",
   "execution_count": null,
   "metadata": {},
   "outputs": [],
   "source": []
  },
  {
   "cell_type": "code",
   "execution_count": null,
   "metadata": {},
   "outputs": [],
   "source": []
  },
  {
   "cell_type": "code",
   "execution_count": 34,
   "metadata": {},
   "outputs": [
    {
     "data": {
      "text/html": [
       "<iframe id=\"igraph\" scrolling=\"no\" style=\"border:none;\" seamless=\"seamless\" src=\"https://plot.ly/~csabi.elekes/54.embed\" height=\"525px\" width=\"100%\"></iframe>"
      ],
      "text/plain": [
       "<plotly.tools.PlotlyDisplay object>"
      ]
     },
     "execution_count": 34,
     "metadata": {},
     "output_type": "execute_result"
    }
   ],
   "source": [
    "(\n",
    "    pd\n",
    "    .concat([\n",
    "        pd.DataFrame([('<1 week left', 6633), ('2 weeks left', 7531), ('3 weeks left', 9324)], columns = ['month', 'count']),\n",
    "        pd.DataFrame([('booked in jan', 11143), ('booked in dec', 14600), ('booked in nov', 14115), ('booked in oct', 15961), ('booked in sep', 18448)], columns = ['month', 'count'])\n",
    "        ])\n",
    "    .set_index('month')\n",
    "    [::-1]\n",
    "    .iplot(filename = 'paris_counts', kind = 'bar', \n",
    "           layout = graph_objs.Layout(title = '<b>Number of available places drop quickly in the last 4 weeks before the trip</b><br>Number of listings for a February weekend in Paris at different times', \n",
    "                                      hovermode = 'closest')\n",
    "          )\n",
    ")"
   ]
  },
  {
   "cell_type": "code",
   "execution_count": null,
   "metadata": {},
   "outputs": [],
   "source": []
  },
  {
   "cell_type": "markdown",
   "metadata": {},
   "source": [
    "# Break down by room type"
   ]
  },
  {
   "cell_type": "code",
   "execution_count": 49,
   "metadata": {},
   "outputs": [
    {
     "name": "stdout",
     "output_type": "stream",
     "text": [
      "number of listings for the weened:  [('booked in feb', 'Entire home/apt', 5166), ('booked in feb', 'Private room', 1340), ('booked in feb', 'Shared room', 127), ('booked in jan', 'Entire home/apt', 8205), ('booked in jan', 'Private room', 1945), ('booked in jan', 'Shared room', 162), ('booked in dec', 'Entire home/apt', 10004), ('booked in dec', 'Private room', 2259), ('booked in dec', 'Shared room', 171), ('booked in nov', 'Entire home/apt', 9298), ('booked in nov', 'Private room', 1938), ('booked in nov', 'Shared room', 152), ('booked in oct', 'Entire home/apt', 10072), ('booked in oct', 'Private room', 1976), ('booked in oct', 'Shared room', 149), ('booked in sep', 'Entire home/apt', 10947), ('booked in sep', 'Private room', 1997), ('booked in sep', 'Shared room', 142)]\n"
     ]
    }
   ],
   "source": [
    "cnt_list = []\n",
    "for month in months:\n",
    "    sql = '''\n",
    "            select \n",
    "                  room.room_type as room_type\n",
    "                , count(cal.listing_id) as cnt\n",
    "            from (\n",
    "                select listing_id\n",
    "                from {} \n",
    "                where 1=1\n",
    "                    and date between '2019-02-08' and '2019-02-10'\n",
    "                group by listing_id\n",
    "                having max(available) == 't'\n",
    "                    and min(available) == 't'\n",
    "                ) cal\n",
    "            join room_types room\n",
    "                on cal.listing_id = room.id\n",
    "            group by room.room_type\n",
    "    '''.format('calendar_' + month)\n",
    "    cnt = pd.read_sql_query(sql, engine)\n",
    "    for ix, _ in cnt.iterrows():\n",
    "        cnt_list.append(('booked in ' + month, cnt.loc[ix, 'room_type'], cnt.loc[ix, 'cnt']))\n",
    "\n",
    "print('number of listings for the weened: ',  cnt_list)"
   ]
  },
  {
   "cell_type": "code",
   "execution_count": 79,
   "metadata": {},
   "outputs": [
    {
     "name": "stdout",
     "output_type": "stream",
     "text": [
      "number of listings for the weened:  [(('2019-02-08', '2019-02-10'), 'Entire home/apt', 5166), (('2019-02-08', '2019-02-10'), 'Private room', 1340), (('2019-02-08', '2019-02-10'), 'Shared room', 127), (('2019-02-15', '2019-02-17'), 'Entire home/apt', 5851), (('2019-02-15', '2019-02-17'), 'Private room', 1527), (('2019-02-15', '2019-02-17'), 'Shared room', 153), (('2019-02-22', '2019-02-24'), 'Entire home/apt', 7356), (('2019-02-22', '2019-02-24'), 'Private room', 1794), (('2019-02-22', '2019-02-24'), 'Shared room', 174)]\n"
     ]
    }
   ],
   "source": [
    "cnt_feb = []\n",
    "for (date_from, date_to) in dates:\n",
    "    sql = '''\n",
    "            select \n",
    "                  room.room_type as room_type\n",
    "                , count(cal.listing_id) as cnt\n",
    "            from (\n",
    "                select listing_id\n",
    "                from calendar_feb \n",
    "                where 1=1\n",
    "                    and date between '{}' and '{}'\n",
    "                group by listing_id\n",
    "                having max(available) == 't'\n",
    "                    and min(available) == 't'\n",
    "                ) cal\n",
    "            join room_types room\n",
    "                on cal.listing_id = room.id\n",
    "            group by room.room_type\n",
    "    '''.format(date_from, date_to)\n",
    "    cnt = pd.read_sql_query(sql, engine)\n",
    "    for ix, _ in cnt.iterrows():\n",
    "        cnt_feb.append(((date_from, date_to), cnt.loc[ix, 'room_type'], cnt.loc[ix, 'cnt']))\n",
    "\n",
    "print('number of listings for the weened: ',  cnt_feb)"
   ]
  },
  {
   "cell_type": "code",
   "execution_count": null,
   "metadata": {},
   "outputs": [],
   "source": []
  },
  {
   "cell_type": "code",
   "execution_count": null,
   "metadata": {},
   "outputs": [],
   "source": []
  },
  {
   "cell_type": "code",
   "execution_count": 80,
   "metadata": {},
   "outputs": [
    {
     "data": {
      "text/html": [
       "<div>\n",
       "<style scoped>\n",
       "    .dataframe tbody tr th:only-of-type {\n",
       "        vertical-align: middle;\n",
       "    }\n",
       "\n",
       "    .dataframe tbody tr th {\n",
       "        vertical-align: top;\n",
       "    }\n",
       "\n",
       "    .dataframe thead th {\n",
       "        text-align: right;\n",
       "    }\n",
       "</style>\n",
       "<table border=\"1\" class=\"dataframe\">\n",
       "  <thead>\n",
       "    <tr style=\"text-align: right;\">\n",
       "      <th>room_type</th>\n",
       "      <th>Entire home/apt</th>\n",
       "      <th>Private room</th>\n",
       "      <th>Shared room</th>\n",
       "    </tr>\n",
       "    <tr>\n",
       "      <th>booked</th>\n",
       "      <th></th>\n",
       "      <th></th>\n",
       "      <th></th>\n",
       "    </tr>\n",
       "  </thead>\n",
       "  <tbody>\n",
       "    <tr>\n",
       "      <th>booked in sep</th>\n",
       "      <td>0.836543</td>\n",
       "      <td>0.152606</td>\n",
       "      <td>0.010851</td>\n",
       "    </tr>\n",
       "    <tr>\n",
       "      <th>booked in oct</th>\n",
       "      <td>0.825777</td>\n",
       "      <td>0.162007</td>\n",
       "      <td>0.012216</td>\n",
       "    </tr>\n",
       "    <tr>\n",
       "      <th>booked in nov</th>\n",
       "      <td>0.816473</td>\n",
       "      <td>0.170179</td>\n",
       "      <td>0.013347</td>\n",
       "    </tr>\n",
       "    <tr>\n",
       "      <th>booked in dec</th>\n",
       "      <td>0.804568</td>\n",
       "      <td>0.181679</td>\n",
       "      <td>0.013753</td>\n",
       "    </tr>\n",
       "    <tr>\n",
       "      <th>booked in jan</th>\n",
       "      <td>0.795675</td>\n",
       "      <td>0.188615</td>\n",
       "      <td>0.015710</td>\n",
       "    </tr>\n",
       "  </tbody>\n",
       "</table>\n",
       "</div>"
      ],
      "text/plain": [
       "room_type      Entire home/apt  Private room  Shared room\n",
       "booked                                                   \n",
       "booked in sep         0.836543      0.152606     0.010851\n",
       "booked in oct         0.825777      0.162007     0.012216\n",
       "booked in nov         0.816473      0.170179     0.013347\n",
       "booked in dec         0.804568      0.181679     0.013753\n",
       "booked in jan         0.795675      0.188615     0.015710"
      ]
     },
     "execution_count": 80,
     "metadata": {},
     "output_type": "execute_result"
    }
   ],
   "source": [
    "m = (\n",
    "    pd\n",
    "    .DataFrame([('booked in feb', 'Entire home/apt', 5166), ('booked in feb', 'Private room', 1340), ('booked in feb', 'Shared room', 127), \n",
    "                ('booked in jan', 'Entire home/apt', 8205), ('booked in jan', 'Private room', 1945), ('booked in jan', 'Shared room', 162), \n",
    "                ('booked in dec', 'Entire home/apt', 10004), ('booked in dec', 'Private room', 2259), ('booked in dec', 'Shared room', 171), \n",
    "                ('booked in nov', 'Entire home/apt', 9298), ('booked in nov', 'Private room', 1938), ('booked in nov', 'Shared room', 152), \n",
    "                ('booked in oct', 'Entire home/apt', 10072), ('booked in oct', 'Private room', 1976), ('booked in oct', 'Shared room', 149), \n",
    "                ('booked in sep', 'Entire home/apt', 10947), ('booked in sep', 'Private room', 1997), ('booked in sep', 'Shared room', 142)],\n",
    "               columns = ['booked', 'room_type', 'cnt'])\n",
    "    .pivot(columns = 'booked', index = 'room_type', values = 'cnt')\n",
    "    [['booked in sep', 'booked in oct', 'booked in nov', 'booked in dec', 'booked in jan']]\n",
    "    .T\n",
    "    .apply(lambda col: col / col.sum(), axis = 1)\n",
    ")\n",
    "m"
   ]
  },
  {
   "cell_type": "code",
   "execution_count": 87,
   "metadata": {},
   "outputs": [
    {
     "data": {
      "text/html": [
       "<div>\n",
       "<style scoped>\n",
       "    .dataframe tbody tr th:only-of-type {\n",
       "        vertical-align: middle;\n",
       "    }\n",
       "\n",
       "    .dataframe tbody tr th {\n",
       "        vertical-align: top;\n",
       "    }\n",
       "\n",
       "    .dataframe thead th {\n",
       "        text-align: right;\n",
       "    }\n",
       "</style>\n",
       "<table border=\"1\" class=\"dataframe\">\n",
       "  <thead>\n",
       "    <tr style=\"text-align: right;\">\n",
       "      <th>room_type</th>\n",
       "      <th>Entire home/apt</th>\n",
       "      <th>Private room</th>\n",
       "      <th>Shared room</th>\n",
       "    </tr>\n",
       "    <tr>\n",
       "      <th>booked</th>\n",
       "      <th></th>\n",
       "      <th></th>\n",
       "      <th></th>\n",
       "    </tr>\n",
       "  </thead>\n",
       "  <tbody>\n",
       "    <tr>\n",
       "      <th>3 weeks left</th>\n",
       "      <td>0.788932</td>\n",
       "      <td>0.192407</td>\n",
       "      <td>0.018662</td>\n",
       "    </tr>\n",
       "    <tr>\n",
       "      <th>2 weeks left</th>\n",
       "      <td>0.776922</td>\n",
       "      <td>0.202762</td>\n",
       "      <td>0.020316</td>\n",
       "    </tr>\n",
       "    <tr>\n",
       "      <th>&lt;1 week left</th>\n",
       "      <td>0.778833</td>\n",
       "      <td>0.202020</td>\n",
       "      <td>0.019147</td>\n",
       "    </tr>\n",
       "  </tbody>\n",
       "</table>\n",
       "</div>"
      ],
      "text/plain": [
       "room_type     Entire home/apt  Private room  Shared room\n",
       "booked                                                  \n",
       "3 weeks left         0.788932      0.192407     0.018662\n",
       "2 weeks left         0.776922      0.202762     0.020316\n",
       "<1 week left         0.778833      0.202020     0.019147"
      ]
     },
     "execution_count": 87,
     "metadata": {},
     "output_type": "execute_result"
    }
   ],
   "source": [
    "w = (\n",
    "    pd\n",
    "    .DataFrame([('<1 week left', 'Entire home/apt', 5166), ('<1 week left', 'Private room', 1340), ('<1 week left', 'Shared room', 127), \n",
    "                ('2 weeks left', 'Entire home/apt', 5851), ('2 weeks left', 'Private room', 1527), ('2 weeks left', 'Shared room', 153), \n",
    "                ('3 weeks left', 'Entire home/apt', 7356), ('3 weeks left', 'Private room', 1794), ('3 weeks left', 'Shared room', 174)],\n",
    "               columns = ['booked', 'room_type', 'cnt'])\n",
    "    .pivot(columns = 'booked', index = 'room_type', values = 'cnt')\n",
    "    [['3 weeks left', '2 weeks left', '<1 week left']]\n",
    "    .T\n",
    "    .apply(lambda col: col / col.sum(), axis = 1)\n",
    ")\n",
    "w"
   ]
  },
  {
   "cell_type": "code",
   "execution_count": 91,
   "metadata": {},
   "outputs": [
    {
     "data": {
      "text/html": [
       "<iframe id=\"igraph\" scrolling=\"no\" style=\"border:none;\" seamless=\"seamless\" src=\"https://plot.ly/~csabi.elekes/58.embed\" height=\"525px\" width=\"100%\"></iframe>"
      ],
      "text/plain": [
       "<plotly.tools.PlotlyDisplay object>"
      ]
     },
     "execution_count": 91,
     "metadata": {},
     "output_type": "execute_result"
    }
   ],
   "source": [
    "(\n",
    "    pd\n",
    "    .concat([m, w])\n",
    "    .iplot(filename = 'paris_counts_2', \n",
    "           layout = graph_objs.Layout(title = 'People prefer \"Entire apartments\", but are also price-sensitive',\n",
    "                                      yaxis = dict(tickformat = '%a'))\n",
    "          )\n",
    ")"
   ]
  },
  {
   "cell_type": "code",
   "execution_count": null,
   "metadata": {},
   "outputs": [],
   "source": []
  },
  {
   "cell_type": "code",
   "execution_count": 7,
   "metadata": {},
   "outputs": [
    {
     "name": "stdout",
     "output_type": "stream",
     "text": [
      "2019-02-08 2019-02-10\n",
      "median percentile price:  [('feb', 115.0), ('jan', 110.0), ('dec', 100.0), ('nov', 105.0), ('oct', 100.0), ('sep', 98.0)]\n",
      "\n",
      "2019-02-15 2019-02-17\n",
      "median percentile price:  [('feb', 114.0), ('jan', 110.0), ('dec', 100.0), ('nov', 102.0), ('oct', 100.0), ('sep', 98.0)]\n",
      "\n",
      "2019-02-22 2019-02-24\n",
      "median percentile price:  [('feb', 110.0), ('jan', 110.0), ('dec', 100.0), ('nov', 103.0), ('oct', 100.0), ('sep', 98.0)]\n",
      "\n"
     ]
    }
   ],
   "source": [
    "for (date_from, date_to) in dates:\n",
    "    q4_list = []\n",
    "    for month in months:\n",
    "        sql = '''\n",
    "            with cal as (\n",
    "                select listing_id, min(price_usd) as price_per_night\n",
    "                from {}\n",
    "                where 1=1\n",
    "                    and date between '{}' and '{}'\n",
    "                group by listing_id\n",
    "                having max(available) == 't'\n",
    "                    and min(available) == 't'\n",
    "                ) \n",
    "\n",
    "            select \n",
    "                price_per_night as median_price_per_night\n",
    "            from cal\n",
    "            order by median_price_per_night\n",
    "            limit 1\n",
    "            offset (select count(*) from cal) / 2\n",
    "        '''.format('calendar_' + month, date_from, date_to)\n",
    "        q4 = pd.read_sql_query(sql, engine)\n",
    "        q4_list.append((month, q4.loc[0, 'median_price_per_night']))\n",
    "    \n",
    "    print(date_from, date_to)\n",
    "    print('median percentile price: ', q4_list)\n",
    "    print()"
   ]
  },
  {
   "cell_type": "code",
   "execution_count": 95,
   "metadata": {},
   "outputs": [],
   "source": [
    "df = (\n",
    "    pd\n",
    "    .read_sql_query('''\n",
    "                select room_type, listing_id, min(price_usd) as price_per_night\n",
    "                from {} cal\n",
    "                join room_types rooms\n",
    "                    on cal.listing_id = rooms.id\n",
    "                where 1=1\n",
    "                    and date between '{}' and '{}'\n",
    "                group by listing_id, room_type\n",
    "                having max(available) == 't'\n",
    "                    and min(available) == 't'\n",
    "    '''.format('calendar_feb', '2019-02-08', '2019-02-10'), con=engine)\n",
    ")"
   ]
  },
  {
   "cell_type": "code",
   "execution_count": 96,
   "metadata": {},
   "outputs": [
    {
     "data": {
      "text/plain": [
       "room_type          6633\n",
       "listing_id         6633\n",
       "price_per_night    6633\n",
       "dtype: int64"
      ]
     },
     "execution_count": 96,
     "metadata": {},
     "output_type": "execute_result"
    }
   ],
   "source": [
    "df.count()"
   ]
  },
  {
   "cell_type": "code",
   "execution_count": 97,
   "metadata": {},
   "outputs": [
    {
     "data": {
      "text/html": [
       "<div>\n",
       "<style scoped>\n",
       "    .dataframe tbody tr th:only-of-type {\n",
       "        vertical-align: middle;\n",
       "    }\n",
       "\n",
       "    .dataframe tbody tr th {\n",
       "        vertical-align: top;\n",
       "    }\n",
       "\n",
       "    .dataframe thead th {\n",
       "        text-align: right;\n",
       "    }\n",
       "</style>\n",
       "<table border=\"1\" class=\"dataframe\">\n",
       "  <thead>\n",
       "    <tr style=\"text-align: right;\">\n",
       "      <th></th>\n",
       "      <th>room_type</th>\n",
       "      <th>listing_id</th>\n",
       "      <th>price_per_night</th>\n",
       "    </tr>\n",
       "  </thead>\n",
       "  <tbody>\n",
       "    <tr>\n",
       "      <th>0</th>\n",
       "      <td>Entire home/apt</td>\n",
       "      <td>8522</td>\n",
       "      <td>90.0</td>\n",
       "    </tr>\n",
       "    <tr>\n",
       "      <th>1</th>\n",
       "      <td>Entire home/apt</td>\n",
       "      <td>14011</td>\n",
       "      <td>95.0</td>\n",
       "    </tr>\n",
       "    <tr>\n",
       "      <th>2</th>\n",
       "      <td>Private room</td>\n",
       "      <td>17919</td>\n",
       "      <td>65.0</td>\n",
       "    </tr>\n",
       "    <tr>\n",
       "      <th>3</th>\n",
       "      <td>Entire home/apt</td>\n",
       "      <td>17994</td>\n",
       "      <td>250.0</td>\n",
       "    </tr>\n",
       "    <tr>\n",
       "      <th>4</th>\n",
       "      <td>Entire home/apt</td>\n",
       "      <td>21004</td>\n",
       "      <td>180.0</td>\n",
       "    </tr>\n",
       "  </tbody>\n",
       "</table>\n",
       "</div>"
      ],
      "text/plain": [
       "         room_type  listing_id  price_per_night\n",
       "0  Entire home/apt        8522             90.0\n",
       "1  Entire home/apt       14011             95.0\n",
       "2     Private room       17919             65.0\n",
       "3  Entire home/apt       17994            250.0\n",
       "4  Entire home/apt       21004            180.0"
      ]
     },
     "execution_count": 97,
     "metadata": {},
     "output_type": "execute_result"
    }
   ],
   "source": [
    "df.head()"
   ]
  },
  {
   "cell_type": "code",
   "execution_count": 168,
   "metadata": {},
   "outputs": [],
   "source": [
    "medians = pd.DataFrame(columns = ['Entire home/apt', 'Private room', 'Shared room'])\n",
    "for month in months[::-1]:\n",
    "    if month == 'feb':\n",
    "        continue\n",
    "    medians = medians.append(\n",
    "        pd\n",
    "        .read_sql_query('''\n",
    "                    select room_type, listing_id, min(price_usd) as price_per_night\n",
    "                    from {} cal\n",
    "                    join room_types rooms\n",
    "                        on cal.listing_id = rooms.id\n",
    "                    where 1=1\n",
    "                        and date between '{}' and '{}'\n",
    "                        and room_type != 'Shared room'\n",
    "                    group by listing_id, room_type\n",
    "                    having max(available) == 't'\n",
    "                        and min(available) == 't'\n",
    "        '''.format('calendar_' + month, '2019-02-08', '2019-02-10'), con=engine)\n",
    "        .pivot(index = 'listing_id', columns = 'room_type', values = 'price_per_night')\n",
    "        .median()\n",
    "        .to_frame()\n",
    "        .rename(columns = {0: 'booked in ' + month})\n",
    "        .T\n",
    "    , sort=False\n",
    "    )"
   ]
  },
  {
   "cell_type": "code",
   "execution_count": 162,
   "metadata": {},
   "outputs": [],
   "source": [
    "mapper = {'2019-02-08': '<1 week left', '2019-02-15': '2 weeks left', '2019-02-22': '3 weeks left'}"
   ]
  },
  {
   "cell_type": "code",
   "execution_count": 169,
   "metadata": {},
   "outputs": [],
   "source": [
    "for (date_from, date_to) in dates[::-1]:\n",
    "    medians = medians.append(\n",
    "        pd\n",
    "        .read_sql_query('''\n",
    "                    select room_type, listing_id, min(price_usd) as price_per_night\n",
    "                    from {} cal\n",
    "                    join room_types rooms\n",
    "                        on cal.listing_id = rooms.id\n",
    "                    where 1=1\n",
    "                        and date between '{}' and '{}'\n",
    "                        and room_type != 'Shared room'\n",
    "                    group by listing_id, room_type\n",
    "                    having max(available) == 't'\n",
    "                        and min(available) == 't'\n",
    "        '''.format('calendar_feb', date_from, date_to), con=engine)\n",
    "        .pivot(index = 'listing_id', columns = 'room_type', values = 'price_per_night')\n",
    "        .median()\n",
    "        .to_frame()\n",
    "        .rename(columns = {0: mapper[date_from]})\n",
    "        .T\n",
    "    , sort=False)"
   ]
  },
  {
   "cell_type": "code",
   "execution_count": 176,
   "metadata": {},
   "outputs": [
    {
     "data": {
      "text/html": [
       "<iframe id=\"igraph\" scrolling=\"no\" style=\"border:none;\" seamless=\"seamless\" src=\"https://plot.ly/~csabi.elekes/60.embed\" height=\"525px\" width=\"100%\"></iframe>"
      ],
      "text/plain": [
       "<plotly.tools.PlotlyDisplay object>"
      ]
     },
     "execution_count": 176,
     "metadata": {},
     "output_type": "execute_result"
    }
   ],
   "source": [
    "(\n",
    "    medians\n",
    "    .iplot(filename = 'paris_median_price_per_room_type', \n",
    "           mode = 'lines+markers',\n",
    "           layout = graph_objs.Layout(yaxis = dict(range = (0, 150), tickformat = '$.0f'), \n",
    "                                      hovermode = 'closest',\n",
    "                                      title = '<b>Median price is surprisingly stable as the date comes closer</b><br>Nightly price for a February weekend in Paris booked at different times'\n",
    "                                     )\n",
    "          )\n",
    ")"
   ]
  },
  {
   "cell_type": "code",
   "execution_count": null,
   "metadata": {},
   "outputs": [],
   "source": []
  },
  {
   "cell_type": "code",
   "execution_count": null,
   "metadata": {},
   "outputs": [],
   "source": []
  },
  {
   "cell_type": "code",
   "execution_count": 171,
   "metadata": {},
   "outputs": [],
   "source": [
    "low_quartile = pd.DataFrame(columns = ['Entire home/apt', 'Private room', 'Shared room'])\n",
    "for month in months[::-1]:\n",
    "    if month == 'feb':\n",
    "        continue\n",
    "    low_quartile = low_quartile.append(\n",
    "        pd\n",
    "        .read_sql_query('''\n",
    "                    select room_type, listing_id, min(price_usd) as price_per_night\n",
    "                    from {} cal\n",
    "                    join room_types rooms\n",
    "                        on cal.listing_id = rooms.id\n",
    "                    where 1=1\n",
    "                        and date between '{}' and '{}'\n",
    "                        and room_type != 'Shared room'\n",
    "                    group by listing_id, room_type\n",
    "                    having max(available) == 't'\n",
    "                        and min(available) == 't'\n",
    "        '''.format('calendar_' + month, '2019-02-08', '2019-02-10'), con=engine)\n",
    "        .pivot(index = 'listing_id', columns = 'room_type', values = 'price_per_night')\n",
    "        .quantile(.25)\n",
    "        .to_frame()\n",
    "        .rename(columns = {0.25: 'booked in ' + month})\n",
    "        .T\n",
    "    , sort=False\n",
    "    )"
   ]
  },
  {
   "cell_type": "code",
   "execution_count": 172,
   "metadata": {},
   "outputs": [],
   "source": [
    "for (date_from, date_to) in dates[::-1]:\n",
    "    low_quartile = low_quartile.append(\n",
    "        pd\n",
    "        .read_sql_query('''\n",
    "                    select room_type, listing_id, min(price_usd) as price_per_night\n",
    "                    from {} cal\n",
    "                    join room_types rooms\n",
    "                        on cal.listing_id = rooms.id\n",
    "                    where 1=1\n",
    "                        and date between '{}' and '{}'\n",
    "                        and room_type != 'Shared room'\n",
    "                    group by listing_id, room_type\n",
    "                    having max(available) == 't'\n",
    "                        and min(available) == 't'\n",
    "        '''.format('calendar_feb', date_from, date_to), con=engine)\n",
    "        .pivot(index = 'listing_id', columns = 'room_type', values = 'price_per_night')\n",
    "        .quantile(.25)\n",
    "        .to_frame()\n",
    "        .rename(columns = {0.25: mapper[date_from]})\n",
    "        .T\n",
    "    , sort=False\n",
    "    )"
   ]
  },
  {
   "cell_type": "code",
   "execution_count": 175,
   "metadata": {},
   "outputs": [
    {
     "data": {
      "text/html": [
       "<iframe id=\"igraph\" scrolling=\"no\" style=\"border:none;\" seamless=\"seamless\" src=\"https://plot.ly/~csabi.elekes/62.embed\" height=\"525px\" width=\"100%\"></iframe>"
      ],
      "text/plain": [
       "<plotly.tools.PlotlyDisplay object>"
      ]
     },
     "execution_count": 175,
     "metadata": {},
     "output_type": "execute_result"
    }
   ],
   "source": [
    "(\n",
    "    low_quartile\n",
    "    .iplot(filename = 'paris_q1_price_per_room_type', \n",
    "           mode = 'lines+markers',\n",
    "           layout = graph_objs.Layout(yaxis = dict(range = (0, 100), tickformat = '$.0f'), \n",
    "                                      hovermode = 'closest',\n",
    "                                      title = '<b>Bottom 25 percentile price goes up 10% over time</b><br>Nightly price for a February weekend in Paris booked at different times'\n",
    "                                     )\n",
    "          )\n",
    ")"
   ]
  },
  {
   "cell_type": "code",
   "execution_count": null,
   "metadata": {},
   "outputs": [],
   "source": []
  }
 ],
 "metadata": {
  "kernelspec": {
   "display_name": "Python 3",
   "language": "python",
   "name": "python3"
  },
  "language_info": {
   "codemirror_mode": {
    "name": "ipython",
    "version": 3
   },
   "file_extension": ".py",
   "mimetype": "text/x-python",
   "name": "python",
   "nbconvert_exporter": "python",
   "pygments_lexer": "ipython3",
   "version": "3.7.2"
  }
 },
 "nbformat": 4,
 "nbformat_minor": 2
}
