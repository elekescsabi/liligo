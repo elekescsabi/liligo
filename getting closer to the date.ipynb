{
 "cells": [
  {
   "cell_type": "code",
   "execution_count": 1,
   "metadata": {},
   "outputs": [],
   "source": [
    "import plotly.plotly as py\n",
    "import plotly.graph_objs as graph_objs\n",
    "\n",
    "import cufflinks as cf\n",
    "\n",
    "import pandas as pd\n",
    "import numpy as np\n",
    "\n",
    "import sqlite3\n",
    "from sqlalchemy import create_engine"
   ]
  },
  {
   "cell_type": "code",
   "execution_count": 2,
   "metadata": {},
   "outputs": [],
   "source": [
    "engine = create_engine('sqlite:///liligo.db', echo=False)"
   ]
  },
  {
   "cell_type": "markdown",
   "metadata": {},
   "source": [
    "# Let's see how prices go up for a weekend in February\n",
    "we only have one snapshot per month, so the analysis won't be exact, and have to apply some approximations\n",
    "* first check the price of the second weekend in February (8-10), booked at different times -- one date per month from sep to dec\n",
    "* next check how the price of the consecutive weekends changes (feb 8-10, feb 15-17  and feb 22-24)"
   ]
  },
  {
   "cell_type": "code",
   "execution_count": 3,
   "metadata": {},
   "outputs": [],
   "source": [
    "dates = [('2019-02-08', '2019-02-10'), ('2019-02-15', '2019-02-17'), ('2019-02-22', '2019-02-24')]\n",
    "months = ['feb', 'jan', 'dec', 'nov', 'oct', 'sep']"
   ]
  },
  {
   "cell_type": "code",
   "execution_count": 81,
   "metadata": {},
   "outputs": [
    {
     "data": {
      "text/plain": [
       "{'2019-02-08': '<1 week left',\n",
       " '2019-02-15': '2 weeks left',\n",
       " '2019-02-22': '3 weeks left'}"
      ]
     },
     "execution_count": 81,
     "metadata": {},
     "output_type": "execute_result"
    }
   ],
   "source": [
    "mapper = {'2019-02-08': '<1 week left', '2019-02-15': '2 weeks left', '2019-02-22':'3 weeks left'}\n",
    "mapper"
   ]
  },
  {
   "cell_type": "markdown",
   "metadata": {},
   "source": [
    "### Bottom percentile"
   ]
  },
  {
   "cell_type": "code",
   "execution_count": 4,
   "metadata": {},
   "outputs": [
    {
     "name": "stdout",
     "output_type": "stream",
     "text": [
      "2019-02-08 2019-02-10\n",
      "bottom 25 percentile price:  [('feb', 80.0), ('jan', 78.0), ('dec', 75.0), ('nov', 74.0), ('oct', 70.0), ('sep', 69.0)]\n",
      "number of listings for the weened:  [('feb', 6633), ('jan', 11143), ('dec', 14600), ('nov', 14115), ('oct', 15961), ('sep', 18448)]\n",
      "\n",
      "2019-02-15 2019-02-17\n",
      "bottom 25 percentile price:  [('feb', 80.0), ('jan', 78.0), ('dec', 75.0), ('nov', 74.0), ('oct', 70.0), ('sep', 69.0)]\n",
      "number of listings for the weened:  [('feb', 7531), ('jan', 11213), ('dec', 14732), ('nov', 14094), ('oct', 16030), ('sep', 18603)]\n",
      "\n",
      "2019-02-22 2019-02-24\n",
      "bottom 25 percentile price:  [('feb', 79.0), ('jan', 75.0), ('dec', 72.0), ('nov', 74.0), ('oct', 70.0), ('sep', 69.0)]\n",
      "number of listings for the weened:  [('feb', 9324), ('jan', 12382), ('dec', 15587), ('nov', 14600), ('oct', 16456), ('sep', 18935)]\n",
      "\n"
     ]
    }
   ],
   "source": [
    "for (date_from, date_to) in dates:\n",
    "    q3_list = []\n",
    "    cnt_list = []\n",
    "    for month in months:\n",
    "        sql = '''\n",
    "            with cal as (\n",
    "                select listing_id, min(price_usd) as price_per_night\n",
    "                from {}\n",
    "                where 1=1\n",
    "                    and date between '{}' and '{}'\n",
    "                group by listing_id\n",
    "                having max(available) == 't'\n",
    "                    and min(available) == 't'\n",
    "                ) \n",
    "\n",
    "            select \n",
    "                price_per_night as q3_price_per_night\n",
    "            from cal\n",
    "            order by q3_price_per_night\n",
    "            limit 1\n",
    "            offset (select count(*) from cal) / 4\n",
    "        '''.format('calendar_' + month, date_from, date_to)\n",
    "        q3 = pd.read_sql_query(sql, engine)\n",
    "        q3_list.append((month, q3.loc[0, 'q3_price_per_night']))\n",
    "        \n",
    "        sql = '''\n",
    "            select count(*) as cnt\n",
    "            from (\n",
    "                select listing_id, min(price_usd) as price_per_night\n",
    "                from {}\n",
    "                where 1=1\n",
    "                    and date between '{}' and '{}'\n",
    "                group by listing_id\n",
    "                having max(available) == 't'\n",
    "                    and min(available) == 't'\n",
    "                ) \n",
    "        '''.format('calendar_' + month, date_from, date_to)\n",
    "        cnt = pd.read_sql_query(sql, engine)\n",
    "        cnt_list.append((month, cnt.loc[0, 'cnt']))\n",
    "    \n",
    "    print(date_from, date_to)\n",
    "    print('bottom 25 percentile price: ', q3_list)\n",
    "    print('number of listings for the weened: ',  cnt_list)\n",
    "    print()"
   ]
  },
  {
   "cell_type": "code",
   "execution_count": 8,
   "metadata": {},
   "outputs": [
    {
     "data": {
      "text/html": [
       "<div>\n",
       "<style scoped>\n",
       "    .dataframe tbody tr th:only-of-type {\n",
       "        vertical-align: middle;\n",
       "    }\n",
       "\n",
       "    .dataframe tbody tr th {\n",
       "        vertical-align: top;\n",
       "    }\n",
       "\n",
       "    .dataframe thead th {\n",
       "        text-align: right;\n",
       "    }\n",
       "</style>\n",
       "<table border=\"1\" class=\"dataframe\">\n",
       "  <thead>\n",
       "    <tr style=\"text-align: right;\">\n",
       "      <th></th>\n",
       "      <th>q3_price_1w</th>\n",
       "      <th>q3_price_2w</th>\n",
       "      <th>q3_price_3w</th>\n",
       "    </tr>\n",
       "    <tr>\n",
       "      <th>month</th>\n",
       "      <th></th>\n",
       "      <th></th>\n",
       "      <th></th>\n",
       "    </tr>\n",
       "  </thead>\n",
       "  <tbody>\n",
       "    <tr>\n",
       "      <th>sep</th>\n",
       "      <td>69.0</td>\n",
       "      <td>69.0</td>\n",
       "      <td>69.0</td>\n",
       "    </tr>\n",
       "    <tr>\n",
       "      <th>oct</th>\n",
       "      <td>70.0</td>\n",
       "      <td>70.0</td>\n",
       "      <td>70.0</td>\n",
       "    </tr>\n",
       "    <tr>\n",
       "      <th>nov</th>\n",
       "      <td>74.0</td>\n",
       "      <td>74.0</td>\n",
       "      <td>74.0</td>\n",
       "    </tr>\n",
       "    <tr>\n",
       "      <th>dec</th>\n",
       "      <td>75.0</td>\n",
       "      <td>75.0</td>\n",
       "      <td>72.0</td>\n",
       "    </tr>\n",
       "    <tr>\n",
       "      <th>jan</th>\n",
       "      <td>78.0</td>\n",
       "      <td>78.0</td>\n",
       "      <td>75.0</td>\n",
       "    </tr>\n",
       "    <tr>\n",
       "      <th>feb</th>\n",
       "      <td>80.0</td>\n",
       "      <td>80.0</td>\n",
       "      <td>79.0</td>\n",
       "    </tr>\n",
       "  </tbody>\n",
       "</table>\n",
       "</div>"
      ],
      "text/plain": [
       "       q3_price_1w  q3_price_2w  q3_price_3w\n",
       "month                                       \n",
       "sep           69.0         69.0         69.0\n",
       "oct           70.0         70.0         70.0\n",
       "nov           74.0         74.0         74.0\n",
       "dec           75.0         75.0         72.0\n",
       "jan           78.0         78.0         75.0\n",
       "feb           80.0         80.0         79.0"
      ]
     },
     "execution_count": 8,
     "metadata": {},
     "output_type": "execute_result"
    }
   ],
   "source": [
    "q3_prices = (\n",
    "    pd.concat([\n",
    "        (\n",
    "            pd\n",
    "            .DataFrame([('feb', 80.0), ('jan', 78.0), ('dec', 75.0), ('nov', 74.0), ('oct', 70.0), ('sep', 69.0)], columns = ['month', 'q3_price_1w'])\n",
    "            .set_index('month')\n",
    "        ),\n",
    "        (\n",
    "            pd\n",
    "            .DataFrame([('feb', 80.0), ('jan', 78.0), ('dec', 75.0), ('nov', 74.0), ('oct', 70.0), ('sep', 69.0)], columns = ['month', 'q3_price_2w'])\n",
    "            .set_index('month')\n",
    "        ),\n",
    "        (\n",
    "            pd\n",
    "            .DataFrame([('feb', 79.0), ('jan', 75.0), ('dec', 72.0), ('nov', 74.0), ('oct', 70.0), ('sep', 69.0)], columns = ['month', 'q3_price_3w'])\n",
    "            .set_index('month')\n",
    "        )\n",
    "    ], axis = 1)\n",
    "    [::-1]\n",
    ")\n",
    "q3_prices"
   ]
  },
  {
   "cell_type": "markdown",
   "metadata": {},
   "source": [
    "### Median"
   ]
  },
  {
   "cell_type": "code",
   "execution_count": 5,
   "metadata": {},
   "outputs": [
    {
     "name": "stdout",
     "output_type": "stream",
     "text": [
      "2019-02-08 2019-02-10\n",
      "median percentile price:  [('feb', 115.0), ('jan', 110.0), ('dec', 100.0), ('nov', 105.0), ('oct', 100.0), ('sep', 98.0)]\n",
      "\n",
      "2019-02-15 2019-02-17\n",
      "median percentile price:  [('feb', 114.0), ('jan', 110.0), ('dec', 100.0), ('nov', 102.0), ('oct', 100.0), ('sep', 98.0)]\n",
      "\n",
      "2019-02-22 2019-02-24\n",
      "median percentile price:  [('feb', 110.0), ('jan', 110.0), ('dec', 100.0), ('nov', 103.0), ('oct', 100.0), ('sep', 98.0)]\n",
      "\n"
     ]
    }
   ],
   "source": [
    "for (date_from, date_to) in dates:\n",
    "    q4_list = []\n",
    "    for month in months:\n",
    "        sql = '''\n",
    "            with cal as (\n",
    "                select listing_id, min(price_usd) as price_per_night\n",
    "                from {}\n",
    "                where 1=1\n",
    "                    and date between '{}' and '{}'\n",
    "                group by listing_id\n",
    "                having max(available) == 't'\n",
    "                    and min(available) == 't'\n",
    "                ) \n",
    "\n",
    "            select \n",
    "                price_per_night as median_price_per_night\n",
    "            from cal\n",
    "            order by median_price_per_night\n",
    "            limit 1\n",
    "            offset (select count(*) from cal) / 2\n",
    "        '''.format('calendar_' + month, date_from, date_to)\n",
    "        q4 = pd.read_sql_query(sql, engine)\n",
    "        q4_list.append((month, q4.loc[0, 'median_price_per_night']))\n",
    "    \n",
    "    print(date_from, date_to)\n",
    "    print('median percentile price: ', q4_list)\n",
    "    print()"
   ]
  },
  {
   "cell_type": "code",
   "execution_count": 9,
   "metadata": {},
   "outputs": [
    {
     "data": {
      "text/html": [
       "<div>\n",
       "<style scoped>\n",
       "    .dataframe tbody tr th:only-of-type {\n",
       "        vertical-align: middle;\n",
       "    }\n",
       "\n",
       "    .dataframe tbody tr th {\n",
       "        vertical-align: top;\n",
       "    }\n",
       "\n",
       "    .dataframe thead th {\n",
       "        text-align: right;\n",
       "    }\n",
       "</style>\n",
       "<table border=\"1\" class=\"dataframe\">\n",
       "  <thead>\n",
       "    <tr style=\"text-align: right;\">\n",
       "      <th></th>\n",
       "      <th>median_price_1w</th>\n",
       "      <th>median_price_2w</th>\n",
       "      <th>median_price_3w</th>\n",
       "    </tr>\n",
       "    <tr>\n",
       "      <th>month</th>\n",
       "      <th></th>\n",
       "      <th></th>\n",
       "      <th></th>\n",
       "    </tr>\n",
       "  </thead>\n",
       "  <tbody>\n",
       "    <tr>\n",
       "      <th>sep</th>\n",
       "      <td>98.0</td>\n",
       "      <td>98.0</td>\n",
       "      <td>98.0</td>\n",
       "    </tr>\n",
       "    <tr>\n",
       "      <th>oct</th>\n",
       "      <td>100.0</td>\n",
       "      <td>100.0</td>\n",
       "      <td>100.0</td>\n",
       "    </tr>\n",
       "    <tr>\n",
       "      <th>nov</th>\n",
       "      <td>105.0</td>\n",
       "      <td>102.0</td>\n",
       "      <td>103.0</td>\n",
       "    </tr>\n",
       "    <tr>\n",
       "      <th>dec</th>\n",
       "      <td>100.0</td>\n",
       "      <td>100.0</td>\n",
       "      <td>100.0</td>\n",
       "    </tr>\n",
       "    <tr>\n",
       "      <th>jan</th>\n",
       "      <td>110.0</td>\n",
       "      <td>110.0</td>\n",
       "      <td>110.0</td>\n",
       "    </tr>\n",
       "    <tr>\n",
       "      <th>feb</th>\n",
       "      <td>115.0</td>\n",
       "      <td>114.0</td>\n",
       "      <td>110.0</td>\n",
       "    </tr>\n",
       "  </tbody>\n",
       "</table>\n",
       "</div>"
      ],
      "text/plain": [
       "       median_price_1w  median_price_2w  median_price_3w\n",
       "month                                                   \n",
       "sep               98.0             98.0             98.0\n",
       "oct              100.0            100.0            100.0\n",
       "nov              105.0            102.0            103.0\n",
       "dec              100.0            100.0            100.0\n",
       "jan              110.0            110.0            110.0\n",
       "feb              115.0            114.0            110.0"
      ]
     },
     "execution_count": 9,
     "metadata": {},
     "output_type": "execute_result"
    }
   ],
   "source": [
    "median_prices = (\n",
    "    pd.concat([\n",
    "        (\n",
    "            pd\n",
    "            .DataFrame([('feb', 115.0), ('jan', 110.0), ('dec', 100.0), ('nov', 105.0), ('oct', 100.0), ('sep', 98.0)], columns = ['month', 'median_price_1w'])\n",
    "            .set_index('month')\n",
    "        ),\n",
    "        (\n",
    "            pd\n",
    "            .DataFrame([('feb', 114.0), ('jan', 110.0), ('dec', 100.0), ('nov', 102.0), ('oct', 100.0), ('sep', 98.0)], columns = ['month', 'median_price_2w'])\n",
    "            .set_index('month')\n",
    "        ),\n",
    "        (\n",
    "            pd\n",
    "            .DataFrame([('feb', 110.0), ('jan', 110.0), ('dec', 100.0), ('nov', 103.0), ('oct', 100.0), ('sep', 98.0)], columns = ['month', 'median_price_3w'])\n",
    "            .set_index('month')\n",
    "        )\n",
    "    ], axis = 1)\n",
    "    [::-1]\n",
    ")\n",
    "median_prices"
   ]
  },
  {
   "cell_type": "markdown",
   "metadata": {},
   "source": [
    "### Top percentile"
   ]
  },
  {
   "cell_type": "code",
   "execution_count": 7,
   "metadata": {},
   "outputs": [
    {
     "name": "stdout",
     "output_type": "stream",
     "text": [
      "2019-02-08 2019-02-10\n",
      "top 25 percentile price:  [('feb', 190.0), ('jan', 175.0), ('dec', 161.0), ('nov', 170.0), ('oct', 160.0), ('sep', 150.0)]\n",
      "\n",
      "2019-02-15 2019-02-17\n",
      "top 25 percentile price:  [('feb', 189.0), ('jan', 175.0), ('dec', 160.0), ('nov', 169.0), ('oct', 160.0), ('sep', 150.0)]\n",
      "\n",
      "2019-02-22 2019-02-24\n",
      "top 25 percentile price:  [('feb', 180.0), ('jan', 170.0), ('dec', 160.0), ('nov', 170.0), ('oct', 160.0), ('sep', 150.0)]\n",
      "\n"
     ]
    }
   ],
   "source": [
    "for (date_from, date_to) in dates:\n",
    "    q1_list = []\n",
    "    for month in months:\n",
    "        sql = '''\n",
    "            with cal as (\n",
    "                select listing_id, min(price_usd) as price_per_night\n",
    "                from {}\n",
    "                where 1=1\n",
    "                    and date between '{}' and '{}'\n",
    "                group by listing_id\n",
    "                having max(available) == 't'\n",
    "                    and min(available) == 't'\n",
    "                ) \n",
    "\n",
    "            select \n",
    "                price_per_night as q1_price_per_night\n",
    "            from cal\n",
    "            order by q1_price_per_night\n",
    "            limit 1\n",
    "            offset (select count(*) from cal) / 4 * 3\n",
    "        '''.format('calendar_' + month, date_from, date_to)\n",
    "        q1 = pd.read_sql_query(sql, engine)\n",
    "        q1_list.append((month, q1.loc[0, 'q1_price_per_night']))\n",
    "\n",
    "    \n",
    "    print(date_from, date_to)\n",
    "    print('top 25 percentile price: ', q1_list)\n",
    "    print()"
   ]
  },
  {
   "cell_type": "code",
   "execution_count": 10,
   "metadata": {},
   "outputs": [
    {
     "data": {
      "text/html": [
       "<div>\n",
       "<style scoped>\n",
       "    .dataframe tbody tr th:only-of-type {\n",
       "        vertical-align: middle;\n",
       "    }\n",
       "\n",
       "    .dataframe tbody tr th {\n",
       "        vertical-align: top;\n",
       "    }\n",
       "\n",
       "    .dataframe thead th {\n",
       "        text-align: right;\n",
       "    }\n",
       "</style>\n",
       "<table border=\"1\" class=\"dataframe\">\n",
       "  <thead>\n",
       "    <tr style=\"text-align: right;\">\n",
       "      <th></th>\n",
       "      <th>q1_price_1w</th>\n",
       "      <th>q1_price_2w</th>\n",
       "      <th>q1_price_3w</th>\n",
       "    </tr>\n",
       "    <tr>\n",
       "      <th>month</th>\n",
       "      <th></th>\n",
       "      <th></th>\n",
       "      <th></th>\n",
       "    </tr>\n",
       "  </thead>\n",
       "  <tbody>\n",
       "    <tr>\n",
       "      <th>sep</th>\n",
       "      <td>150.0</td>\n",
       "      <td>150.0</td>\n",
       "      <td>150.0</td>\n",
       "    </tr>\n",
       "    <tr>\n",
       "      <th>oct</th>\n",
       "      <td>160.0</td>\n",
       "      <td>160.0</td>\n",
       "      <td>160.0</td>\n",
       "    </tr>\n",
       "    <tr>\n",
       "      <th>nov</th>\n",
       "      <td>170.0</td>\n",
       "      <td>169.0</td>\n",
       "      <td>170.0</td>\n",
       "    </tr>\n",
       "    <tr>\n",
       "      <th>dec</th>\n",
       "      <td>161.0</td>\n",
       "      <td>160.0</td>\n",
       "      <td>160.0</td>\n",
       "    </tr>\n",
       "    <tr>\n",
       "      <th>jan</th>\n",
       "      <td>175.0</td>\n",
       "      <td>175.0</td>\n",
       "      <td>170.0</td>\n",
       "    </tr>\n",
       "    <tr>\n",
       "      <th>feb</th>\n",
       "      <td>190.0</td>\n",
       "      <td>189.0</td>\n",
       "      <td>180.0</td>\n",
       "    </tr>\n",
       "  </tbody>\n",
       "</table>\n",
       "</div>"
      ],
      "text/plain": [
       "       q1_price_1w  q1_price_2w  q1_price_3w\n",
       "month                                       \n",
       "sep          150.0        150.0        150.0\n",
       "oct          160.0        160.0        160.0\n",
       "nov          170.0        169.0        170.0\n",
       "dec          161.0        160.0        160.0\n",
       "jan          175.0        175.0        170.0\n",
       "feb          190.0        189.0        180.0"
      ]
     },
     "execution_count": 10,
     "metadata": {},
     "output_type": "execute_result"
    }
   ],
   "source": [
    "q1_prices = (\n",
    "    pd.concat([\n",
    "        (\n",
    "            pd\n",
    "            .DataFrame([('feb', 190.0), ('jan', 175.0), ('dec', 161.0), ('nov', 170.0), ('oct', 160.0), ('sep', 150.0)], columns = ['month', 'q1_price_1w'])\n",
    "            .set_index('month')\n",
    "        ),\n",
    "        (\n",
    "            pd\n",
    "            .DataFrame([('feb', 189.0), ('jan', 175.0), ('dec', 160.0), ('nov', 169.0), ('oct', 160.0), ('sep', 150.0)], columns = ['month', 'q1_price_2w'])\n",
    "            .set_index('month')\n",
    "        ),\n",
    "        (\n",
    "            pd\n",
    "            .DataFrame([('feb', 180.0), ('jan', 170.0), ('dec', 160.0), ('nov', 170.0), ('oct', 160.0), ('sep', 150.0)], columns = ['month', 'q1_price_3w'])\n",
    "            .set_index('month')\n",
    "        )\n",
    "    ], axis = 1)\n",
    "    [::-1]\n",
    ")\n",
    "q1_prices"
   ]
  },
  {
   "cell_type": "markdown",
   "metadata": {},
   "source": [
    "Take the average of the three weekends"
   ]
  },
  {
   "cell_type": "code",
   "execution_count": 36,
   "metadata": {},
   "outputs": [
    {
     "data": {
      "text/html": [
       "<iframe id=\"igraph\" scrolling=\"no\" style=\"border:none;\" seamless=\"seamless\" src=\"https://plot.ly/~csabi.elekes/50.embed\" height=\"525px\" width=\"100%\"></iframe>"
      ],
      "text/plain": [
       "<plotly.tools.PlotlyDisplay object>"
      ]
     },
     "execution_count": 36,
     "metadata": {},
     "output_type": "execute_result"
    }
   ],
   "source": [
    "(\n",
    "    pd.concat([\n",
    "        q1_prices.mean(axis=1).rename('top 25 perc price'),\n",
    "        median_prices.mean(axis=1).rename('median price'), \n",
    "        q3_prices.mean(axis=1).rename('bottom 25 perc price'),\n",
    "    ], axis = 1)\n",
    "    .iplot(filename = 'paris_median_price', \n",
    "           mode = 'lines+markers',\n",
    "           layout = graph_objs.Layout(yaxis = dict(range = (0, 200), tickformat = '$.0f'), \n",
    "                                      hovermode = 'closest',\n",
    "                                      title = '<b>As the date comes closer, prices go up by 10-15%</b><br>Nightly price for a February weekend in Paris booked at different times'\n",
    "                                     )\n",
    "          )\n",
    ")"
   ]
  },
  {
   "cell_type": "markdown",
   "metadata": {},
   "source": [
    "# Number of listings"
   ]
  },
  {
   "cell_type": "code",
   "execution_count": 40,
   "metadata": {},
   "outputs": [
    {
     "name": "stdout",
     "output_type": "stream",
     "text": [
      "number of listings for the weened:  [('booked in jan', 11143), ('booked in dec', 14600), ('booked in nov', 14115), ('booked in oct', 15961), ('booked in sep', 18448)]\n"
     ]
    }
   ],
   "source": [
    "cnt_list = []\n",
    "for month in months:\n",
    "    if month == 'feb':\n",
    "        continue\n",
    "        \n",
    "    sql = '''\n",
    "        select count(*) as cnt\n",
    "        from (\n",
    "            select listing_id, min(price_usd) as price_per_night\n",
    "            from {}\n",
    "            where 1=1\n",
    "                and date between '2019-02-08' and '2019-02-10'\n",
    "            group by listing_id\n",
    "            having max(available) == 't'\n",
    "                and min(available) == 't'\n",
    "            ) \n",
    "    '''.format('calendar_' + month)\n",
    "    cnt = pd.read_sql_query(sql, engine)\n",
    "    cnt_list.append(('booked in ' + month, cnt.loc[0, 'cnt']))\n",
    "\n",
    "print('number of listings for the weened: ',  cnt_list)"
   ]
  },
  {
   "cell_type": "code",
   "execution_count": 39,
   "metadata": {},
   "outputs": [
    {
     "name": "stdout",
     "output_type": "stream",
     "text": [
      "number of listings for the weened:  [('<1 week left', 6633), ('2 weeks left', 7531), ('3 weeks left', 9324)]\n"
     ]
    }
   ],
   "source": [
    "cnt_feb = []\n",
    "for (date_from, date_to) in dates:\n",
    "    sql = '''\n",
    "        select count(*) as cnt\n",
    "        from (\n",
    "            select listing_id, min(price_usd) as price_per_night\n",
    "            from calendar_feb\n",
    "            where 1=1\n",
    "                and date between '{}' and '{}'\n",
    "            group by listing_id\n",
    "            having max(available) == 't'\n",
    "                and min(available) == 't'\n",
    "            ) \n",
    "    '''.format(date_from, date_to)\n",
    "    cnt = pd.read_sql_query(sql, engine)\n",
    "    cnt_feb.append((mapper[date_from], cnt.loc[0, 'cnt']))\n",
    "\n",
    "print('number of listings for the weened: ',  cnt_feb)"
   ]
  },
  {
   "cell_type": "code",
   "execution_count": 90,
   "metadata": {},
   "outputs": [
    {
     "data": {
      "text/html": [
       "<iframe id=\"igraph\" scrolling=\"no\" style=\"border:none;\" seamless=\"seamless\" src=\"https://plot.ly/~csabi.elekes/54.embed\" height=\"525px\" width=\"100%\"></iframe>"
      ],
      "text/plain": [
       "<plotly.tools.PlotlyDisplay object>"
      ]
     },
     "execution_count": 90,
     "metadata": {},
     "output_type": "execute_result"
    }
   ],
   "source": [
    "(\n",
    "    pd\n",
    "    .concat([\n",
    "        pd.DataFrame([('<1 week left', 6633), ('2 weeks left', 7531), ('3 weeks left', 9324)], columns = ['month', 'count']),\n",
    "        pd.DataFrame([('booked in jan', 11143), ('booked in dec', 14600), ('booked in nov', 14115), ('booked in oct', 15961), ('booked in sep', 18448)], columns = ['month', 'count'])\n",
    "        ])\n",
    "    .set_index('month')\n",
    "    [::-1]\n",
    "    .iplot(filename = 'paris_counts', kind = 'bar', dimensions = (10, 2),\n",
    "           layout = graph_objs.Layout(title = '<b>Number of available places drop quickly in the last 4 weeks before the trip</b><br>Number of listings for a February weekend in Paris at different times', \n",
    "                                      hovermode = 'closest')\n",
    "          )\n",
    ")"
   ]
  },
  {
   "cell_type": "code",
   "execution_count": null,
   "metadata": {},
   "outputs": [],
   "source": []
  },
  {
   "cell_type": "markdown",
   "metadata": {},
   "source": [
    "# Break down by room type"
   ]
  },
  {
   "cell_type": "markdown",
   "metadata": {},
   "source": [
    "### Booked at different months"
   ]
  },
  {
   "cell_type": "code",
   "execution_count": 19,
   "metadata": {},
   "outputs": [
    {
     "name": "stdout",
     "output_type": "stream",
     "text": [
      "number of listings for the weened:  [('booked in feb', 'Entire home/apt', 5166), ('booked in feb', 'Private room', 1340), ('booked in feb', 'Shared room', 127), ('booked in jan', 'Entire home/apt', 8205), ('booked in jan', 'Private room', 1945), ('booked in jan', 'Shared room', 162), ('booked in dec', 'Entire home/apt', 10004), ('booked in dec', 'Private room', 2259), ('booked in dec', 'Shared room', 171), ('booked in nov', 'Entire home/apt', 9298), ('booked in nov', 'Private room', 1938), ('booked in nov', 'Shared room', 152), ('booked in oct', 'Entire home/apt', 10072), ('booked in oct', 'Private room', 1976), ('booked in oct', 'Shared room', 149), ('booked in sep', 'Entire home/apt', 10947), ('booked in sep', 'Private room', 1997), ('booked in sep', 'Shared room', 142)]\n"
     ]
    }
   ],
   "source": [
    "cnt_list = []\n",
    "for month in months:\n",
    "    sql = '''\n",
    "            select \n",
    "                  room.room_type as room_type\n",
    "                , count(cal.listing_id) as cnt\n",
    "            from (\n",
    "                select listing_id\n",
    "                from {} \n",
    "                where 1=1\n",
    "                    and date between '2019-02-08' and '2019-02-10'\n",
    "                group by listing_id\n",
    "                having max(available) == 't'\n",
    "                    and min(available) == 't'\n",
    "                ) cal\n",
    "            join room_types room\n",
    "                on cal.listing_id = room.id\n",
    "            group by room.room_type\n",
    "    '''.format('calendar_' + month)\n",
    "    cnt = pd.read_sql_query(sql, engine)\n",
    "    for ix, _ in cnt.iterrows():\n",
    "        cnt_list.append(('booked in ' + month, cnt.loc[ix, 'room_type'], cnt.loc[ix, 'cnt']))\n",
    "\n",
    "print('number of listings for the weened: ',  cnt_list)"
   ]
  },
  {
   "cell_type": "markdown",
   "metadata": {},
   "source": [
    "### Different weekends booked on the same day"
   ]
  },
  {
   "cell_type": "code",
   "execution_count": 41,
   "metadata": {},
   "outputs": [
    {
     "name": "stdout",
     "output_type": "stream",
     "text": [
      "number of listings for the weened:  [('<1 week left', 'Entire home/apt', 5166), ('<1 week left', 'Private room', 1340), ('<1 week left', 'Shared room', 127), ('2 weeks left', 'Entire home/apt', 5851), ('2 weeks left', 'Private room', 1527), ('2 weeks left', 'Shared room', 153), ('3 weeks left', 'Entire home/apt', 7356), ('3 weeks left', 'Private room', 1794), ('3 weeks left', 'Shared room', 174)]\n"
     ]
    }
   ],
   "source": [
    "cnt_feb = []\n",
    "for (date_from, date_to) in dates:\n",
    "    sql = '''\n",
    "            select \n",
    "                  room.room_type as room_type\n",
    "                , count(cal.listing_id) as cnt\n",
    "            from (\n",
    "                select listing_id\n",
    "                from calendar_feb \n",
    "                where 1=1\n",
    "                    and date between '{}' and '{}'\n",
    "                group by listing_id\n",
    "                having max(available) == 't'\n",
    "                    and min(available) == 't'\n",
    "                ) cal\n",
    "            join room_types room\n",
    "                on cal.listing_id = room.id\n",
    "            group by room.room_type\n",
    "    '''.format(date_from, date_to)\n",
    "    cnt = pd.read_sql_query(sql, engine)\n",
    "    for ix, _ in cnt.iterrows():\n",
    "        cnt_feb.append((mapper[date_from], cnt.loc[ix, 'room_type'], cnt.loc[ix, 'cnt']))\n",
    "\n",
    "print('number of listings for the weened: ',  cnt_feb)"
   ]
  },
  {
   "cell_type": "code",
   "execution_count": 21,
   "metadata": {},
   "outputs": [
    {
     "data": {
      "text/html": [
       "<div>\n",
       "<style scoped>\n",
       "    .dataframe tbody tr th:only-of-type {\n",
       "        vertical-align: middle;\n",
       "    }\n",
       "\n",
       "    .dataframe tbody tr th {\n",
       "        vertical-align: top;\n",
       "    }\n",
       "\n",
       "    .dataframe thead th {\n",
       "        text-align: right;\n",
       "    }\n",
       "</style>\n",
       "<table border=\"1\" class=\"dataframe\">\n",
       "  <thead>\n",
       "    <tr style=\"text-align: right;\">\n",
       "      <th>room_type</th>\n",
       "      <th>Entire home/apt</th>\n",
       "      <th>Private room</th>\n",
       "      <th>Shared room</th>\n",
       "    </tr>\n",
       "    <tr>\n",
       "      <th>booked</th>\n",
       "      <th></th>\n",
       "      <th></th>\n",
       "      <th></th>\n",
       "    </tr>\n",
       "  </thead>\n",
       "  <tbody>\n",
       "    <tr>\n",
       "      <th>booked in sep</th>\n",
       "      <td>0.836543</td>\n",
       "      <td>0.152606</td>\n",
       "      <td>0.010851</td>\n",
       "    </tr>\n",
       "    <tr>\n",
       "      <th>booked in oct</th>\n",
       "      <td>0.825777</td>\n",
       "      <td>0.162007</td>\n",
       "      <td>0.012216</td>\n",
       "    </tr>\n",
       "    <tr>\n",
       "      <th>booked in nov</th>\n",
       "      <td>0.816473</td>\n",
       "      <td>0.170179</td>\n",
       "      <td>0.013347</td>\n",
       "    </tr>\n",
       "    <tr>\n",
       "      <th>booked in dec</th>\n",
       "      <td>0.804568</td>\n",
       "      <td>0.181679</td>\n",
       "      <td>0.013753</td>\n",
       "    </tr>\n",
       "    <tr>\n",
       "      <th>booked in jan</th>\n",
       "      <td>0.795675</td>\n",
       "      <td>0.188615</td>\n",
       "      <td>0.015710</td>\n",
       "    </tr>\n",
       "  </tbody>\n",
       "</table>\n",
       "</div>"
      ],
      "text/plain": [
       "room_type      Entire home/apt  Private room  Shared room\n",
       "booked                                                   \n",
       "booked in sep         0.836543      0.152606     0.010851\n",
       "booked in oct         0.825777      0.162007     0.012216\n",
       "booked in nov         0.816473      0.170179     0.013347\n",
       "booked in dec         0.804568      0.181679     0.013753\n",
       "booked in jan         0.795675      0.188615     0.015710"
      ]
     },
     "execution_count": 21,
     "metadata": {},
     "output_type": "execute_result"
    }
   ],
   "source": [
    "m = (\n",
    "    pd\n",
    "    .DataFrame([('booked in feb', 'Entire home/apt', 5166), ('booked in feb', 'Private room', 1340), ('booked in feb', 'Shared room', 127), \n",
    "                ('booked in jan', 'Entire home/apt', 8205), ('booked in jan', 'Private room', 1945), ('booked in jan', 'Shared room', 162), \n",
    "                ('booked in dec', 'Entire home/apt', 10004), ('booked in dec', 'Private room', 2259), ('booked in dec', 'Shared room', 171), \n",
    "                ('booked in nov', 'Entire home/apt', 9298), ('booked in nov', 'Private room', 1938), ('booked in nov', 'Shared room', 152), \n",
    "                ('booked in oct', 'Entire home/apt', 10072), ('booked in oct', 'Private room', 1976), ('booked in oct', 'Shared room', 149), \n",
    "                ('booked in sep', 'Entire home/apt', 10947), ('booked in sep', 'Private room', 1997), ('booked in sep', 'Shared room', 142)],\n",
    "               columns = ['booked', 'room_type', 'cnt'])\n",
    "    .pivot(columns = 'booked', index = 'room_type', values = 'cnt')\n",
    "    [['booked in sep', 'booked in oct', 'booked in nov', 'booked in dec', 'booked in jan']]\n",
    "    .T\n",
    "    .apply(lambda col: col / col.sum(), axis = 1)\n",
    ")\n",
    "m"
   ]
  },
  {
   "cell_type": "code",
   "execution_count": 22,
   "metadata": {},
   "outputs": [
    {
     "data": {
      "text/html": [
       "<div>\n",
       "<style scoped>\n",
       "    .dataframe tbody tr th:only-of-type {\n",
       "        vertical-align: middle;\n",
       "    }\n",
       "\n",
       "    .dataframe tbody tr th {\n",
       "        vertical-align: top;\n",
       "    }\n",
       "\n",
       "    .dataframe thead th {\n",
       "        text-align: right;\n",
       "    }\n",
       "</style>\n",
       "<table border=\"1\" class=\"dataframe\">\n",
       "  <thead>\n",
       "    <tr style=\"text-align: right;\">\n",
       "      <th>room_type</th>\n",
       "      <th>Entire home/apt</th>\n",
       "      <th>Private room</th>\n",
       "      <th>Shared room</th>\n",
       "    </tr>\n",
       "    <tr>\n",
       "      <th>booked</th>\n",
       "      <th></th>\n",
       "      <th></th>\n",
       "      <th></th>\n",
       "    </tr>\n",
       "  </thead>\n",
       "  <tbody>\n",
       "    <tr>\n",
       "      <th>3 weeks left</th>\n",
       "      <td>0.788932</td>\n",
       "      <td>0.192407</td>\n",
       "      <td>0.018662</td>\n",
       "    </tr>\n",
       "    <tr>\n",
       "      <th>2 weeks left</th>\n",
       "      <td>0.776922</td>\n",
       "      <td>0.202762</td>\n",
       "      <td>0.020316</td>\n",
       "    </tr>\n",
       "    <tr>\n",
       "      <th>&lt;1 week left</th>\n",
       "      <td>0.778833</td>\n",
       "      <td>0.202020</td>\n",
       "      <td>0.019147</td>\n",
       "    </tr>\n",
       "  </tbody>\n",
       "</table>\n",
       "</div>"
      ],
      "text/plain": [
       "room_type     Entire home/apt  Private room  Shared room\n",
       "booked                                                  \n",
       "3 weeks left         0.788932      0.192407     0.018662\n",
       "2 weeks left         0.776922      0.202762     0.020316\n",
       "<1 week left         0.778833      0.202020     0.019147"
      ]
     },
     "execution_count": 22,
     "metadata": {},
     "output_type": "execute_result"
    }
   ],
   "source": [
    "w = (\n",
    "    pd\n",
    "    .DataFrame([('<1 week left', 'Entire home/apt', 5166), ('<1 week left', 'Private room', 1340), ('<1 week left', 'Shared room', 127), \n",
    "                ('2 weeks left', 'Entire home/apt', 5851), ('2 weeks left', 'Private room', 1527), ('2 weeks left', 'Shared room', 153), \n",
    "                ('3 weeks left', 'Entire home/apt', 7356), ('3 weeks left', 'Private room', 1794), ('3 weeks left', 'Shared room', 174)],\n",
    "               columns = ['booked', 'room_type', 'cnt'])\n",
    "    .pivot(columns = 'booked', index = 'room_type', values = 'cnt')\n",
    "    [['3 weeks left', '2 weeks left', '<1 week left']]\n",
    "    .T\n",
    "    .apply(lambda col: col / col.sum(), axis = 1)\n",
    ")\n",
    "w"
   ]
  },
  {
   "cell_type": "code",
   "execution_count": 68,
   "metadata": {},
   "outputs": [
    {
     "data": {
      "text/html": [
       "<div>\n",
       "<style scoped>\n",
       "    .dataframe tbody tr th:only-of-type {\n",
       "        vertical-align: middle;\n",
       "    }\n",
       "\n",
       "    .dataframe tbody tr th {\n",
       "        vertical-align: top;\n",
       "    }\n",
       "\n",
       "    .dataframe thead th {\n",
       "        text-align: right;\n",
       "    }\n",
       "</style>\n",
       "<table border=\"1\" class=\"dataframe\">\n",
       "  <thead>\n",
       "    <tr style=\"text-align: right;\">\n",
       "      <th>room_type</th>\n",
       "      <th>Entire home/apt</th>\n",
       "      <th>Private room</th>\n",
       "      <th>Shared room</th>\n",
       "    </tr>\n",
       "    <tr>\n",
       "      <th>booked</th>\n",
       "      <th></th>\n",
       "      <th></th>\n",
       "      <th></th>\n",
       "    </tr>\n",
       "  </thead>\n",
       "  <tbody>\n",
       "    <tr>\n",
       "      <th>booked in sep</th>\n",
       "      <td>10947</td>\n",
       "      <td>1997</td>\n",
       "      <td>142</td>\n",
       "    </tr>\n",
       "    <tr>\n",
       "      <th>booked in oct</th>\n",
       "      <td>10072</td>\n",
       "      <td>1976</td>\n",
       "      <td>149</td>\n",
       "    </tr>\n",
       "    <tr>\n",
       "      <th>booked in nov</th>\n",
       "      <td>9298</td>\n",
       "      <td>1938</td>\n",
       "      <td>152</td>\n",
       "    </tr>\n",
       "    <tr>\n",
       "      <th>booked in dec</th>\n",
       "      <td>10004</td>\n",
       "      <td>2259</td>\n",
       "      <td>171</td>\n",
       "    </tr>\n",
       "    <tr>\n",
       "      <th>booked in jan</th>\n",
       "      <td>8205</td>\n",
       "      <td>1945</td>\n",
       "      <td>162</td>\n",
       "    </tr>\n",
       "    <tr>\n",
       "      <th>3 weeks left</th>\n",
       "      <td>7356</td>\n",
       "      <td>1794</td>\n",
       "      <td>174</td>\n",
       "    </tr>\n",
       "    <tr>\n",
       "      <th>2 weeks left</th>\n",
       "      <td>5851</td>\n",
       "      <td>1527</td>\n",
       "      <td>153</td>\n",
       "    </tr>\n",
       "    <tr>\n",
       "      <th>&lt;1 week left</th>\n",
       "      <td>5166</td>\n",
       "      <td>1340</td>\n",
       "      <td>127</td>\n",
       "    </tr>\n",
       "  </tbody>\n",
       "</table>\n",
       "</div>"
      ],
      "text/plain": [
       "room_type      Entire home/apt  Private room  Shared room\n",
       "booked                                                   \n",
       "booked in sep            10947          1997          142\n",
       "booked in oct            10072          1976          149\n",
       "booked in nov             9298          1938          152\n",
       "booked in dec            10004          2259          171\n",
       "booked in jan             8205          1945          162\n",
       "3 weeks left              7356          1794          174\n",
       "2 weeks left              5851          1527          153\n",
       "<1 week left              5166          1340          127"
      ]
     },
     "execution_count": 68,
     "metadata": {},
     "output_type": "execute_result"
    }
   ],
   "source": [
    "pd.concat([m2, w2])"
   ]
  },
  {
   "cell_type": "code",
   "execution_count": 51,
   "metadata": {},
   "outputs": [
    {
     "data": {
      "image/png": "[encoded data removed]",
      "text/plain": [
       "<Figure size 1152x432 with 1 Axes>"
      ]
     },
     "metadata": {
      "needs_background": "light"
     },
     "output_type": "display_data"
    }
   ],
   "source": [
    "pd.concat([m2, w2]).plot(kind ='bar', stacked = True, title = 'Number of avaliable places over time', figsize = (16, 6));"
   ]
  },
  {
   "cell_type": "code",
   "execution_count": 92,
   "metadata": {},
   "outputs": [
    {
     "data": {
      "text/html": [
       "<iframe id=\"igraph\" scrolling=\"no\" style=\"border:none;\" seamless=\"seamless\" src=\"https://plot.ly/~csabi.elekes/58.embed\" height=\"525px\" width=\"100%\"></iframe>"
      ],
      "text/plain": [
       "<plotly.tools.PlotlyDisplay object>"
      ]
     },
     "execution_count": 92,
     "metadata": {},
     "output_type": "execute_result"
    }
   ],
   "source": [
    "(\n",
    "    pd\n",
    "    .concat([m, w])\n",
    "    .iplot(filename = 'paris_counts_2', \n",
    "           mode = 'lines+markers',\n",
    "           layout = graph_objs.Layout(title = '\"Entire apartments\" are booked at a higher rate than \"Private rooms\"',\n",
    "                                      yaxis = dict(tickformat = '%a', title = 'Share of available listings', range = (0, 1)))\n",
    "          )\n",
    ")"
   ]
  },
  {
   "cell_type": "markdown",
   "metadata": {},
   "source": [
    "# Instant bookable"
   ]
  },
  {
   "cell_type": "code",
   "execution_count": 127,
   "metadata": {},
   "outputs": [
    {
     "name": "stdout",
     "output_type": "stream",
     "text": [
      "instant bookable (f, t):  [('booked in jan', 6693, 4450), ('booked in dec', 9068, 5532), ('booked in nov', 8731, 5384), ('booked in oct', 10219, 5742), ('booked in sep', 12038, 6410)]\n"
     ]
    }
   ],
   "source": [
    "instant_list = []\n",
    "for month in months:\n",
    "    if month == 'feb':\n",
    "        continue\n",
    "    sql = '''\n",
    "        select instant_bookable, count(*) as cnt\n",
    "        from (\n",
    "            select listing_id, min(price_usd) as price_per_night\n",
    "            from {}\n",
    "            where 1=1\n",
    "                and date between '2019-02-08' and '2019-02-10'\n",
    "            group by listing_id\n",
    "            having max(available) == 't'\n",
    "                and min(available) == 't'\n",
    "            ) listings\n",
    "        join {} inst\n",
    "            on listings.listing_id = inst.id\n",
    "        group by instant_bookable\n",
    "        order by instant_bookable\n",
    "    '''.format('calendar_' + month, 'instant_' + month)\n",
    "    df = pd.read_sql_query(sql, engine)\n",
    "    instant_list.append(('booked in ' + month, df.loc[0, 'cnt'], df.loc[1, 'cnt']))\n",
    "\n",
    "print('instant bookable (f, t): ',  instant_list)"
   ]
  },
  {
   "cell_type": "code",
   "execution_count": 106,
   "metadata": {},
   "outputs": [
    {
     "name": "stdout",
     "output_type": "stream",
     "text": [
      "instant bookable (f, t):  [('<1 week left', 4267, 2366), ('2 weeks left', 4846, 2685), ('3 weeks left', 5679, 3645)]\n"
     ]
    }
   ],
   "source": [
    "instant_feb = []\n",
    "for (date_from, date_to) in dates:\n",
    "    sql = '''\n",
    "        select instant_bookable, count(*) as cnt\n",
    "        from (\n",
    "            select listing_id, min(price_usd) as price_per_night\n",
    "            from {}\n",
    "            where 1=1\n",
    "                and date between '{}' and '{}'\n",
    "            group by listing_id\n",
    "            having max(available) == 't'\n",
    "                and min(available) == 't'\n",
    "            ) listings\n",
    "        join instant inst\n",
    "            on listings.listing_id = inst.id\n",
    "        group by instant_bookable\n",
    "        order by instant_bookable\n",
    "    '''.format('calendar_feb', date_from, date_to)\n",
    "    df = pd.read_sql_query(sql, engine)\n",
    "    instant_feb.append((mapper[date_from], df.loc[0, 'cnt'], df.loc[1, 'cnt']))\n",
    "\n",
    "print('instant bookable (f, t): ',  instant_feb)"
   ]
  },
  {
   "cell_type": "code",
   "execution_count": 120,
   "metadata": {},
   "outputs": [
    {
     "data": {
      "text/plain": [
       "{'2019-02-08': '<1 week left',\n",
       " '2019-02-15': '2 weeks left',\n",
       " '2019-02-22': '3 weeks left'}"
      ]
     },
     "execution_count": 120,
     "metadata": {},
     "output_type": "execute_result"
    }
   ],
   "source": [
    "mapper"
   ]
  },
  {
   "cell_type": "code",
   "execution_count": 160,
   "metadata": {},
   "outputs": [
    {
     "data": {
      "text/html": [
       "<iframe id=\"igraph\" scrolling=\"no\" style=\"border:none;\" seamless=\"seamless\" src=\"https://plot.ly/~csabi.elekes/74.embed\" height=\"525px\" width=\"100%\"></iframe>"
      ],
      "text/plain": [
       "<plotly.tools.PlotlyDisplay object>"
      ]
     },
     "execution_count": 160,
     "metadata": {},
     "output_type": "execute_result"
    }
   ],
   "source": [
    "(\n",
    "    pd\n",
    "    .concat([\n",
    "        pd.DataFrame([('<1 week left', 4267, 2366), ('2 weeks left', 4846, 2685), ('3 weeks left', 5679, 3645)], columns = ['month', 'f', 't']),\n",
    "        pd.DataFrame( [('booked in jan', 6693, 4450), ('booked in dec', 9068, 5532), ('booked in nov', 8731, 5384), ('booked in oct', 10219, 5742), ('booked in sep', 12038, 6410)], columns = ['month', 'f', 't'])\n",
    "        ])\n",
    "    .set_index('month')\n",
    "    [::-1]\n",
    "    .assign(prop = lambda x: x.t / (x.t + x.f))\n",
    "    .iplot(y = 'prop', mode = 'lines+markers', filename = 'paris_instant_bookable',\n",
    "           layout = graph_objs.Layout(yaxis = dict(range = (0.3, 0.5), tickformat = '%a'),\n",
    "                                      title = '\"Instant bookable\" places popular when time is running short'))\n",
    "           \n",
    ")"
   ]
  }
 ],
 "metadata": {
  "kernelspec": {
   "display_name": "Python 3",
   "language": "python",
   "name": "python3"
  },
  "language_info": {
   "codemirror_mode": {
    "name": "ipython",
    "version": 3
   },
   "file_extension": ".py",
   "mimetype": "text/x-python",
   "name": "python",
   "nbconvert_exporter": "python",
   "pygments_lexer": "ipython3",
   "version": "3.7.2"
  }
 },
 "nbformat": 4,
 "nbformat_minor": 2
}
