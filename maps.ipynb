{
 "cells": [
  {
   "cell_type": "code",
   "execution_count": 2,
   "metadata": {},
   "outputs": [],
   "source": [
    "import plotly.plotly as py\n",
    "import plotly.graph_objs as graph_objs\n",
    "\n",
    "import cufflinks as cf\n",
    "\n",
    "import pandas as pd\n",
    "import numpy as np\n",
    "\n",
    "import geojson\n",
    "\n",
    "\n",
    "import sqlite3\n",
    "from sqlalchemy import create_engine"
   ]
  },
  {
   "cell_type": "code",
   "execution_count": 3,
   "metadata": {},
   "outputs": [
    {
     "data": {
      "text/html": [
       "<div>\n",
       "<style scoped>\n",
       "    .dataframe tbody tr th:only-of-type {\n",
       "        vertical-align: middle;\n",
       "    }\n",
       "\n",
       "    .dataframe tbody tr th {\n",
       "        vertical-align: top;\n",
       "    }\n",
       "\n",
       "    .dataframe thead th {\n",
       "        text-align: right;\n",
       "    }\n",
       "</style>\n",
       "<table border=\"1\" class=\"dataframe\">\n",
       "  <thead>\n",
       "    <tr style=\"text-align: right;\">\n",
       "      <th></th>\n",
       "      <th>type</th>\n",
       "      <th>features</th>\n",
       "    </tr>\n",
       "  </thead>\n",
       "  <tbody>\n",
       "    <tr>\n",
       "      <th>0</th>\n",
       "      <td>FeatureCollection</td>\n",
       "      <td>{'type': 'Feature', 'geometry': {'type': 'Mult...</td>\n",
       "    </tr>\n",
       "    <tr>\n",
       "      <th>1</th>\n",
       "      <td>FeatureCollection</td>\n",
       "      <td>{'type': 'Feature', 'geometry': {'type': 'Mult...</td>\n",
       "    </tr>\n",
       "    <tr>\n",
       "      <th>2</th>\n",
       "      <td>FeatureCollection</td>\n",
       "      <td>{'type': 'Feature', 'geometry': {'type': 'Mult...</td>\n",
       "    </tr>\n",
       "    <tr>\n",
       "      <th>3</th>\n",
       "      <td>FeatureCollection</td>\n",
       "      <td>{'type': 'Feature', 'geometry': {'type': 'Mult...</td>\n",
       "    </tr>\n",
       "    <tr>\n",
       "      <th>4</th>\n",
       "      <td>FeatureCollection</td>\n",
       "      <td>{'type': 'Feature', 'geometry': {'type': 'Mult...</td>\n",
       "    </tr>\n",
       "  </tbody>\n",
       "</table>\n",
       "</div>"
      ],
      "text/plain": [
       "                type                                           features\n",
       "0  FeatureCollection  {'type': 'Feature', 'geometry': {'type': 'Mult...\n",
       "1  FeatureCollection  {'type': 'Feature', 'geometry': {'type': 'Mult...\n",
       "2  FeatureCollection  {'type': 'Feature', 'geometry': {'type': 'Mult...\n",
       "3  FeatureCollection  {'type': 'Feature', 'geometry': {'type': 'Mult...\n",
       "4  FeatureCollection  {'type': 'Feature', 'geometry': {'type': 'Mult..."
      ]
     },
     "execution_count": 3,
     "metadata": {},
     "output_type": "execute_result"
    }
   ],
   "source": [
    "geo_neigh = pd.read_json(\"neighbourhoods.geojson\")\n",
    "geo_neigh.head()"
   ]
  },
  {
   "cell_type": "code",
   "execution_count": null,
   "metadata": {},
   "outputs": [],
   "source": []
  },
  {
   "cell_type": "code",
   "execution_count": 4,
   "metadata": {},
   "outputs": [],
   "source": [
    "with open('neighbourhoods.geojson', 'r') as f:\n",
    "    neigh = geojson.load(f)\n",
    "    f.close()"
   ]
  },
  {
   "cell_type": "markdown",
   "metadata": {},
   "source": [
    "prepare neighbourhoods to be placed on a map"
   ]
  },
  {
   "cell_type": "code",
   "execution_count": 5,
   "metadata": {},
   "outputs": [],
   "source": [
    "lons=[]\n",
    "lats=[]\n",
    "neighbourhood_names=[]\n",
    "for k in range(len(neigh['features'])):\n",
    "    county_coords=np.array(neigh['features'][k]['geometry']['coordinates'][0][0])\n",
    "    m, M =county_coords[:,0].min(), county_coords[:,0].max()\n",
    "    lons.append(str(0.5*(m+M)))\n",
    "    m, M =county_coords[:,1].min(), county_coords[:,1].max()\n",
    "    lats.append(str(0.5*(m+M)))\n",
    "    neighbourhood_names.append(neigh['features'][k]['properties']['neighbourhood'])"
   ]
  },
  {
   "cell_type": "code",
   "execution_count": 6,
   "metadata": {},
   "outputs": [
    {
     "data": {
      "text/plain": [
       "['Batignolles-Monceau',\n",
       " 'Palais-Bourbon',\n",
       " 'Buttes-Chaumont',\n",
       " 'Opéra',\n",
       " 'Entrepôt',\n",
       " 'Gobelins',\n",
       " 'Vaugirard',\n",
       " 'Reuilly',\n",
       " 'Louvre',\n",
       " 'Luxembourg',\n",
       " 'Élysée',\n",
       " 'Temple',\n",
       " 'Ménilmontant',\n",
       " 'Panthéon',\n",
       " 'Passy',\n",
       " 'Observatoire',\n",
       " 'Popincourt',\n",
       " 'Bourse',\n",
       " 'Buttes-Montmartre',\n",
       " 'Hôtel-de-Ville']"
      ]
     },
     "execution_count": 6,
     "metadata": {},
     "output_type": "execute_result"
    }
   ],
   "source": [
    "neighbourhood_names"
   ]
  },
  {
   "cell_type": "markdown",
   "metadata": {},
   "source": [
    "Check the 'listings.csv' file for prices"
   ]
  },
  {
   "cell_type": "code",
   "execution_count": 9,
   "metadata": {},
   "outputs": [],
   "source": [
    "listings = pd.read_csv('listings.csv')"
   ]
  },
  {
   "cell_type": "code",
   "execution_count": 10,
   "metadata": {},
   "outputs": [
    {
     "data": {
      "text/html": [
       "<div>\n",
       "<style scoped>\n",
       "    .dataframe tbody tr th:only-of-type {\n",
       "        vertical-align: middle;\n",
       "    }\n",
       "\n",
       "    .dataframe tbody tr th {\n",
       "        vertical-align: top;\n",
       "    }\n",
       "\n",
       "    .dataframe thead th {\n",
       "        text-align: right;\n",
       "    }\n",
       "</style>\n",
       "<table border=\"1\" class=\"dataframe\">\n",
       "  <thead>\n",
       "    <tr style=\"text-align: right;\">\n",
       "      <th></th>\n",
       "      <th>id</th>\n",
       "      <th>name</th>\n",
       "      <th>host_id</th>\n",
       "      <th>host_name</th>\n",
       "      <th>neighbourhood_group</th>\n",
       "      <th>neighbourhood</th>\n",
       "      <th>latitude</th>\n",
       "      <th>longitude</th>\n",
       "      <th>room_type</th>\n",
       "      <th>price</th>\n",
       "      <th>minimum_nights</th>\n",
       "      <th>number_of_reviews</th>\n",
       "      <th>last_review</th>\n",
       "      <th>reviews_per_month</th>\n",
       "      <th>calculated_host_listings_count</th>\n",
       "      <th>availability_365</th>\n",
       "    </tr>\n",
       "  </thead>\n",
       "  <tbody>\n",
       "    <tr>\n",
       "      <th>0</th>\n",
       "      <td>2577</td>\n",
       "      <td>Loft for 4 by Canal Saint Martin</td>\n",
       "      <td>2827</td>\n",
       "      <td>Karine</td>\n",
       "      <td>NaN</td>\n",
       "      <td>Entrepôt</td>\n",
       "      <td>48.869933</td>\n",
       "      <td>2.362511</td>\n",
       "      <td>Entire home/apt</td>\n",
       "      <td>125</td>\n",
       "      <td>3</td>\n",
       "      <td>1</td>\n",
       "      <td>2019-01-02</td>\n",
       "      <td>0.86</td>\n",
       "      <td>1</td>\n",
       "      <td>85</td>\n",
       "    </tr>\n",
       "    <tr>\n",
       "      <th>1</th>\n",
       "      <td>5396</td>\n",
       "      <td>Explore the heart of old Paris</td>\n",
       "      <td>7903</td>\n",
       "      <td>Borzou</td>\n",
       "      <td>NaN</td>\n",
       "      <td>Hôtel-de-Ville</td>\n",
       "      <td>48.851001</td>\n",
       "      <td>2.358690</td>\n",
       "      <td>Entire home/apt</td>\n",
       "      <td>115</td>\n",
       "      <td>1</td>\n",
       "      <td>156</td>\n",
       "      <td>2019-02-03</td>\n",
       "      <td>1.33</td>\n",
       "      <td>1</td>\n",
       "      <td>129</td>\n",
       "    </tr>\n",
       "    <tr>\n",
       "      <th>2</th>\n",
       "      <td>7397</td>\n",
       "      <td>MARAIS - 2ROOMS APT - 2/4 PEOPLE</td>\n",
       "      <td>2626</td>\n",
       "      <td>Franck</td>\n",
       "      <td>NaN</td>\n",
       "      <td>Hôtel-de-Ville</td>\n",
       "      <td>48.857576</td>\n",
       "      <td>2.352751</td>\n",
       "      <td>Entire home/apt</td>\n",
       "      <td>115</td>\n",
       "      <td>10</td>\n",
       "      <td>236</td>\n",
       "      <td>2019-01-27</td>\n",
       "      <td>2.47</td>\n",
       "      <td>1</td>\n",
       "      <td>211</td>\n",
       "    </tr>\n",
       "    <tr>\n",
       "      <th>3</th>\n",
       "      <td>7964</td>\n",
       "      <td>Large &amp; sunny flat with balcony !</td>\n",
       "      <td>22155</td>\n",
       "      <td>Anaïs</td>\n",
       "      <td>NaN</td>\n",
       "      <td>Opéra</td>\n",
       "      <td>48.874642</td>\n",
       "      <td>2.343411</td>\n",
       "      <td>Entire home/apt</td>\n",
       "      <td>99</td>\n",
       "      <td>3</td>\n",
       "      <td>6</td>\n",
       "      <td>2015-09-14</td>\n",
       "      <td>0.06</td>\n",
       "      <td>1</td>\n",
       "      <td>219</td>\n",
       "    </tr>\n",
       "    <tr>\n",
       "      <th>4</th>\n",
       "      <td>8522</td>\n",
       "      <td>GREAT FLAT w/ CITY VIEW</td>\n",
       "      <td>25435</td>\n",
       "      <td>Adrien</td>\n",
       "      <td>NaN</td>\n",
       "      <td>Ménilmontant</td>\n",
       "      <td>48.865279</td>\n",
       "      <td>2.393263</td>\n",
       "      <td>Entire home/apt</td>\n",
       "      <td>90</td>\n",
       "      <td>3</td>\n",
       "      <td>1</td>\n",
       "      <td>2010-06-16</td>\n",
       "      <td>0.01</td>\n",
       "      <td>1</td>\n",
       "      <td>365</td>\n",
       "    </tr>\n",
       "  </tbody>\n",
       "</table>\n",
       "</div>"
      ],
      "text/plain": [
       "     id                               name  host_id host_name  \\\n",
       "0  2577   Loft for 4 by Canal Saint Martin     2827    Karine   \n",
       "1  5396     Explore the heart of old Paris     7903    Borzou   \n",
       "2  7397   MARAIS - 2ROOMS APT - 2/4 PEOPLE     2626    Franck   \n",
       "3  7964  Large & sunny flat with balcony !    22155     Anaïs   \n",
       "4  8522            GREAT FLAT w/ CITY VIEW    25435    Adrien   \n",
       "\n",
       "   neighbourhood_group   neighbourhood   latitude  longitude        room_type  \\\n",
       "0                  NaN        Entrepôt  48.869933   2.362511  Entire home/apt   \n",
       "1                  NaN  Hôtel-de-Ville  48.851001   2.358690  Entire home/apt   \n",
       "2                  NaN  Hôtel-de-Ville  48.857576   2.352751  Entire home/apt   \n",
       "3                  NaN           Opéra  48.874642   2.343411  Entire home/apt   \n",
       "4                  NaN    Ménilmontant  48.865279   2.393263  Entire home/apt   \n",
       "\n",
       "   price  minimum_nights  number_of_reviews last_review  reviews_per_month  \\\n",
       "0    125               3                  1  2019-01-02               0.86   \n",
       "1    115               1                156  2019-02-03               1.33   \n",
       "2    115              10                236  2019-01-27               2.47   \n",
       "3     99               3                  6  2015-09-14               0.06   \n",
       "4     90               3                  1  2010-06-16               0.01   \n",
       "\n",
       "   calculated_host_listings_count  availability_365  \n",
       "0                               1                85  \n",
       "1                               1               129  \n",
       "2                               1               211  \n",
       "3                               1               219  \n",
       "4                               1               365  "
      ]
     },
     "execution_count": 10,
     "metadata": {},
     "output_type": "execute_result"
    }
   ],
   "source": [
    "listings.head()"
   ]
  },
  {
   "cell_type": "code",
   "execution_count": 11,
   "metadata": {},
   "outputs": [
    {
     "data": {
      "text/plain": [
       "array(['Batignolles-Monceau<br>3897 listings<br>median price: $75',\n",
       "       'Palais-Bourbon<br>1642 listings<br>median price: $110',\n",
       "       'Buttes-Chaumont<br>3271 listings<br>median price: $60',\n",
       "       'Opéra<br>2657 listings<br>median price: $90',\n",
       "       'Entrepôt<br>4056 listings<br>median price: $77',\n",
       "       'Gobelins<br>2057 listings<br>median price: $68',\n",
       "       'Vaugirard<br>4321 listings<br>median price: $80',\n",
       "       'Reuilly<br>2343 listings<br>median price: $70',\n",
       "       'Louvre<br>1116 listings<br>median price: $120',\n",
       "       'Luxembourg<br>1720 listings<br>median price: $119',\n",
       "       'Élysée<br>1491 listings<br>median price: $130',\n",
       "       'Temple<br>2801 listings<br>median price: $108',\n",
       "       'Ménilmontant<br>3451 listings<br>median price: $60',\n",
       "       'Panthéon<br>1976 listings<br>median price: $95',\n",
       "       'Passy<br>2903 listings<br>median price: $100',\n",
       "       'Observatoire<br>2215 listings<br>median price: $70',\n",
       "       'Popincourt<br>5731 listings<br>median price: $71',\n",
       "       'Bourse<br>1937 listings<br>median price: $100',\n",
       "       'Buttes-Montmartre<br>6626 listings<br>median price: $69',\n",
       "       'Hôtel-de-Ville<br>1856 listings<br>median price: $120'],\n",
       "      dtype=object)"
      ]
     },
     "execution_count": 11,
     "metadata": {},
     "output_type": "execute_result"
    }
   ],
   "source": [
    "map_text = (\n",
    "    pd\n",
    "    .DataFrame(neighbourhood_names)\n",
    "    .set_index(0)\n",
    "    .join(\n",
    "        listings\n",
    "        .groupby(['neighbourhood'])\n",
    "        .agg(['count', 'median'])\n",
    "        .price\n",
    "        )\n",
    "    .reset_index()\n",
    "    .rename({0: 'neighbourhood'}, axis = 1)\n",
    "    .apply(lambda x: x.neighbourhood + '<br>' + str(x['count']) + ' listings<br>median price: $' + str(x['median']), axis = 1)\n",
    "    .values\n",
    ")\n",
    "map_text"
   ]
  },
  {
   "cell_type": "markdown",
   "metadata": {},
   "source": [
    "show map"
   ]
  },
  {
   "cell_type": "code",
   "execution_count": 12,
   "metadata": {},
   "outputs": [
    {
     "data": {
      "text/html": [
       "<iframe id=\"igraph\" scrolling=\"no\" style=\"border:none;\" seamless=\"seamless\" src=\"https://plot.ly/~csabi.elekes/56.embed\" height=\"600px\" width=\"100%\"></iframe>"
      ],
      "text/plain": [
       "<plotly.tools.PlotlyDisplay object>"
      ]
     },
     "execution_count": 12,
     "metadata": {},
     "output_type": "execute_result"
    }
   ],
   "source": [
    "with open('../.mapbox.token', 'r') as f:\n",
    "    mapbox_access_token = f.readline().strip()\n",
    "    f.close()\n",
    "\n",
    "data = [\n",
    "    dict(\n",
    "        type='scattermapbox',\n",
    "        lat=lats,\n",
    "        lon=lons,\n",
    "        mode='markers',\n",
    "        marker=dict(size=1, color='rgba(0,0,0,0)'),\n",
    "        text=map_text,\n",
    "        hoverinfo='text',\n",
    "    )\n",
    "]\n",
    "\n",
    "layout = graph_objs.Layout(\n",
    "    height=600,\n",
    "    autosize=True,\n",
    "    hovermode='closest',\n",
    "    mapbox=dict(\n",
    "        layers=[\n",
    "            dict(\n",
    "                sourcetype = 'geojson',\n",
    "                source = neigh,\n",
    "                type = 'line',\n",
    "                color = 'rgba(163,22,19,0.8)'\n",
    "            )\n",
    "        ],\n",
    "        accesstoken=mapbox_access_token,\n",
    "        bearing=0,\n",
    "        center=dict(\n",
    "            lat=48.8530,\n",
    "            lon=2.3499\n",
    "        ),\n",
    "        pitch=0,\n",
    "        zoom=10.7,\n",
    "        style='light'\n",
    "    ),\n",
    "    title = 'Neighbourhoods of Paris'\n",
    ")\n",
    "\n",
    "fig = dict(data=data, layout=layout)\n",
    "py.iplot(fig, filename='paris_map_1')"
   ]
  },
  {
   "cell_type": "code",
   "execution_count": null,
   "metadata": {},
   "outputs": [],
   "source": []
  }
 ],
 "metadata": {
  "kernelspec": {
   "display_name": "Python 3",
   "language": "python",
   "name": "python3"
  },
  "language_info": {
   "codemirror_mode": {
    "name": "ipython",
    "version": 3
   },
   "file_extension": ".py",
   "mimetype": "text/x-python",
   "name": "python",
   "nbconvert_exporter": "python",
   "pygments_lexer": "ipython3",
   "version": "3.7.2"
  }
 },
 "nbformat": 4,
 "nbformat_minor": 2
}
