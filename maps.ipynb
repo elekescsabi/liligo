{
 "cells": [
  {
   "cell_type": "code",
   "execution_count": 1,
   "metadata": {},
   "outputs": [],
   "source": [
    "import plotly.plotly as py\n",
    "import plotly.graph_objs as graph_objs\n",
    "\n",
    "import cufflinks as cf\n",
    "\n",
    "import pandas as pd\n",
    "import numpy as np\n",
    "\n",
    "import geojson\n",
    "\n",
    "\n",
    "import sqlite3\n",
    "from sqlalchemy import create_engine"
   ]
  },
  {
   "cell_type": "markdown",
   "metadata": {},
   "source": [
    "# Explore geojson"
   ]
  },
  {
   "cell_type": "code",
   "execution_count": 2,
   "metadata": {},
   "outputs": [
    {
     "data": {
      "text/html": [
       "<div>\n",
       "<style scoped>\n",
       "    .dataframe tbody tr th:only-of-type {\n",
       "        vertical-align: middle;\n",
       "    }\n",
       "\n",
       "    .dataframe tbody tr th {\n",
       "        vertical-align: top;\n",
       "    }\n",
       "\n",
       "    .dataframe thead th {\n",
       "        text-align: right;\n",
       "    }\n",
       "</style>\n",
       "<table border=\"1\" class=\"dataframe\">\n",
       "  <thead>\n",
       "    <tr style=\"text-align: right;\">\n",
       "      <th></th>\n",
       "      <th>type</th>\n",
       "      <th>features</th>\n",
       "    </tr>\n",
       "  </thead>\n",
       "  <tbody>\n",
       "    <tr>\n",
       "      <th>0</th>\n",
       "      <td>FeatureCollection</td>\n",
       "      <td>{'type': 'Feature', 'geometry': {'type': 'Mult...</td>\n",
       "    </tr>\n",
       "    <tr>\n",
       "      <th>1</th>\n",
       "      <td>FeatureCollection</td>\n",
       "      <td>{'type': 'Feature', 'geometry': {'type': 'Mult...</td>\n",
       "    </tr>\n",
       "    <tr>\n",
       "      <th>2</th>\n",
       "      <td>FeatureCollection</td>\n",
       "      <td>{'type': 'Feature', 'geometry': {'type': 'Mult...</td>\n",
       "    </tr>\n",
       "    <tr>\n",
       "      <th>3</th>\n",
       "      <td>FeatureCollection</td>\n",
       "      <td>{'type': 'Feature', 'geometry': {'type': 'Mult...</td>\n",
       "    </tr>\n",
       "    <tr>\n",
       "      <th>4</th>\n",
       "      <td>FeatureCollection</td>\n",
       "      <td>{'type': 'Feature', 'geometry': {'type': 'Mult...</td>\n",
       "    </tr>\n",
       "  </tbody>\n",
       "</table>\n",
       "</div>"
      ],
      "text/plain": [
       "                type                                           features\n",
       "0  FeatureCollection  {'type': 'Feature', 'geometry': {'type': 'Mult...\n",
       "1  FeatureCollection  {'type': 'Feature', 'geometry': {'type': 'Mult...\n",
       "2  FeatureCollection  {'type': 'Feature', 'geometry': {'type': 'Mult...\n",
       "3  FeatureCollection  {'type': 'Feature', 'geometry': {'type': 'Mult...\n",
       "4  FeatureCollection  {'type': 'Feature', 'geometry': {'type': 'Mult..."
      ]
     },
     "execution_count": 2,
     "metadata": {},
     "output_type": "execute_result"
    }
   ],
   "source": [
    "geo_neigh = pd.read_json(\"neighbourhoods.geojson\")\n",
    "geo_neigh.head()"
   ]
  },
  {
   "cell_type": "code",
   "execution_count": null,
   "metadata": {},
   "outputs": [],
   "source": []
  },
  {
   "cell_type": "code",
   "execution_count": 3,
   "metadata": {},
   "outputs": [],
   "source": [
    "with open('neighbourhoods.geojson', 'r') as f:\n",
    "    neigh = geojson.load(f)\n",
    "    f.close()"
   ]
  },
  {
   "cell_type": "markdown",
   "metadata": {},
   "source": [
    "prepare neighbourhoods to be placed on a map"
   ]
  },
  {
   "cell_type": "markdown",
   "metadata": {},
   "source": [
    "### Create a center point for each neighbourhood"
   ]
  },
  {
   "cell_type": "code",
   "execution_count": 4,
   "metadata": {},
   "outputs": [],
   "source": [
    "lons=[]\n",
    "lats=[]\n",
    "neighbourhood_names=[]\n",
    "for k in range(len(neigh['features'])):\n",
    "    county_coords=np.array(neigh['features'][k]['geometry']['coordinates'][0][0])\n",
    "    m, M =county_coords[:,0].min(), county_coords[:,0].max()\n",
    "    lons.append(str(0.5*(m+M)))\n",
    "    m, M =county_coords[:,1].min(), county_coords[:,1].max()\n",
    "    lats.append(str(0.5*(m+M)))\n",
    "    neighbourhood_names.append(neigh['features'][k]['properties']['neighbourhood'])"
   ]
  },
  {
   "cell_type": "code",
   "execution_count": 5,
   "metadata": {},
   "outputs": [
    {
     "data": {
      "text/plain": [
       "['Batignolles-Monceau',\n",
       " 'Palais-Bourbon',\n",
       " 'Buttes-Chaumont',\n",
       " 'Opéra',\n",
       " 'Entrepôt',\n",
       " 'Gobelins',\n",
       " 'Vaugirard',\n",
       " 'Reuilly',\n",
       " 'Louvre',\n",
       " 'Luxembourg',\n",
       " 'Élysée',\n",
       " 'Temple',\n",
       " 'Ménilmontant',\n",
       " 'Panthéon',\n",
       " 'Passy',\n",
       " 'Observatoire',\n",
       " 'Popincourt',\n",
       " 'Bourse',\n",
       " 'Buttes-Montmartre',\n",
       " 'Hôtel-de-Ville']"
      ]
     },
     "execution_count": 5,
     "metadata": {},
     "output_type": "execute_result"
    }
   ],
   "source": [
    "neighbourhood_names"
   ]
  },
  {
   "cell_type": "markdown",
   "metadata": {},
   "source": [
    "Check the 'listings.csv' file for prices"
   ]
  },
  {
   "cell_type": "code",
   "execution_count": 10,
   "metadata": {},
   "outputs": [],
   "source": [
    "engine = create_engine('sqlite:///liligo.db', echo=False)"
   ]
  },
  {
   "cell_type": "markdown",
   "metadata": {},
   "source": [
    "### We want to show the median price for each neighbourhood\n",
    "using some reasonable fileters like the place is available for at least one night in the next month and the price is lower than $200"
   ]
  },
  {
   "cell_type": "code",
   "execution_count": 31,
   "metadata": {},
   "outputs": [],
   "source": [
    "listings = (\n",
    "    pd\n",
    "    .read_sql_query('''\n",
    "        select \n",
    "              neighbourhood_cleansed as neighbourhood\n",
    "            , price_usd as price\n",
    "        from listings\n",
    "        where 1=1\n",
    "            and room_type = 'Entire home/apt'\n",
    "            and availability_30 > 0\n",
    "            and price_usd < 200\n",
    "        ''', engine)\n",
    ")"
   ]
  },
  {
   "cell_type": "markdown",
   "metadata": {},
   "source": [
    "### Create the hover thexts\n",
    "it is important to not change the order of the neighbourhood names"
   ]
  },
  {
   "cell_type": "code",
   "execution_count": 35,
   "metadata": {},
   "outputs": [
    {
     "data": {
      "text/plain": [
       "array(['Batignolles-Monceau<br>990 listings<br>median price: $81.5',\n",
       "       'Palais-Bourbon<br>456 listings<br>median price: $107.5',\n",
       "       'Buttes-Chaumont<br>734 listings<br>median price: $75.0',\n",
       "       'Opéra<br>703 listings<br>median price: $95.0',\n",
       "       'Entrepôt<br>1074 listings<br>median price: $90.0',\n",
       "       'Gobelins<br>447 listings<br>median price: $80.0',\n",
       "       'Vaugirard<br>1082 listings<br>median price: $90.0',\n",
       "       'Reuilly<br>582 listings<br>median price: $85.0',\n",
       "       'Louvre<br>313 listings<br>median price: $116.0',\n",
       "       'Luxembourg<br>490 listings<br>median price: $114.5',\n",
       "       'Élysée<br>402 listings<br>median price: $119.0',\n",
       "       'Temple<br>950 listings<br>median price: $110.0',\n",
       "       'Ménilmontant<br>804 listings<br>median price: $70.0',\n",
       "       'Panthéon<br>582 listings<br>median price: $100.0',\n",
       "       'Passy<br>825 listings<br>median price: $100.0',\n",
       "       'Observatoire<br>540 listings<br>median price: $85.0',\n",
       "       'Popincourt<br>1486 listings<br>median price: $85.0',\n",
       "       'Bourse<br>676 listings<br>median price: $110.0',\n",
       "       'Buttes-Montmartre<br>1765 listings<br>median price: $80.0',\n",
       "       'Hôtel-de-Ville<br>585 listings<br>median price: $119.0'],\n",
       "      dtype=object)"
      ]
     },
     "execution_count": 35,
     "metadata": {},
     "output_type": "execute_result"
    }
   ],
   "source": [
    "map_text = (\n",
    "    pd\n",
    "    .DataFrame(neighbourhood_names)\n",
    "    .set_index(0)\n",
    "    .join(\n",
    "        listings\n",
    "        .groupby(['neighbourhood'])\n",
    "        .agg(['count', 'median'])\n",
    "        .price\n",
    "        )\n",
    "    .reset_index()\n",
    "    .rename({0: 'neighbourhood'}, axis = 1)\n",
    "    .apply(lambda x: x.neighbourhood + '<br>' + str(x['count']) + ' listings<br>median price: $' + str(x['median']), axis = 1)\n",
    "    .values\n",
    ")\n",
    "map_text"
   ]
  },
  {
   "cell_type": "markdown",
   "metadata": {},
   "source": [
    "### show neighbourhoods on the map"
   ]
  },
  {
   "cell_type": "code",
   "execution_count": 36,
   "metadata": {},
   "outputs": [
    {
     "data": {
      "text/html": [
       "<iframe id=\"igraph\" scrolling=\"no\" style=\"border:none;\" seamless=\"seamless\" src=\"https://plot.ly/~csabi.elekes/56.embed\" height=\"600px\" width=\"100%\"></iframe>"
      ],
      "text/plain": [
       "<plotly.tools.PlotlyDisplay object>"
      ]
     },
     "execution_count": 36,
     "metadata": {},
     "output_type": "execute_result"
    }
   ],
   "source": [
    "with open('../.mapbox.token', 'r') as f:\n",
    "    mapbox_access_token = f.readline().strip()\n",
    "    f.close()\n",
    "\n",
    "data = [\n",
    "    dict(\n",
    "        type='scattermapbox',\n",
    "        lat=lats,\n",
    "        lon=lons,\n",
    "        mode='markers',\n",
    "        marker=dict(size=1, color='rgba(0,0,0,0)'),\n",
    "        text=map_text,\n",
    "        hoverinfo='text',\n",
    "    )\n",
    "]\n",
    "\n",
    "layout = graph_objs.Layout(\n",
    "    height=600,\n",
    "    autosize=True,\n",
    "    hovermode='closest',\n",
    "    mapbox=dict(\n",
    "        layers=[\n",
    "            dict(\n",
    "                sourcetype = 'geojson',\n",
    "                source = neigh,\n",
    "                type = 'line',\n",
    "                color = 'rgba(163,22,19,0.8)'\n",
    "            )\n",
    "        ],\n",
    "        accesstoken=mapbox_access_token,\n",
    "        bearing=0,\n",
    "        center=dict(\n",
    "            lat=48.8530,\n",
    "            lon=2.3499\n",
    "        ),\n",
    "        pitch=0,\n",
    "        zoom=10.7,\n",
    "        style='light'\n",
    "    ),\n",
    "    title = 'Neighbourhoods of Paris'\n",
    ")\n",
    "\n",
    "fig = dict(data=data, layout=layout)\n",
    "py.iplot(fig, filename='paris_map_1')"
   ]
  },
  {
   "cell_type": "markdown",
   "metadata": {},
   "source": [
    "# Now let's highlight neighbourhoods that are more epsensive than average"
   ]
  },
  {
   "cell_type": "code",
   "execution_count": 26,
   "metadata": {},
   "outputs": [
    {
     "data": {
      "text/html": [
       "<div>\n",
       "<style scoped>\n",
       "    .dataframe tbody tr th:only-of-type {\n",
       "        vertical-align: middle;\n",
       "    }\n",
       "\n",
       "    .dataframe tbody tr th {\n",
       "        vertical-align: top;\n",
       "    }\n",
       "\n",
       "    .dataframe thead th {\n",
       "        text-align: right;\n",
       "    }\n",
       "</style>\n",
       "<table border=\"1\" class=\"dataframe\">\n",
       "  <thead>\n",
       "    <tr style=\"text-align: right;\">\n",
       "      <th></th>\n",
       "      <th>avg_price</th>\n",
       "      <th>is_expensive</th>\n",
       "    </tr>\n",
       "    <tr>\n",
       "      <th>neighbourhood_cleansed</th>\n",
       "      <th></th>\n",
       "      <th></th>\n",
       "    </tr>\n",
       "  </thead>\n",
       "  <tbody>\n",
       "    <tr>\n",
       "      <th>Luxembourg</th>\n",
       "      <td>118.228571</td>\n",
       "      <td>True</td>\n",
       "    </tr>\n",
       "    <tr>\n",
       "      <th>Louvre</th>\n",
       "      <td>118.146965</td>\n",
       "      <td>True</td>\n",
       "    </tr>\n",
       "    <tr>\n",
       "      <th>Élysée</th>\n",
       "      <td>117.134328</td>\n",
       "      <td>True</td>\n",
       "    </tr>\n",
       "    <tr>\n",
       "      <th>Hôtel-de-Ville</th>\n",
       "      <td>116.707692</td>\n",
       "      <td>True</td>\n",
       "    </tr>\n",
       "    <tr>\n",
       "      <th>Temple</th>\n",
       "      <td>114.049474</td>\n",
       "      <td>True</td>\n",
       "    </tr>\n",
       "    <tr>\n",
       "      <th>Bourse</th>\n",
       "      <td>112.532544</td>\n",
       "      <td>True</td>\n",
       "    </tr>\n",
       "    <tr>\n",
       "      <th>Palais-Bourbon</th>\n",
       "      <td>112.293860</td>\n",
       "      <td>True</td>\n",
       "    </tr>\n",
       "    <tr>\n",
       "      <th>Panthéon</th>\n",
       "      <td>108.192440</td>\n",
       "      <td>True</td>\n",
       "    </tr>\n",
       "    <tr>\n",
       "      <th>Passy</th>\n",
       "      <td>104.427879</td>\n",
       "      <td>True</td>\n",
       "    </tr>\n",
       "    <tr>\n",
       "      <th>Opéra</th>\n",
       "      <td>101.514936</td>\n",
       "      <td>True</td>\n",
       "    </tr>\n",
       "    <tr>\n",
       "      <th>Vaugirard</th>\n",
       "      <td>96.952865</td>\n",
       "      <td>False</td>\n",
       "    </tr>\n",
       "    <tr>\n",
       "      <th>Entrepôt</th>\n",
       "      <td>94.739292</td>\n",
       "      <td>False</td>\n",
       "    </tr>\n",
       "    <tr>\n",
       "      <th>Observatoire</th>\n",
       "      <td>92.105556</td>\n",
       "      <td>False</td>\n",
       "    </tr>\n",
       "    <tr>\n",
       "      <th>Batignolles-Monceau</th>\n",
       "      <td>91.925253</td>\n",
       "      <td>False</td>\n",
       "    </tr>\n",
       "    <tr>\n",
       "      <th>Popincourt</th>\n",
       "      <td>90.707268</td>\n",
       "      <td>False</td>\n",
       "    </tr>\n",
       "    <tr>\n",
       "      <th>Reuilly</th>\n",
       "      <td>90.445017</td>\n",
       "      <td>False</td>\n",
       "    </tr>\n",
       "    <tr>\n",
       "      <th>Gobelins</th>\n",
       "      <td>85.955257</td>\n",
       "      <td>False</td>\n",
       "    </tr>\n",
       "    <tr>\n",
       "      <th>Buttes-Montmartre</th>\n",
       "      <td>85.759207</td>\n",
       "      <td>False</td>\n",
       "    </tr>\n",
       "    <tr>\n",
       "      <th>Buttes-Chaumont</th>\n",
       "      <td>81.258856</td>\n",
       "      <td>False</td>\n",
       "    </tr>\n",
       "    <tr>\n",
       "      <th>Ménilmontant</th>\n",
       "      <td>77.767413</td>\n",
       "      <td>False</td>\n",
       "    </tr>\n",
       "  </tbody>\n",
       "</table>\n",
       "</div>"
      ],
      "text/plain": [
       "                         avg_price  is_expensive\n",
       "neighbourhood_cleansed                          \n",
       "Luxembourg              118.228571          True\n",
       "Louvre                  118.146965          True\n",
       "Élysée                  117.134328          True\n",
       "Hôtel-de-Ville          116.707692          True\n",
       "Temple                  114.049474          True\n",
       "Bourse                  112.532544          True\n",
       "Palais-Bourbon          112.293860          True\n",
       "Panthéon                108.192440          True\n",
       "Passy                   104.427879          True\n",
       "Opéra                   101.514936          True\n",
       "Vaugirard                96.952865         False\n",
       "Entrepôt                 94.739292         False\n",
       "Observatoire             92.105556         False\n",
       "Batignolles-Monceau      91.925253         False\n",
       "Popincourt               90.707268         False\n",
       "Reuilly                  90.445017         False\n",
       "Gobelins                 85.955257         False\n",
       "Buttes-Montmartre        85.759207         False\n",
       "Buttes-Chaumont          81.258856         False\n",
       "Ménilmontant             77.767413         False"
      ]
     },
     "execution_count": 26,
     "metadata": {},
     "output_type": "execute_result"
    }
   ],
   "source": [
    "prices = (\n",
    "    pd\n",
    "    .read_sql_query('''\n",
    "        select \n",
    "              neighbourhood_cleansed\n",
    "            , avg(price_usd) as avg_price\n",
    "        from listings\n",
    "        where 1=1\n",
    "            and room_type = 'Entire home/apt'\n",
    "            and availability_30 > 0\n",
    "            and price_usd < 200\n",
    "        group by neighbourhood_cleansed\n",
    "        order by avg_price desc\n",
    "        ''', engine)\n",
    "    .set_index('neighbourhood_cleansed')\n",
    "    .assign(is_expensive = lambda x: x.avg_price > x.avg_price.quantile(0.50))\n",
    ")\n",
    "prices"
   ]
  },
  {
   "cell_type": "markdown",
   "metadata": {},
   "source": [
    "split the original geojson to two different ones: cheap and expensive neighbourhoods"
   ]
  },
  {
   "cell_type": "code",
   "execution_count": 27,
   "metadata": {},
   "outputs": [],
   "source": [
    "expensive_neigh = {}\n",
    "expensive_neigh['type'] = neigh['type']\n",
    "expensive_neigh['features'] = []\n",
    "\n",
    "cheap_neigh = {}\n",
    "cheap_neigh['type'] = neigh['type']\n",
    "cheap_neigh['features'] = []"
   ]
  },
  {
   "cell_type": "code",
   "execution_count": 28,
   "metadata": {},
   "outputs": [],
   "source": [
    "for f in neigh['features']:\n",
    "    if prices.loc[f['properties']['neighbourhood'], 'is_expensive']:\n",
    "        expensive_neigh['features'].append(f)\n",
    "    else:\n",
    "        cheap_neigh['features'].append(f)"
   ]
  },
  {
   "cell_type": "markdown",
   "metadata": {},
   "source": [
    "### and now that everything is ready, let's show the map\n",
    "one layer shows the neighbourhood borders, another one colors the expensive ones.\n",
    "\n",
    "only the neighbourhood centers and their hover text for the actual data points"
   ]
  },
  {
   "cell_type": "code",
   "execution_count": 37,
   "metadata": {},
   "outputs": [
    {
     "data": {
      "text/html": [
       "<iframe id=\"igraph\" scrolling=\"no\" style=\"border:none;\" seamless=\"seamless\" src=\"https://plot.ly/~csabi.elekes/70.embed\" height=\"600px\" width=\"100%\"></iframe>"
      ],
      "text/plain": [
       "<plotly.tools.PlotlyDisplay object>"
      ]
     },
     "execution_count": 37,
     "metadata": {},
     "output_type": "execute_result"
    }
   ],
   "source": [
    "with open('../.mapbox.token', 'r') as f:\n",
    "    mapbox_access_token = f.readline().strip()\n",
    "    f.close()\n",
    "\n",
    "data = [\n",
    "    dict(\n",
    "        type='scattermapbox',\n",
    "        lat=lats,\n",
    "        lon=lons,\n",
    "        mode='markers',\n",
    "        marker=dict(size=1, color='rgba(0,0,0,0)'),\n",
    "        text=map_text,\n",
    "        hoverinfo='text',\n",
    "    )\n",
    "]\n",
    "\n",
    "layout = graph_objs.Layout(\n",
    "    height=600,\n",
    "    autosize=True,\n",
    "    hovermode='closest',\n",
    "    mapbox=dict(\n",
    "        layers=[\n",
    "            dict(\n",
    "                sourcetype = 'geojson',\n",
    "                source = neigh,\n",
    "                type = 'line',\n",
    "                color = 'rgba(163,22,19,0.8)'\n",
    "            ),\n",
    "            dict(\n",
    "                sourcetype = 'geojson',\n",
    "                source = expensive_neigh,\n",
    "                type = 'fill',\n",
    "                color = 'rgba(163,22,19,0.1)'\n",
    "            )\n",
    "        ],\n",
    "        accesstoken=mapbox_access_token,\n",
    "        bearing=0,\n",
    "        center=dict(\n",
    "            lat=48.8530,\n",
    "            lon=2.3499\n",
    "        ),\n",
    "        pitch=0,\n",
    "        zoom=10.7,\n",
    "        style='light'\n",
    "    ),\n",
    "    title = 'Central neighbourhoods of Paris are more expensive'\n",
    ")\n",
    "\n",
    "fig = dict(data=data, layout=layout)\n",
    "py.iplot(fig, filename='paris_map_2')"
   ]
  },
  {
   "cell_type": "code",
   "execution_count": null,
   "metadata": {},
   "outputs": [],
   "source": []
  }
 ],
 "metadata": {
  "kernelspec": {
   "display_name": "Python 3",
   "language": "python",
   "name": "python3"
  },
  "language_info": {
   "codemirror_mode": {
    "name": "ipython",
    "version": 3
   },
   "file_extension": ".py",
   "mimetype": "text/x-python",
   "name": "python",
   "nbconvert_exporter": "python",
   "pygments_lexer": "ipython3",
   "version": "3.7.2"
  }
 },
 "nbformat": 4,
 "nbformat_minor": 2
}
