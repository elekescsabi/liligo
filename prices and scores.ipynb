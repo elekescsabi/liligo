{
 "cells": [
  {
   "cell_type": "code",
   "execution_count": 2,
   "metadata": {},
   "outputs": [],
   "source": [
    "import plotly.plotly as py\n",
    "import plotly.graph_objs as graph_objs\n",
    "\n",
    "import cufflinks as cf\n",
    "\n",
    "import pandas as pd\n",
    "import numpy as np\n",
    "\n",
    "import sqlite3\n",
    "from sqlalchemy import create_engine"
   ]
  },
  {
   "cell_type": "code",
   "execution_count": 3,
   "metadata": {},
   "outputs": [],
   "source": [
    "pd.set_option('max_columns', 300)"
   ]
  },
  {
   "cell_type": "code",
   "execution_count": 4,
   "metadata": {},
   "outputs": [],
   "source": [
    "engine = create_engine('sqlite:///liligo.db', echo=False)"
   ]
  },
  {
   "cell_type": "markdown",
   "metadata": {},
   "source": [
    "# Some quick sneak peaks"
   ]
  },
  {
   "cell_type": "markdown",
   "metadata": {},
   "source": [
    "the listings.csv.gz file contains quite a lot of info about the places"
   ]
  },
  {
   "cell_type": "code",
   "execution_count": 6,
   "metadata": {},
   "outputs": [
    {
     "data": {
      "text/html": [
       "<div>\n",
       "<style scoped>\n",
       "    .dataframe tbody tr th:only-of-type {\n",
       "        vertical-align: middle;\n",
       "    }\n",
       "\n",
       "    .dataframe tbody tr th {\n",
       "        vertical-align: top;\n",
       "    }\n",
       "\n",
       "    .dataframe thead th {\n",
       "        text-align: right;\n",
       "    }\n",
       "</style>\n",
       "<table border=\"1\" class=\"dataframe\">\n",
       "  <thead>\n",
       "    <tr style=\"text-align: right;\">\n",
       "      <th></th>\n",
       "      <th>index</th>\n",
       "      <th>id</th>\n",
       "      <th>listing_url</th>\n",
       "      <th>scrape_id</th>\n",
       "      <th>last_scraped</th>\n",
       "      <th>name</th>\n",
       "      <th>summary</th>\n",
       "      <th>space</th>\n",
       "      <th>description</th>\n",
       "      <th>experiences_offered</th>\n",
       "      <th>neighborhood_overview</th>\n",
       "      <th>notes</th>\n",
       "      <th>transit</th>\n",
       "      <th>access</th>\n",
       "      <th>interaction</th>\n",
       "      <th>house_rules</th>\n",
       "      <th>thumbnail_url</th>\n",
       "      <th>medium_url</th>\n",
       "      <th>picture_url</th>\n",
       "      <th>xl_picture_url</th>\n",
       "      <th>host_id</th>\n",
       "      <th>host_url</th>\n",
       "      <th>host_name</th>\n",
       "      <th>host_since</th>\n",
       "      <th>host_location</th>\n",
       "      <th>host_about</th>\n",
       "      <th>host_response_time</th>\n",
       "      <th>host_response_rate</th>\n",
       "      <th>host_acceptance_rate</th>\n",
       "      <th>host_is_superhost</th>\n",
       "      <th>host_thumbnail_url</th>\n",
       "      <th>host_picture_url</th>\n",
       "      <th>host_neighbourhood</th>\n",
       "      <th>host_listings_count</th>\n",
       "      <th>host_total_listings_count</th>\n",
       "      <th>host_verifications</th>\n",
       "      <th>host_has_profile_pic</th>\n",
       "      <th>host_identity_verified</th>\n",
       "      <th>street</th>\n",
       "      <th>neighbourhood</th>\n",
       "      <th>neighbourhood_cleansed</th>\n",
       "      <th>neighbourhood_group_cleansed</th>\n",
       "      <th>city</th>\n",
       "      <th>state</th>\n",
       "      <th>zipcode</th>\n",
       "      <th>market</th>\n",
       "      <th>smart_location</th>\n",
       "      <th>country_code</th>\n",
       "      <th>country</th>\n",
       "      <th>latitude</th>\n",
       "      <th>longitude</th>\n",
       "      <th>is_location_exact</th>\n",
       "      <th>property_type</th>\n",
       "      <th>room_type</th>\n",
       "      <th>accommodates</th>\n",
       "      <th>bathrooms</th>\n",
       "      <th>bedrooms</th>\n",
       "      <th>beds</th>\n",
       "      <th>bed_type</th>\n",
       "      <th>amenities</th>\n",
       "      <th>square_feet</th>\n",
       "      <th>price</th>\n",
       "      <th>weekly_price</th>\n",
       "      <th>monthly_price</th>\n",
       "      <th>security_deposit</th>\n",
       "      <th>cleaning_fee</th>\n",
       "      <th>guests_included</th>\n",
       "      <th>extra_people</th>\n",
       "      <th>minimum_nights</th>\n",
       "      <th>maximum_nights</th>\n",
       "      <th>minimum_minimum_nights</th>\n",
       "      <th>maximum_minimum_nights</th>\n",
       "      <th>minimum_maximum_nights</th>\n",
       "      <th>maximum_maximum_nights</th>\n",
       "      <th>minimum_nights_avg_ntm</th>\n",
       "      <th>maximum_nights_avg_ntm</th>\n",
       "      <th>calendar_updated</th>\n",
       "      <th>has_availability</th>\n",
       "      <th>availability_30</th>\n",
       "      <th>availability_60</th>\n",
       "      <th>availability_90</th>\n",
       "      <th>availability_365</th>\n",
       "      <th>calendar_last_scraped</th>\n",
       "      <th>number_of_reviews</th>\n",
       "      <th>number_of_reviews_ltm</th>\n",
       "      <th>first_review</th>\n",
       "      <th>last_review</th>\n",
       "      <th>review_scores_rating</th>\n",
       "      <th>review_scores_accuracy</th>\n",
       "      <th>review_scores_cleanliness</th>\n",
       "      <th>review_scores_checkin</th>\n",
       "      <th>review_scores_communication</th>\n",
       "      <th>review_scores_location</th>\n",
       "      <th>review_scores_value</th>\n",
       "      <th>requires_license</th>\n",
       "      <th>license</th>\n",
       "      <th>jurisdiction_names</th>\n",
       "      <th>instant_bookable</th>\n",
       "      <th>is_business_travel_ready</th>\n",
       "      <th>cancellation_policy</th>\n",
       "      <th>require_guest_profile_picture</th>\n",
       "      <th>require_guest_phone_verification</th>\n",
       "      <th>calculated_host_listings_count</th>\n",
       "      <th>calculated_host_listings_count_entire_homes</th>\n",
       "      <th>calculated_host_listings_count_private_rooms</th>\n",
       "      <th>calculated_host_listings_count_shared_rooms</th>\n",
       "      <th>reviews_per_month</th>\n",
       "    </tr>\n",
       "  </thead>\n",
       "  <tbody>\n",
       "    <tr>\n",
       "      <th>0</th>\n",
       "      <td>0</td>\n",
       "      <td>2577</td>\n",
       "      <td>https://www.airbnb.com/rooms/2577</td>\n",
       "      <td>20190205040859</td>\n",
       "      <td>2019-02-05</td>\n",
       "      <td>Loft for 4 by Canal Saint Martin</td>\n",
       "      <td>100 m2 loft (1100 sq feet) with high ceiling, ...</td>\n",
       "      <td>The district has any service or shop you may d...</td>\n",
       "      <td>100 m2 loft (1100 sq feet) with high ceiling, ...</td>\n",
       "      <td>none</td>\n",
       "      <td>None</td>\n",
       "      <td>None</td>\n",
       "      <td>Metro lines : 4, 8, 3, 11, 9.</td>\n",
       "      <td>None</td>\n",
       "      <td>None</td>\n",
       "      <td>None</td>\n",
       "      <td>None</td>\n",
       "      <td>None</td>\n",
       "      <td>https://a0.muscache.com/im/pictures/09da057c-0...</td>\n",
       "      <td>None</td>\n",
       "      <td>2827</td>\n",
       "      <td>https://www.airbnb.com/users/show/2827</td>\n",
       "      <td>Karine</td>\n",
       "      <td>2008-09-09</td>\n",
       "      <td>Casablanca, Grand Casablanca, Morocco</td>\n",
       "      <td>Arrivée à Casablanca il y a 4 ans, je suis amo...</td>\n",
       "      <td>within a few hours</td>\n",
       "      <td>80%</td>\n",
       "      <td>None</td>\n",
       "      <td>f</td>\n",
       "      <td>https://a0.muscache.com/im/pictures/17fe6c88-a...</td>\n",
       "      <td>https://a0.muscache.com/im/pictures/17fe6c88-a...</td>\n",
       "      <td>République</td>\n",
       "      <td>2.0</td>\n",
       "      <td>2.0</td>\n",
       "      <td>['email', 'phone', 'reviews', 'jumio', 'govern...</td>\n",
       "      <td>t</td>\n",
       "      <td>t</td>\n",
       "      <td>Paris, Île-de-France, France</td>\n",
       "      <td>République</td>\n",
       "      <td>Entrepôt</td>\n",
       "      <td>None</td>\n",
       "      <td>Paris</td>\n",
       "      <td>Île-de-France</td>\n",
       "      <td>75010</td>\n",
       "      <td>Paris</td>\n",
       "      <td>Paris, France</td>\n",
       "      <td>FR</td>\n",
       "      <td>France</td>\n",
       "      <td>48.869933</td>\n",
       "      <td>2.362511</td>\n",
       "      <td>t</td>\n",
       "      <td>Loft</td>\n",
       "      <td>Entire home/apt</td>\n",
       "      <td>4</td>\n",
       "      <td>2.0</td>\n",
       "      <td>2.0</td>\n",
       "      <td>2.0</td>\n",
       "      <td>Real Bed</td>\n",
       "      <td>{TV,Internet,Wifi,Kitchen,Heating,Washer,Dryer...</td>\n",
       "      <td>None</td>\n",
       "      <td>$125.00</td>\n",
       "      <td>None</td>\n",
       "      <td>None</td>\n",
       "      <td>$0.00</td>\n",
       "      <td>$40.00</td>\n",
       "      <td>1</td>\n",
       "      <td>$0.00</td>\n",
       "      <td>3</td>\n",
       "      <td>1125</td>\n",
       "      <td>3</td>\n",
       "      <td>3</td>\n",
       "      <td>1125</td>\n",
       "      <td>1125</td>\n",
       "      <td>3.0</td>\n",
       "      <td>1125.0</td>\n",
       "      <td>3 months ago</td>\n",
       "      <td>t</td>\n",
       "      <td>0</td>\n",
       "      <td>0</td>\n",
       "      <td>0</td>\n",
       "      <td>85</td>\n",
       "      <td>2019-02-05</td>\n",
       "      <td>1</td>\n",
       "      <td>1</td>\n",
       "      <td>2019-01-02</td>\n",
       "      <td>2019-01-02</td>\n",
       "      <td>100.0</td>\n",
       "      <td>10.0</td>\n",
       "      <td>10.0</td>\n",
       "      <td>10.0</td>\n",
       "      <td>10.0</td>\n",
       "      <td>10.0</td>\n",
       "      <td>10.0</td>\n",
       "      <td>t</td>\n",
       "      <td>None</td>\n",
       "      <td>{PARIS}</td>\n",
       "      <td>t</td>\n",
       "      <td>f</td>\n",
       "      <td>strict_14_with_grace_period</td>\n",
       "      <td>f</td>\n",
       "      <td>f</td>\n",
       "      <td>1</td>\n",
       "      <td>1</td>\n",
       "      <td>0</td>\n",
       "      <td>0</td>\n",
       "      <td>0.86</td>\n",
       "    </tr>\n",
       "  </tbody>\n",
       "</table>\n",
       "</div>"
      ],
      "text/plain": [
       "   index    id                        listing_url       scrape_id  \\\n",
       "0      0  2577  https://www.airbnb.com/rooms/2577  20190205040859   \n",
       "\n",
       "  last_scraped                              name  \\\n",
       "0   2019-02-05  Loft for 4 by Canal Saint Martin   \n",
       "\n",
       "                                             summary  \\\n",
       "0  100 m2 loft (1100 sq feet) with high ceiling, ...   \n",
       "\n",
       "                                               space  \\\n",
       "0  The district has any service or shop you may d...   \n",
       "\n",
       "                                         description experiences_offered  \\\n",
       "0  100 m2 loft (1100 sq feet) with high ceiling, ...                none   \n",
       "\n",
       "  neighborhood_overview notes                        transit access  \\\n",
       "0                  None  None  Metro lines : 4, 8, 3, 11, 9.   None   \n",
       "\n",
       "  interaction house_rules thumbnail_url medium_url  \\\n",
       "0        None        None          None       None   \n",
       "\n",
       "                                         picture_url xl_picture_url  host_id  \\\n",
       "0  https://a0.muscache.com/im/pictures/09da057c-0...           None     2827   \n",
       "\n",
       "                                 host_url host_name  host_since  \\\n",
       "0  https://www.airbnb.com/users/show/2827    Karine  2008-09-09   \n",
       "\n",
       "                           host_location  \\\n",
       "0  Casablanca, Grand Casablanca, Morocco   \n",
       "\n",
       "                                          host_about  host_response_time  \\\n",
       "0  Arrivée à Casablanca il y a 4 ans, je suis amo...  within a few hours   \n",
       "\n",
       "  host_response_rate host_acceptance_rate host_is_superhost  \\\n",
       "0                80%                 None                 f   \n",
       "\n",
       "                                  host_thumbnail_url  \\\n",
       "0  https://a0.muscache.com/im/pictures/17fe6c88-a...   \n",
       "\n",
       "                                    host_picture_url host_neighbourhood  \\\n",
       "0  https://a0.muscache.com/im/pictures/17fe6c88-a...         République   \n",
       "\n",
       "   host_listings_count  host_total_listings_count  \\\n",
       "0                  2.0                        2.0   \n",
       "\n",
       "                                  host_verifications host_has_profile_pic  \\\n",
       "0  ['email', 'phone', 'reviews', 'jumio', 'govern...                    t   \n",
       "\n",
       "  host_identity_verified                        street neighbourhood  \\\n",
       "0                      t  Paris, Île-de-France, France    République   \n",
       "\n",
       "  neighbourhood_cleansed neighbourhood_group_cleansed   city          state  \\\n",
       "0               Entrepôt                         None  Paris  Île-de-France   \n",
       "\n",
       "  zipcode market smart_location country_code country   latitude  longitude  \\\n",
       "0   75010  Paris  Paris, France           FR  France  48.869933   2.362511   \n",
       "\n",
       "  is_location_exact property_type        room_type  accommodates  bathrooms  \\\n",
       "0                 t          Loft  Entire home/apt             4        2.0   \n",
       "\n",
       "   bedrooms  beds  bed_type  \\\n",
       "0       2.0   2.0  Real Bed   \n",
       "\n",
       "                                           amenities square_feet    price  \\\n",
       "0  {TV,Internet,Wifi,Kitchen,Heating,Washer,Dryer...        None  $125.00   \n",
       "\n",
       "  weekly_price monthly_price security_deposit cleaning_fee  guests_included  \\\n",
       "0         None          None            $0.00       $40.00                1   \n",
       "\n",
       "  extra_people  minimum_nights  maximum_nights  minimum_minimum_nights  \\\n",
       "0        $0.00               3            1125                       3   \n",
       "\n",
       "   maximum_minimum_nights  minimum_maximum_nights  maximum_maximum_nights  \\\n",
       "0                       3                    1125                    1125   \n",
       "\n",
       "   minimum_nights_avg_ntm  maximum_nights_avg_ntm calendar_updated  \\\n",
       "0                     3.0                  1125.0     3 months ago   \n",
       "\n",
       "  has_availability  availability_30  availability_60  availability_90  \\\n",
       "0                t                0                0                0   \n",
       "\n",
       "   availability_365 calendar_last_scraped  number_of_reviews  \\\n",
       "0                85            2019-02-05                  1   \n",
       "\n",
       "   number_of_reviews_ltm first_review last_review  review_scores_rating  \\\n",
       "0                      1   2019-01-02  2019-01-02                 100.0   \n",
       "\n",
       "   review_scores_accuracy  review_scores_cleanliness  review_scores_checkin  \\\n",
       "0                    10.0                       10.0                   10.0   \n",
       "\n",
       "   review_scores_communication  review_scores_location  review_scores_value  \\\n",
       "0                         10.0                    10.0                 10.0   \n",
       "\n",
       "  requires_license license jurisdiction_names instant_bookable  \\\n",
       "0                t    None            {PARIS}                t   \n",
       "\n",
       "  is_business_travel_ready          cancellation_policy  \\\n",
       "0                        f  strict_14_with_grace_period   \n",
       "\n",
       "  require_guest_profile_picture require_guest_phone_verification  \\\n",
       "0                             f                                f   \n",
       "\n",
       "   calculated_host_listings_count  \\\n",
       "0                               1   \n",
       "\n",
       "   calculated_host_listings_count_entire_homes  \\\n",
       "0                                            1   \n",
       "\n",
       "   calculated_host_listings_count_private_rooms  \\\n",
       "0                                             0   \n",
       "\n",
       "   calculated_host_listings_count_shared_rooms  reviews_per_month  \n",
       "0                                            0               0.86  "
      ]
     },
     "execution_count": 6,
     "metadata": {},
     "output_type": "execute_result"
    }
   ],
   "source": [
    "pd.read_sql_query('''\n",
    "    select * from listings limit 1\n",
    "''', engine)"
   ]
  },
  {
   "cell_type": "code",
   "execution_count": 8,
   "metadata": {},
   "outputs": [
    {
     "data": {
      "text/html": [
       "<div>\n",
       "<style scoped>\n",
       "    .dataframe tbody tr th:only-of-type {\n",
       "        vertical-align: middle;\n",
       "    }\n",
       "\n",
       "    .dataframe tbody tr th {\n",
       "        vertical-align: top;\n",
       "    }\n",
       "\n",
       "    .dataframe thead th {\n",
       "        text-align: right;\n",
       "    }\n",
       "</style>\n",
       "<table border=\"1\" class=\"dataframe\">\n",
       "  <thead>\n",
       "    <tr style=\"text-align: right;\">\n",
       "      <th></th>\n",
       "      <th>cnt</th>\n",
       "    </tr>\n",
       "  </thead>\n",
       "  <tbody>\n",
       "    <tr>\n",
       "      <th>0</th>\n",
       "      <td>58067</td>\n",
       "    </tr>\n",
       "  </tbody>\n",
       "</table>\n",
       "</div>"
      ],
      "text/plain": [
       "     cnt\n",
       "0  58067"
      ]
     },
     "execution_count": 8,
     "metadata": {},
     "output_type": "execute_result"
    }
   ],
   "source": [
    "pd.read_sql_query('''\n",
    "    select count(*) as cnt from listings\n",
    "''', engine)"
   ]
  },
  {
   "cell_type": "code",
   "execution_count": 7,
   "metadata": {},
   "outputs": [
    {
     "data": {
      "text/html": [
       "<div>\n",
       "<style scoped>\n",
       "    .dataframe tbody tr th:only-of-type {\n",
       "        vertical-align: middle;\n",
       "    }\n",
       "\n",
       "    .dataframe tbody tr th {\n",
       "        vertical-align: top;\n",
       "    }\n",
       "\n",
       "    .dataframe thead th {\n",
       "        text-align: right;\n",
       "    }\n",
       "</style>\n",
       "<table border=\"1\" class=\"dataframe\">\n",
       "  <thead>\n",
       "    <tr style=\"text-align: right;\">\n",
       "      <th></th>\n",
       "      <th>cnt</th>\n",
       "    </tr>\n",
       "  </thead>\n",
       "  <tbody>\n",
       "    <tr>\n",
       "      <th>0</th>\n",
       "      <td>58067</td>\n",
       "    </tr>\n",
       "  </tbody>\n",
       "</table>\n",
       "</div>"
      ],
      "text/plain": [
       "     cnt\n",
       "0  58067"
      ]
     },
     "execution_count": 7,
     "metadata": {},
     "output_type": "execute_result"
    }
   ],
   "source": [
    "pd.read_sql_query('''\n",
    "    select count(*) as cnt from listings where has_availability = 't'\n",
    "''', engine)"
   ]
  },
  {
   "cell_type": "code",
   "execution_count": 9,
   "metadata": {},
   "outputs": [
    {
     "data": {
      "text/html": [
       "<div>\n",
       "<style scoped>\n",
       "    .dataframe tbody tr th:only-of-type {\n",
       "        vertical-align: middle;\n",
       "    }\n",
       "\n",
       "    .dataframe tbody tr th {\n",
       "        vertical-align: top;\n",
       "    }\n",
       "\n",
       "    .dataframe thead th {\n",
       "        text-align: right;\n",
       "    }\n",
       "</style>\n",
       "<table border=\"1\" class=\"dataframe\">\n",
       "  <thead>\n",
       "    <tr style=\"text-align: right;\">\n",
       "      <th></th>\n",
       "      <th>cnt</th>\n",
       "    </tr>\n",
       "  </thead>\n",
       "  <tbody>\n",
       "    <tr>\n",
       "      <th>0</th>\n",
       "      <td>26699</td>\n",
       "    </tr>\n",
       "  </tbody>\n",
       "</table>\n",
       "</div>"
      ],
      "text/plain": [
       "     cnt\n",
       "0  26699"
      ]
     },
     "execution_count": 9,
     "metadata": {},
     "output_type": "execute_result"
    }
   ],
   "source": [
    "pd.read_sql_query('''\n",
    "    select count(*) as cnt from listings where availability_90 > 0\n",
    "''', engine)"
   ]
  },
  {
   "cell_type": "code",
   "execution_count": 10,
   "metadata": {},
   "outputs": [
    {
     "data": {
      "text/html": [
       "<div>\n",
       "<style scoped>\n",
       "    .dataframe tbody tr th:only-of-type {\n",
       "        vertical-align: middle;\n",
       "    }\n",
       "\n",
       "    .dataframe tbody tr th {\n",
       "        vertical-align: top;\n",
       "    }\n",
       "\n",
       "    .dataframe thead th {\n",
       "        text-align: right;\n",
       "    }\n",
       "</style>\n",
       "<table border=\"1\" class=\"dataframe\">\n",
       "  <thead>\n",
       "    <tr style=\"text-align: right;\">\n",
       "      <th></th>\n",
       "      <th>cnt</th>\n",
       "    </tr>\n",
       "  </thead>\n",
       "  <tbody>\n",
       "    <tr>\n",
       "      <th>0</th>\n",
       "      <td>24830</td>\n",
       "    </tr>\n",
       "  </tbody>\n",
       "</table>\n",
       "</div>"
      ],
      "text/plain": [
       "     cnt\n",
       "0  24830"
      ]
     },
     "execution_count": 10,
     "metadata": {},
     "output_type": "execute_result"
    }
   ],
   "source": [
    "pd.read_sql_query('''\n",
    "    select count(*) as cnt from listings where availability_60 > 0\n",
    "''', engine)"
   ]
  },
  {
   "cell_type": "code",
   "execution_count": 11,
   "metadata": {},
   "outputs": [
    {
     "data": {
      "text/html": [
       "<div>\n",
       "<style scoped>\n",
       "    .dataframe tbody tr th:only-of-type {\n",
       "        vertical-align: middle;\n",
       "    }\n",
       "\n",
       "    .dataframe tbody tr th {\n",
       "        vertical-align: top;\n",
       "    }\n",
       "\n",
       "    .dataframe thead th {\n",
       "        text-align: right;\n",
       "    }\n",
       "</style>\n",
       "<table border=\"1\" class=\"dataframe\">\n",
       "  <thead>\n",
       "    <tr style=\"text-align: right;\">\n",
       "      <th></th>\n",
       "      <th>cnt</th>\n",
       "    </tr>\n",
       "  </thead>\n",
       "  <tbody>\n",
       "    <tr>\n",
       "      <th>0</th>\n",
       "      <td>22375</td>\n",
       "    </tr>\n",
       "  </tbody>\n",
       "</table>\n",
       "</div>"
      ],
      "text/plain": [
       "     cnt\n",
       "0  22375"
      ]
     },
     "execution_count": 11,
     "metadata": {},
     "output_type": "execute_result"
    }
   ],
   "source": [
    "pd.read_sql_query('''\n",
    "    select count(*) as cnt from listings where availability_30 > 0\n",
    "''', engine)"
   ]
  },
  {
   "cell_type": "markdown",
   "metadata": {},
   "source": [
    "# Ratings"
   ]
  },
  {
   "cell_type": "code",
   "execution_count": 13,
   "metadata": {},
   "outputs": [
    {
     "data": {
      "text/html": [
       "<div>\n",
       "<style scoped>\n",
       "    .dataframe tbody tr th:only-of-type {\n",
       "        vertical-align: middle;\n",
       "    }\n",
       "\n",
       "    .dataframe tbody tr th {\n",
       "        vertical-align: top;\n",
       "    }\n",
       "\n",
       "    .dataframe thead th {\n",
       "        text-align: right;\n",
       "    }\n",
       "</style>\n",
       "<table border=\"1\" class=\"dataframe\">\n",
       "  <thead>\n",
       "    <tr style=\"text-align: right;\">\n",
       "      <th></th>\n",
       "      <th>cnt</th>\n",
       "    </tr>\n",
       "  </thead>\n",
       "  <tbody>\n",
       "    <tr>\n",
       "      <th>0</th>\n",
       "      <td>18711</td>\n",
       "    </tr>\n",
       "  </tbody>\n",
       "</table>\n",
       "</div>"
      ],
      "text/plain": [
       "     cnt\n",
       "0  18711"
      ]
     },
     "execution_count": 13,
     "metadata": {},
     "output_type": "execute_result"
    }
   ],
   "source": [
    "pd.read_sql_query('''\n",
    "    select count(*) as cnt \n",
    "    from listings \n",
    "    where 1=1\n",
    "        and room_type = 'Entire home/apt'\n",
    "        and availability_30 > 0\n",
    "''', engine)"
   ]
  },
  {
   "cell_type": "code",
   "execution_count": 57,
   "metadata": {},
   "outputs": [
    {
     "data": {
      "text/html": [
       "<iframe id=\"igraph\" scrolling=\"no\" style=\"border:none;\" seamless=\"seamless\" src=\"https://plot.ly/~csabi.elekes/64.embed\" height=\"525px\" width=\"100%\"></iframe>"
      ],
      "text/plain": [
       "<plotly.tools.PlotlyDisplay object>"
      ]
     },
     "execution_count": 57,
     "metadata": {},
     "output_type": "execute_result"
    }
   ],
   "source": [
    "(\n",
    "    pd\n",
    "    .read_sql_query('''\n",
    "        select review_scores_rating, count(*) as cnt \n",
    "        from listings \n",
    "        where 1=1\n",
    "            and room_type = 'Entire home/apt'\n",
    "            and availability_30 > 0\n",
    "            and review_scores_rating > 0\n",
    "        group by review_scores_rating\n",
    "        order by review_scores_rating\n",
    "    ''', engine)\n",
    "    .set_index('review_scores_rating')\n",
    "    .cumsum()\n",
    "    [80:]\n",
    "    .iplot(kind = 'bar', filename = 'paris_scores_distribution', \n",
    "           layout = graph_objs.Layout(title = 'The ratings are very high<br>45% of the places have rating of 95% and above',\n",
    "                                      xaxis = dict(title = 'Rating'), yaxis = dict(title = 'Number of listings (cumulative)'))\n",
    "          )\n",
    ")"
   ]
  },
  {
   "cell_type": "code",
   "execution_count": 58,
   "metadata": {},
   "outputs": [
    {
     "data": {
      "text/html": [
       "<iframe id=\"igraph\" scrolling=\"no\" style=\"border:none;\" seamless=\"seamless\" src=\"https://plot.ly/~csabi.elekes/66.embed\" height=\"525px\" width=\"100%\"></iframe>"
      ],
      "text/plain": [
       "<plotly.tools.PlotlyDisplay object>"
      ]
     },
     "execution_count": 58,
     "metadata": {},
     "output_type": "execute_result"
    }
   ],
   "source": [
    "(\n",
    "    pd\n",
    "    .read_sql_query('''\n",
    "        select \n",
    "              (cast(price_usd/10 as int) + 1) * 10 as price\n",
    "            , count(*) as cnt \n",
    "        from listings \n",
    "        where 1=1\n",
    "            and room_type = 'Entire home/apt'\n",
    "            and availability_30 > 0\n",
    "            and review_scores_rating > 0\n",
    "        group by (cast(price_usd/10 as int) + 1) * 10\n",
    "        order by price\n",
    "    ''', engine)\n",
    "    .set_index('price')\n",
    "    #.cumsum()\n",
    "    .loc[:200, :]\n",
    "    .iplot(kind = 'bar', filename = 'paris_prices_distribution', \n",
    "           layout = graph_objs.Layout(title = 'Prices are centered around the $100-$120 region',\n",
    "                                      xaxis = dict(title = 'Nightly price ($)'), yaxis = dict(title = 'Number of listings'))\n",
    "          )\n",
    ")"
   ]
  },
  {
   "cell_type": "code",
   "execution_count": 55,
   "metadata": {},
   "outputs": [
    {
     "data": {
      "text/html": [
       "<iframe id=\"igraph\" scrolling=\"no\" style=\"border:none;\" seamless=\"seamless\" src=\"https://plot.ly/~csabi.elekes/68.embed\" height=\"525px\" width=\"100%\"></iframe>"
      ],
      "text/plain": [
       "<plotly.tools.PlotlyDisplay object>"
      ]
     },
     "execution_count": 55,
     "metadata": {},
     "output_type": "execute_result"
    }
   ],
   "source": [
    "(\n",
    "    pd\n",
    "    .read_sql_query('''\n",
    "        select \n",
    "              price_usd as price\n",
    "            , review_scores_rating\n",
    "            , count(*) as cnt\n",
    "        from listings \n",
    "        where 1=1\n",
    "            and room_type = 'Entire home/apt'\n",
    "            and availability_30 > 0\n",
    "            and review_scores_rating > 80\n",
    "            and price_usd < 200\n",
    "        group by\n",
    "              price_usd\n",
    "            , review_scores_rating\n",
    "    ''', engine)\n",
    "    .iplot(kind = 'bubble', x = 'price', y = 'review_scores_rating', size = 'cnt', filename = 'paris_price_rating_distribution')\n",
    ")"
   ]
  },
  {
   "cell_type": "markdown",
   "metadata": {},
   "source": [
    "# Correlation between ratings and prices"
   ]
  },
  {
   "cell_type": "code",
   "execution_count": 8,
   "metadata": {},
   "outputs": [],
   "source": [
    "price_scores = (\n",
    "    pd\n",
    "    .read_sql_query('''\n",
    "        select \n",
    "              price_usd as price\n",
    "            , review_scores_rating as scores\n",
    "        from listings \n",
    "        where 1=1\n",
    "            and room_type = 'Entire home/apt'\n",
    "            and availability_30 > 0\n",
    "            and review_scores_rating > 80\n",
    "            and price_usd < 200\n",
    "    ''', engine)\n",
    ")"
   ]
  },
  {
   "cell_type": "code",
   "execution_count": 9,
   "metadata": {},
   "outputs": [
    {
     "data": {
      "text/html": [
       "<div>\n",
       "<style scoped>\n",
       "    .dataframe tbody tr th:only-of-type {\n",
       "        vertical-align: middle;\n",
       "    }\n",
       "\n",
       "    .dataframe tbody tr th {\n",
       "        vertical-align: top;\n",
       "    }\n",
       "\n",
       "    .dataframe thead th {\n",
       "        text-align: right;\n",
       "    }\n",
       "</style>\n",
       "<table border=\"1\" class=\"dataframe\">\n",
       "  <thead>\n",
       "    <tr style=\"text-align: right;\">\n",
       "      <th></th>\n",
       "      <th>price</th>\n",
       "      <th>scores</th>\n",
       "    </tr>\n",
       "  </thead>\n",
       "  <tbody>\n",
       "    <tr>\n",
       "      <th>0</th>\n",
       "      <td>115.0</td>\n",
       "      <td>93.0</td>\n",
       "    </tr>\n",
       "    <tr>\n",
       "      <th>1</th>\n",
       "      <td>115.0</td>\n",
       "      <td>94.0</td>\n",
       "    </tr>\n",
       "    <tr>\n",
       "      <th>2</th>\n",
       "      <td>90.0</td>\n",
       "      <td>100.0</td>\n",
       "    </tr>\n",
       "    <tr>\n",
       "      <th>3</th>\n",
       "      <td>85.0</td>\n",
       "      <td>88.0</td>\n",
       "    </tr>\n",
       "    <tr>\n",
       "      <th>4</th>\n",
       "      <td>79.0</td>\n",
       "      <td>89.0</td>\n",
       "    </tr>\n",
       "  </tbody>\n",
       "</table>\n",
       "</div>"
      ],
      "text/plain": [
       "   price  scores\n",
       "0  115.0    93.0\n",
       "1  115.0    94.0\n",
       "2   90.0   100.0\n",
       "3   85.0    88.0\n",
       "4   79.0    89.0"
      ]
     },
     "execution_count": 9,
     "metadata": {},
     "output_type": "execute_result"
    }
   ],
   "source": [
    "price_scores.head()"
   ]
  },
  {
   "cell_type": "code",
   "execution_count": 10,
   "metadata": {},
   "outputs": [
    {
     "data": {
      "text/plain": [
       "price     12380\n",
       "scores    12380\n",
       "dtype: int64"
      ]
     },
     "execution_count": 10,
     "metadata": {},
     "output_type": "execute_result"
    }
   ],
   "source": [
    "price_scores.count()"
   ]
  },
  {
   "cell_type": "markdown",
   "metadata": {},
   "source": [
    "### wooo, it's only 0.11!"
   ]
  },
  {
   "cell_type": "code",
   "execution_count": 11,
   "metadata": {},
   "outputs": [
    {
     "data": {
      "text/plain": [
       "0.11104075794148578"
      ]
     },
     "execution_count": 11,
     "metadata": {},
     "output_type": "execute_result"
    }
   ],
   "source": [
    "price_scores['price'].corr(price_scores['scores'])"
   ]
  },
  {
   "cell_type": "markdown",
   "metadata": {},
   "source": [
    "### And taking cleaning fees into account only makes it worse"
   ]
  },
  {
   "cell_type": "code",
   "execution_count": 17,
   "metadata": {},
   "outputs": [],
   "source": [
    "price_scores_with_cleaning = (\n",
    "    pd\n",
    "    .read_sql_query('''\n",
    "        select \n",
    "              price_usd + cleaning/3 as price\n",
    "            , review_scores_rating as scores\n",
    "        from listings \n",
    "        where 1=1\n",
    "            and room_type = 'Entire home/apt'\n",
    "            and availability_30 > 0\n",
    "            and review_scores_rating > 80\n",
    "            and price_usd < 200\n",
    "    ''', engine)\n",
    ")"
   ]
  },
  {
   "cell_type": "code",
   "execution_count": 18,
   "metadata": {},
   "outputs": [
    {
     "data": {
      "text/html": [
       "<div>\n",
       "<style scoped>\n",
       "    .dataframe tbody tr th:only-of-type {\n",
       "        vertical-align: middle;\n",
       "    }\n",
       "\n",
       "    .dataframe tbody tr th {\n",
       "        vertical-align: top;\n",
       "    }\n",
       "\n",
       "    .dataframe thead th {\n",
       "        text-align: right;\n",
       "    }\n",
       "</style>\n",
       "<table border=\"1\" class=\"dataframe\">\n",
       "  <thead>\n",
       "    <tr style=\"text-align: right;\">\n",
       "      <th></th>\n",
       "      <th>price</th>\n",
       "      <th>scores</th>\n",
       "    </tr>\n",
       "  </thead>\n",
       "  <tbody>\n",
       "    <tr>\n",
       "      <th>0</th>\n",
       "      <td>127.000000</td>\n",
       "      <td>93.0</td>\n",
       "    </tr>\n",
       "    <tr>\n",
       "      <th>1</th>\n",
       "      <td>131.666667</td>\n",
       "      <td>94.0</td>\n",
       "    </tr>\n",
       "    <tr>\n",
       "      <th>2</th>\n",
       "      <td>90.000000</td>\n",
       "      <td>100.0</td>\n",
       "    </tr>\n",
       "    <tr>\n",
       "      <th>3</th>\n",
       "      <td>105.000000</td>\n",
       "      <td>88.0</td>\n",
       "    </tr>\n",
       "    <tr>\n",
       "      <th>4</th>\n",
       "      <td>87.333333</td>\n",
       "      <td>89.0</td>\n",
       "    </tr>\n",
       "  </tbody>\n",
       "</table>\n",
       "</div>"
      ],
      "text/plain": [
       "        price  scores\n",
       "0  127.000000    93.0\n",
       "1  131.666667    94.0\n",
       "2   90.000000   100.0\n",
       "3  105.000000    88.0\n",
       "4   87.333333    89.0"
      ]
     },
     "execution_count": 18,
     "metadata": {},
     "output_type": "execute_result"
    }
   ],
   "source": [
    "price_scores_with_cleaning.head()"
   ]
  },
  {
   "cell_type": "code",
   "execution_count": 19,
   "metadata": {},
   "outputs": [
    {
     "data": {
      "text/plain": [
       "0.08950127179722778"
      ]
     },
     "execution_count": 19,
     "metadata": {},
     "output_type": "execute_result"
    }
   ],
   "source": [
    "price_scores_with_cleaning['price'].corr(price_scores_with_cleaning['scores'])"
   ]
  },
  {
   "cell_type": "markdown",
   "metadata": {},
   "source": [
    "## correlation between price and ratings within the neighbourhoods \n",
    "well, it's higher, but still doesn't seem significant"
   ]
  },
  {
   "cell_type": "code",
   "execution_count": 20,
   "metadata": {},
   "outputs": [],
   "source": [
    "price_scores_neigh = (\n",
    "    pd\n",
    "    .read_sql_query('''\n",
    "        select \n",
    "              price_usd as price\n",
    "            , review_scores_rating as scores\n",
    "            , neighbourhood_cleansed as neighbourhood\n",
    "        from listings \n",
    "        where 1=1\n",
    "            and room_type = 'Entire home/apt'\n",
    "            and availability_30 > 0\n",
    "            and review_scores_rating > 80\n",
    "            and price_usd < 200\n",
    "    ''', engine)\n",
    ")"
   ]
  },
  {
   "cell_type": "code",
   "execution_count": 59,
   "metadata": {},
   "outputs": [
    {
     "data": {
      "image/png": "[encoded data removed]",
      "text/plain": [
       "<Figure size 1152x432 with 1 Axes>"
      ]
     },
     "metadata": {
      "needs_background": "light"
     },
     "output_type": "display_data"
    }
   ],
   "source": [
    "price_scores_neigh.groupby('neighbourhood')[['price', 'scores']].corr().iloc[0::2][['scores']].unstack().scores.price.plot(kind = 'bar', title = 'Correlation coefficients between price and rating', figsize = (16, 6));"
   ]
  },
  {
   "cell_type": "markdown",
   "metadata": {},
   "source": [
    "# instant_bookable versus price\n",
    "doesn't seem to matter much"
   ]
  },
  {
   "cell_type": "code",
   "execution_count": 33,
   "metadata": {},
   "outputs": [],
   "source": [
    "price_instant_neigh = (\n",
    "    pd\n",
    "    .read_sql_query('''\n",
    "        select \n",
    "              price_usd as price\n",
    "            , instant_bookable\n",
    "            , neighbourhood_cleansed as neighbourhood\n",
    "        from listings \n",
    "        where 1=1\n",
    "            and room_type = 'Entire home/apt'\n",
    "            and availability_30 > 0\n",
    "            and review_scores_rating > 80\n",
    "            and price_usd < 200\n",
    "    ''', engine)\n",
    ")"
   ]
  },
  {
   "cell_type": "code",
   "execution_count": 63,
   "metadata": {},
   "outputs": [
    {
     "data": {
      "image/png": "[encoded data removed]",
      "text/plain": [
       "<Figure size 1152x432 with 1 Axes>"
      ]
     },
     "metadata": {
      "needs_background": "light"
     },
     "output_type": "display_data"
    }
   ],
   "source": [
    "(\n",
    "    price_instant_neigh\n",
    "    .query(\"neighbourhood in ['Luxembourg', 'Louvre', 'Élysée', 'Hôtel', 'Temple', 'Bourse', 'Palais', 'Panthéon', 'Opéra']\")\n",
    "    .pivot_table(index = 'neighbourhood', columns = 'instant_bookable', values = 'price', aggfunc = ['mean', 'count'])\n",
    "    ['mean']\n",
    "    .plot(kind = 'bar', title = 'No big difference between the price of instant bookable and the other', figsize = (16, 6))\n",
    ");"
   ]
  },
  {
   "cell_type": "code",
   "execution_count": 67,
   "metadata": {},
   "outputs": [
    {
     "data": {
      "image/png": "[encoded data removed]",
      "text/plain": [
       "<Figure size 1152x432 with 1 Axes>"
      ]
     },
     "metadata": {
      "needs_background": "light"
     },
     "output_type": "display_data"
    }
   ],
   "source": [
    "(\n",
    "    price_instant_neigh\n",
    "    .query(\"neighbourhood not in ['Luxembourg', 'Louvre', 'Élysée', 'Hôtel', 'Temple', 'Bourse', 'Palais', 'Panthéon', 'Opéra']\")\n",
    "    .pivot_table(index = 'neighbourhood', columns = 'instant_bookable', values = 'price', aggfunc = ['mean', 'count'])\n",
    "    ['mean']\n",
    "    .plot(kind = 'bar', title = 'No big difference between the price of instant bookable and the other', figsize = (16, 6))\n",
    ");"
   ]
  },
  {
   "cell_type": "code",
   "execution_count": 65,
   "metadata": {},
   "outputs": [
    {
     "data": {
      "image/png": "[encoded data removed]",
      "text/plain": [
       "<Figure size 1152x432 with 1 Axes>"
      ]
     },
     "metadata": {
      "needs_background": "light"
     },
     "output_type": "display_data"
    }
   ],
   "source": [
    "(\n",
    "    price_instant_neigh\n",
    "    .query(\"neighbourhood in ['Luxembourg', 'Louvre', 'Élysée', 'Hôtel', 'Temple', 'Bourse', 'Palais', 'Panthéon', 'Opéra']\")\n",
    "    .pivot_table(index = 'neighbourhood', columns = 'instant_bookable', values = 'price', aggfunc = ['mean', 'count'])\n",
    "    ['count']\n",
    "    .plot(kind = 'bar', title = 'In central neighbourhoods no clear trend between instant_bookable and the other', figsize = (16, 6))\n",
    ");"
   ]
  },
  {
   "cell_type": "markdown",
   "metadata": {},
   "source": [
    "# In the less central neighbourhoods Instant Bookable apartments are less common, but it doesn't have an impact on the price"
   ]
  },
  {
   "cell_type": "code",
   "execution_count": 66,
   "metadata": {},
   "outputs": [
    {
     "data": {
      "image/png": "[encoded data removed]",
      "text/plain": [
       "<Figure size 1152x432 with 1 Axes>"
      ]
     },
     "metadata": {
      "needs_background": "light"
     },
     "output_type": "display_data"
    }
   ],
   "source": [
    "(\n",
    "    price_instant_neigh\n",
    "    .query(\"neighbourhood not in ['Luxembourg', 'Louvre', 'Élysée', 'Hôtel', 'Temple', 'Bourse', 'Palais', 'Panthéon', 'Opéra']\")\n",
    "    .pivot_table(index = 'neighbourhood', columns = 'instant_bookable', values = 'price', aggfunc = ['mean', 'count'])\n",
    "    ['count']\n",
    "    .plot(kind = 'bar', title = 'In non-central neighbourhoods non-instant bookable are more frequent', figsize = (16, 6))\n",
    ");"
   ]
  },
  {
   "cell_type": "code",
   "execution_count": null,
   "metadata": {},
   "outputs": [],
   "source": []
  }
 ],
 "metadata": {
  "kernelspec": {
   "display_name": "Python 3",
   "language": "python",
   "name": "python3"
  },
  "language_info": {
   "codemirror_mode": {
    "name": "ipython",
    "version": 3
   },
   "file_extension": ".py",
   "mimetype": "text/x-python",
   "name": "python",
   "nbconvert_exporter": "python",
   "pygments_lexer": "ipython3",
   "version": "3.7.2"
  }
 },
 "nbformat": 4,
 "nbformat_minor": 2
}
